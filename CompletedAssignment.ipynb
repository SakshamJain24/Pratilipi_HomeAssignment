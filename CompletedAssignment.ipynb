{
 "cells": [
  {
   "cell_type": "markdown",
   "metadata": {},
   "source": [
    "## Name: Saksham Jain\n",
    "## Email: sakshamgr8online@gmail.com"
   ]
  },
  {
   "cell_type": "code",
   "execution_count": 1,
   "metadata": {
    "_cell_guid": "b1076dfc-b9ad-4769-8c92-a6c4dae69d19",
    "_uuid": "8f2839f25d086af736a60e9eeb907d3b93b6e0e5",
    "execution": {
     "iopub.execute_input": "2025-02-05T21:03:52.371812Z",
     "iopub.status.busy": "2025-02-05T21:03:52.371390Z",
     "iopub.status.idle": "2025-02-05T21:03:54.031084Z",
     "shell.execute_reply": "2025-02-05T21:03:54.030178Z",
     "shell.execute_reply.started": "2025-02-05T21:03:52.371689Z"
    },
    "trusted": true
   },
   "outputs": [
    {
     "name": "stdout",
     "output_type": "stream",
     "text": [
      "/kaggle/input/pratilipi-dataset/user_interaction.csv\n",
      "/kaggle/input/pratilipi-dataset/metadata.csv\n"
     ]
    }
   ],
   "source": [
    "import numpy as np \n",
    "import pandas as pd \n",
    "import os\n",
    "import numpy as np\n",
    "import gensim\n",
    "import matplotlib.pyplot as plt\n",
    "import seaborn as sns\n",
    "import gensim.downloader as api\n",
    "import seaborn as sns\n",
    "from collections import defaultdict\n",
    "from sklearn.feature_extraction.text import TfidfVectorizer\n",
    "\n",
    "for dirname, _, filenames in os.walk('/kaggle/input'):\n",
    "    for filename in filenames:\n",
    "        print(os.path.join(dirname, filename))"
   ]
  },
  {
   "cell_type": "code",
   "execution_count": 2,
   "metadata": {
    "execution": {
     "iopub.execute_input": "2025-02-05T21:03:59.082225Z",
     "iopub.status.busy": "2025-02-05T21:03:59.081934Z",
     "iopub.status.idle": "2025-02-05T21:03:59.089507Z",
     "shell.execute_reply": "2025-02-05T21:03:59.088463Z",
     "shell.execute_reply.started": "2025-02-05T21:03:59.082196Z"
    },
    "trusted": true
   },
   "outputs": [],
   "source": [
    "%matplotlib inline"
   ]
  },
  {
   "cell_type": "code",
   "execution_count": 3,
   "metadata": {
    "execution": {
     "iopub.execute_input": "2025-02-05T21:04:05.390557Z",
     "iopub.status.busy": "2025-02-05T21:04:05.389571Z",
     "iopub.status.idle": "2025-02-05T21:04:10.728086Z",
     "shell.execute_reply": "2025-02-05T21:04:10.727130Z",
     "shell.execute_reply.started": "2025-02-05T21:04:05.390506Z"
    },
    "trusted": true
   },
   "outputs": [],
   "source": [
    "indata= pd.read_csv(\"/kaggle/input/pratilipi-dataset/user_interaction.csv\")"
   ]
  },
  {
   "cell_type": "code",
   "execution_count": 4,
   "metadata": {
    "execution": {
     "iopub.execute_input": "2025-02-05T21:04:10.730080Z",
     "iopub.status.busy": "2025-02-05T21:04:10.729749Z",
     "iopub.status.idle": "2025-02-05T21:04:13.813334Z",
     "shell.execute_reply": "2025-02-05T21:04:13.812519Z",
     "shell.execute_reply.started": "2025-02-05T21:04:10.730029Z"
    },
    "trusted": true
   },
   "outputs": [],
   "source": [
    "metadata = pd.read_csv(\"/kaggle/input/pratilipi-dataset/metadata.csv\")"
   ]
  },
  {
   "cell_type": "code",
   "execution_count": 5,
   "metadata": {
    "execution": {
     "iopub.execute_input": "2025-02-05T21:04:17.213368Z",
     "iopub.status.busy": "2025-02-05T21:04:17.212537Z",
     "iopub.status.idle": "2025-02-05T21:04:17.235342Z",
     "shell.execute_reply": "2025-02-05T21:04:17.234376Z",
     "shell.execute_reply.started": "2025-02-05T21:04:17.213321Z"
    },
    "trusted": true
   },
   "outputs": [
    {
     "data": {
      "text/html": [
       "<div>\n",
       "<style scoped>\n",
       "    .dataframe tbody tr th:only-of-type {\n",
       "        vertical-align: middle;\n",
       "    }\n",
       "\n",
       "    .dataframe tbody tr th {\n",
       "        vertical-align: top;\n",
       "    }\n",
       "\n",
       "    .dataframe thead th {\n",
       "        text-align: right;\n",
       "    }\n",
       "</style>\n",
       "<table border=\"1\" class=\"dataframe\">\n",
       "  <thead>\n",
       "    <tr style=\"text-align: right;\">\n",
       "      <th></th>\n",
       "      <th>user_id</th>\n",
       "      <th>pratilipi_id</th>\n",
       "      <th>read_percent</th>\n",
       "      <th>updated_at</th>\n",
       "    </tr>\n",
       "  </thead>\n",
       "  <tbody>\n",
       "    <tr>\n",
       "      <th>0</th>\n",
       "      <td>5506791961876448</td>\n",
       "      <td>1377786228262109</td>\n",
       "      <td>100.0</td>\n",
       "      <td>2022-03-22 10:29:57.291</td>\n",
       "    </tr>\n",
       "    <tr>\n",
       "      <th>1</th>\n",
       "      <td>5506791971543560</td>\n",
       "      <td>1377786223038206</td>\n",
       "      <td>40.0</td>\n",
       "      <td>2022-03-19 13:49:25.660</td>\n",
       "    </tr>\n",
       "    <tr>\n",
       "      <th>2</th>\n",
       "      <td>5506791996468218</td>\n",
       "      <td>1377786227025240</td>\n",
       "      <td>100.0</td>\n",
       "      <td>2022-03-21 17:28:47.288</td>\n",
       "    </tr>\n",
       "    <tr>\n",
       "      <th>3</th>\n",
       "      <td>5506791978752866</td>\n",
       "      <td>1377786222398208</td>\n",
       "      <td>65.0</td>\n",
       "      <td>2022-03-21 07:39:25.183</td>\n",
       "    </tr>\n",
       "    <tr>\n",
       "      <th>4</th>\n",
       "      <td>5506791978962946</td>\n",
       "      <td>1377786228157051</td>\n",
       "      <td>100.0</td>\n",
       "      <td>2022-03-22 17:32:44.777</td>\n",
       "    </tr>\n",
       "  </tbody>\n",
       "</table>\n",
       "</div>"
      ],
      "text/plain": [
       "            user_id      pratilipi_id  read_percent               updated_at\n",
       "0  5506791961876448  1377786228262109         100.0  2022-03-22 10:29:57.291\n",
       "1  5506791971543560  1377786223038206          40.0  2022-03-19 13:49:25.660\n",
       "2  5506791996468218  1377786227025240         100.0  2022-03-21 17:28:47.288\n",
       "3  5506791978752866  1377786222398208          65.0  2022-03-21 07:39:25.183\n",
       "4  5506791978962946  1377786228157051         100.0  2022-03-22 17:32:44.777"
      ]
     },
     "execution_count": 5,
     "metadata": {},
     "output_type": "execute_result"
    }
   ],
   "source": [
    "indata.head()"
   ]
  },
  {
   "cell_type": "code",
   "execution_count": 6,
   "metadata": {
    "execution": {
     "iopub.execute_input": "2025-02-05T21:04:17.681989Z",
     "iopub.status.busy": "2025-02-05T21:04:17.681262Z",
     "iopub.status.idle": "2025-02-05T21:04:17.693402Z",
     "shell.execute_reply": "2025-02-05T21:04:17.692402Z",
     "shell.execute_reply.started": "2025-02-05T21:04:17.681944Z"
    },
    "trusted": true
   },
   "outputs": [
    {
     "data": {
      "text/html": [
       "<div>\n",
       "<style scoped>\n",
       "    .dataframe tbody tr th:only-of-type {\n",
       "        vertical-align: middle;\n",
       "    }\n",
       "\n",
       "    .dataframe tbody tr th {\n",
       "        vertical-align: top;\n",
       "    }\n",
       "\n",
       "    .dataframe thead th {\n",
       "        text-align: right;\n",
       "    }\n",
       "</style>\n",
       "<table border=\"1\" class=\"dataframe\">\n",
       "  <thead>\n",
       "    <tr style=\"text-align: right;\">\n",
       "      <th></th>\n",
       "      <th>author_id</th>\n",
       "      <th>pratilipi_id</th>\n",
       "      <th>category_name</th>\n",
       "      <th>reading_time</th>\n",
       "      <th>updated_at</th>\n",
       "      <th>published_at</th>\n",
       "    </tr>\n",
       "  </thead>\n",
       "  <tbody>\n",
       "    <tr>\n",
       "      <th>0</th>\n",
       "      <td>-3418949279741297</td>\n",
       "      <td>1025741862639304</td>\n",
       "      <td>translation</td>\n",
       "      <td>0</td>\n",
       "      <td>2020-08-19 15:26:13</td>\n",
       "      <td>2016-09-30 10:37:04</td>\n",
       "    </tr>\n",
       "    <tr>\n",
       "      <th>1</th>\n",
       "      <td>-2270332351871840</td>\n",
       "      <td>1377786215601277</td>\n",
       "      <td>translation</td>\n",
       "      <td>171</td>\n",
       "      <td>2021-01-21 16:27:07</td>\n",
       "      <td>2018-06-11 13:17:48</td>\n",
       "    </tr>\n",
       "    <tr>\n",
       "      <th>2</th>\n",
       "      <td>-2270332352037261</td>\n",
       "      <td>1377786215601962</td>\n",
       "      <td>translation</td>\n",
       "      <td>92</td>\n",
       "      <td>2020-09-29 12:33:57</td>\n",
       "      <td>2018-06-12 04:19:12</td>\n",
       "    </tr>\n",
       "    <tr>\n",
       "      <th>3</th>\n",
       "      <td>-2270332352521845</td>\n",
       "      <td>1377786215640994</td>\n",
       "      <td>translation</td>\n",
       "      <td>0</td>\n",
       "      <td>2019-10-17 09:03:37</td>\n",
       "      <td>2019-09-26 14:58:53</td>\n",
       "    </tr>\n",
       "    <tr>\n",
       "      <th>4</th>\n",
       "      <td>-2270332349665658</td>\n",
       "      <td>1377786215931338</td>\n",
       "      <td>translation</td>\n",
       "      <td>47</td>\n",
       "      <td>2020-05-05 11:33:41</td>\n",
       "      <td>2018-11-25 12:28:23</td>\n",
       "    </tr>\n",
       "  </tbody>\n",
       "</table>\n",
       "</div>"
      ],
      "text/plain": [
       "          author_id      pratilipi_id category_name  reading_time  \\\n",
       "0 -3418949279741297  1025741862639304   translation             0   \n",
       "1 -2270332351871840  1377786215601277   translation           171   \n",
       "2 -2270332352037261  1377786215601962   translation            92   \n",
       "3 -2270332352521845  1377786215640994   translation             0   \n",
       "4 -2270332349665658  1377786215931338   translation            47   \n",
       "\n",
       "            updated_at         published_at  \n",
       "0  2020-08-19 15:26:13  2016-09-30 10:37:04  \n",
       "1  2021-01-21 16:27:07  2018-06-11 13:17:48  \n",
       "2  2020-09-29 12:33:57  2018-06-12 04:19:12  \n",
       "3  2019-10-17 09:03:37  2019-09-26 14:58:53  \n",
       "4  2020-05-05 11:33:41  2018-11-25 12:28:23  "
      ]
     },
     "execution_count": 6,
     "metadata": {},
     "output_type": "execute_result"
    }
   ],
   "source": [
    "metadata.head()"
   ]
  },
  {
   "cell_type": "code",
   "execution_count": 7,
   "metadata": {
    "execution": {
     "iopub.execute_input": "2025-02-05T21:04:21.393518Z",
     "iopub.status.busy": "2025-02-05T21:04:21.392550Z",
     "iopub.status.idle": "2025-02-05T21:04:21.399734Z",
     "shell.execute_reply": "2025-02-05T21:04:21.398755Z",
     "shell.execute_reply.started": "2025-02-05T21:04:21.393475Z"
    },
    "trusted": true
   },
   "outputs": [
    {
     "data": {
      "text/plain": [
       "((954501, 6), (2500000, 4))"
      ]
     },
     "execution_count": 7,
     "metadata": {},
     "output_type": "execute_result"
    }
   ],
   "source": [
    "metadata.shape,indata.shape"
   ]
  },
  {
   "cell_type": "code",
   "execution_count": 8,
   "metadata": {
    "execution": {
     "iopub.execute_input": "2025-02-05T21:04:21.901048Z",
     "iopub.status.busy": "2025-02-05T21:04:21.900040Z",
     "iopub.status.idle": "2025-02-05T21:04:21.907704Z",
     "shell.execute_reply": "2025-02-05T21:04:21.906748Z",
     "shell.execute_reply.started": "2025-02-05T21:04:21.900999Z"
    },
    "trusted": true
   },
   "outputs": [
    {
     "data": {
      "text/plain": [
       "(Index(['author_id', 'pratilipi_id', 'category_name', 'reading_time',\n",
       "        'updated_at', 'published_at'],\n",
       "       dtype='object'),\n",
       " Index(['user_id', 'pratilipi_id', 'read_percent', 'updated_at'], dtype='object'))"
      ]
     },
     "execution_count": 8,
     "metadata": {},
     "output_type": "execute_result"
    }
   ],
   "source": [
    "metadata.columns,indata.columns"
   ]
  },
  {
   "cell_type": "markdown",
   "metadata": {},
   "source": [
    "## Visualization and Understanding Distributions across DataSet"
   ]
  },
  {
   "cell_type": "code",
   "execution_count": 9,
   "metadata": {
    "execution": {
     "iopub.execute_input": "2025-02-05T21:04:29.497578Z",
     "iopub.status.busy": "2025-02-05T21:04:29.497298Z",
     "iopub.status.idle": "2025-02-05T21:04:29.562286Z",
     "shell.execute_reply": "2025-02-05T21:04:29.561159Z",
     "shell.execute_reply.started": "2025-02-05T21:04:29.497549Z"
    },
    "trusted": true
   },
   "outputs": [
    {
     "data": {
      "text/plain": [
       "romance                      193220\n",
       "shortstories                 102097\n",
       "social                        73920\n",
       "suspense                      64041\n",
       "family                        58515\n",
       "novels                        53584\n",
       "life                          51356\n",
       "moral-inspiring               47421\n",
       "women                         37168\n",
       "horror                        28506\n",
       "entertainment                 23362\n",
       "action-and-adventure          21589\n",
       "experiences-and-memories      20276\n",
       "webseries                     16227\n",
       "relegion-and-spiritual        15476\n",
       "comedy                        14893\n",
       "Pratilipi-kalamkar-samman     13237\n",
       "mythology                     12324\n",
       "children                      10196\n",
       "Indiawale                      9674\n",
       "Pratilipi-Awards-Hindi         9342\n",
       "fantasy                        9324\n",
       "swahindi2                      7853\n",
       "drama                          7387\n",
       "crime                          7151\n",
       "politics                       5810\n",
       "translation                    4250\n",
       "short-story-challenge          3534\n",
       "murder-mystery                 3491\n",
       "Serieswriting                  3297\n",
       "Horror-Marathon                2973\n",
       "crime-lekhan                   2966\n",
       "health-and-wellness            2874\n",
       "science-fiction                2813\n",
       "pratilipi-kids                 2676\n",
       "detective                      2229\n",
       "premkamahina                   1971\n",
       "krishi-jeevan                  1751\n",
       "The-Chat-Story                 1635\n",
       "Parytan                        1462\n",
       "pravasi-sahitya                 864\n",
       "cyber-crime-fiction             487\n",
       "Radio-Fiction                   470\n",
       "Rashtriya                       446\n",
       "erotica                         363\n",
       "Name: category_name, dtype: int64"
      ]
     },
     "execution_count": 9,
     "metadata": {},
     "output_type": "execute_result"
    }
   ],
   "source": [
    "# Frequency across categories\n",
    "metadata[\"category_name\"].value_counts()"
   ]
  },
  {
   "cell_type": "code",
   "execution_count": 10,
   "metadata": {
    "execution": {
     "iopub.execute_input": "2025-02-05T21:04:34.951112Z",
     "iopub.status.busy": "2025-02-05T21:04:34.950785Z",
     "iopub.status.idle": "2025-02-05T21:04:35.008955Z",
     "shell.execute_reply": "2025-02-05T21:04:35.007868Z",
     "shell.execute_reply.started": "2025-02-05T21:04:34.951079Z"
    },
    "trusted": true
   },
   "outputs": [
    {
     "data": {
      "text/plain": [
       "45"
      ]
     },
     "execution_count": 10,
     "metadata": {},
     "output_type": "execute_result"
    }
   ],
   "source": [
    "len(metadata[\"category_name\"].value_counts())"
   ]
  },
  {
   "cell_type": "code",
   "execution_count": 11,
   "metadata": {
    "execution": {
     "iopub.execute_input": "2025-02-05T21:04:36.089945Z",
     "iopub.status.busy": "2025-02-05T21:04:36.089651Z",
     "iopub.status.idle": "2025-02-05T21:04:36.467616Z",
     "shell.execute_reply": "2025-02-05T21:04:36.466729Z",
     "shell.execute_reply.started": "2025-02-05T21:04:36.089915Z"
    },
    "trusted": true
   },
   "outputs": [],
   "source": [
    "metadata[\"category_name\"] = metadata[\"category_name\"].str.replace('-','')"
   ]
  },
  {
   "cell_type": "code",
   "execution_count": 12,
   "metadata": {
    "execution": {
     "iopub.execute_input": "2025-02-05T21:04:39.444115Z",
     "iopub.status.busy": "2025-02-05T21:04:39.443800Z",
     "iopub.status.idle": "2025-02-05T21:04:39.449284Z",
     "shell.execute_reply": "2025-02-05T21:04:39.448210Z",
     "shell.execute_reply.started": "2025-02-05T21:04:39.444081Z"
    },
    "trusted": true
   },
   "outputs": [],
   "source": [
    "# Fixing plot size\n",
    "import matplotlib.pyplot as plt\n",
    "plt.rcParams[\"figure.figsize\"] = (20,20)"
   ]
  },
  {
   "cell_type": "code",
   "execution_count": 13,
   "metadata": {
    "execution": {
     "iopub.execute_input": "2025-02-05T21:04:41.012320Z",
     "iopub.status.busy": "2025-02-05T21:04:41.011372Z",
     "iopub.status.idle": "2025-02-05T21:04:41.833926Z",
     "shell.execute_reply": "2025-02-05T21:04:41.832861Z",
     "shell.execute_reply.started": "2025-02-05T21:04:41.012276Z"
    },
    "trusted": true
   },
   "outputs": [
    {
     "name": "stdout",
     "output_type": "stream",
     "text": [
      "AxesSubplot(0.125,0.125;0.775x0.755)\n"
     ]
    },
    {
     "data": {
      "image/png": "[encoded data removed]",
      "text/plain": [
       "<Figure size 1440x1440 with 1 Axes>"
      ]
     },
     "metadata": {
      "needs_background": "light"
     },
     "output_type": "display_data"
    }
   ],
   "source": [
    "print(metadata[\"category_name\"].value_counts().plot(kind='barh'))"
   ]
  },
  {
   "cell_type": "markdown",
   "metadata": {},
   "source": [
    "## Check if one pratilipi can have multiple topics or not ?!"
   ]
  },
  {
   "cell_type": "code",
   "execution_count": 14,
   "metadata": {
    "execution": {
     "iopub.execute_input": "2025-02-05T21:05:33.532873Z",
     "iopub.status.busy": "2025-02-05T21:05:33.532516Z",
     "iopub.status.idle": "2025-02-05T21:05:33.664600Z",
     "shell.execute_reply": "2025-02-05T21:05:33.663426Z",
     "shell.execute_reply.started": "2025-02-05T21:05:33.532831Z"
    },
    "trusted": true
   },
   "outputs": [
    {
     "name": "stdout",
     "output_type": "stream",
     "text": [
      "Duplicate Rows based on a pratilipi ids: 467808\n"
     ]
    }
   ],
   "source": [
    "# Considering only one author is writing one story.\n",
    "dupdata = metadata[metadata.duplicated(['pratilipi_id'])]\n",
    "print(\"Duplicate Rows based on a pratilipi ids:\", len(dupdata))"
   ]
  },
  {
   "cell_type": "markdown",
   "metadata": {},
   "source": [
    "So we know that if we group by pratilipi_id one story can have multiple category to them."
   ]
  },
  {
   "cell_type": "markdown",
   "metadata": {},
   "source": [
    "## Check if one pratilipi can have multiple authors or not ?!"
   ]
  },
  {
   "cell_type": "code",
   "execution_count": 15,
   "metadata": {
    "execution": {
     "iopub.execute_input": "2025-02-05T21:05:39.307781Z",
     "iopub.status.busy": "2025-02-05T21:05:39.306602Z",
     "iopub.status.idle": "2025-02-05T21:05:39.521641Z",
     "shell.execute_reply": "2025-02-05T21:05:39.520606Z",
     "shell.execute_reply.started": "2025-02-05T21:05:39.307729Z"
    },
    "trusted": true
   },
   "outputs": [
    {
     "name": "stdout",
     "output_type": "stream",
     "text": [
      "Duplicate Rows based on a pratilipi ids: 467808\n"
     ]
    }
   ],
   "source": [
    "# Considering only one author is writing one story.\n",
    "dupdata = metadata[metadata.duplicated(['pratilipi_id',\"author_id\"])]\n",
    "print(\"Duplicate Rows based on a pratilipi ids:\", len(dupdata))"
   ]
  },
  {
   "cell_type": "markdown",
   "metadata": {},
   "source": [
    "So we know that if we group by pratilipi_id,author_id still number of duplication is same suggesting that one story cannot have multiple author to them.\n"
   ]
  },
  {
   "cell_type": "markdown",
   "metadata": {},
   "source": [
    "## Check distribution of reading time across data"
   ]
  },
  {
   "cell_type": "code",
   "execution_count": 16,
   "metadata": {
    "execution": {
     "iopub.execute_input": "2025-02-05T21:05:45.113956Z",
     "iopub.status.busy": "2025-02-05T21:05:45.113621Z",
     "iopub.status.idle": "2025-02-05T21:05:45.125866Z",
     "shell.execute_reply": "2025-02-05T21:05:45.124783Z",
     "shell.execute_reply.started": "2025-02-05T21:05:45.113920Z"
    },
    "trusted": true
   },
   "outputs": [
    {
     "data": {
      "text/html": [
       "<div>\n",
       "<style scoped>\n",
       "    .dataframe tbody tr th:only-of-type {\n",
       "        vertical-align: middle;\n",
       "    }\n",
       "\n",
       "    .dataframe tbody tr th {\n",
       "        vertical-align: top;\n",
       "    }\n",
       "\n",
       "    .dataframe thead th {\n",
       "        text-align: right;\n",
       "    }\n",
       "</style>\n",
       "<table border=\"1\" class=\"dataframe\">\n",
       "  <thead>\n",
       "    <tr style=\"text-align: right;\">\n",
       "      <th></th>\n",
       "      <th>author_id</th>\n",
       "      <th>pratilipi_id</th>\n",
       "      <th>category_name</th>\n",
       "      <th>reading_time</th>\n",
       "      <th>updated_at</th>\n",
       "      <th>published_at</th>\n",
       "    </tr>\n",
       "  </thead>\n",
       "  <tbody>\n",
       "    <tr>\n",
       "      <th>0</th>\n",
       "      <td>-3418949279741297</td>\n",
       "      <td>1025741862639304</td>\n",
       "      <td>translation</td>\n",
       "      <td>0</td>\n",
       "      <td>2020-08-19 15:26:13</td>\n",
       "      <td>2016-09-30 10:37:04</td>\n",
       "    </tr>\n",
       "    <tr>\n",
       "      <th>1</th>\n",
       "      <td>-2270332351871840</td>\n",
       "      <td>1377786215601277</td>\n",
       "      <td>translation</td>\n",
       "      <td>171</td>\n",
       "      <td>2021-01-21 16:27:07</td>\n",
       "      <td>2018-06-11 13:17:48</td>\n",
       "    </tr>\n",
       "    <tr>\n",
       "      <th>2</th>\n",
       "      <td>-2270332352037261</td>\n",
       "      <td>1377786215601962</td>\n",
       "      <td>translation</td>\n",
       "      <td>92</td>\n",
       "      <td>2020-09-29 12:33:57</td>\n",
       "      <td>2018-06-12 04:19:12</td>\n",
       "    </tr>\n",
       "    <tr>\n",
       "      <th>3</th>\n",
       "      <td>-2270332352521845</td>\n",
       "      <td>1377786215640994</td>\n",
       "      <td>translation</td>\n",
       "      <td>0</td>\n",
       "      <td>2019-10-17 09:03:37</td>\n",
       "      <td>2019-09-26 14:58:53</td>\n",
       "    </tr>\n",
       "    <tr>\n",
       "      <th>4</th>\n",
       "      <td>-2270332349665658</td>\n",
       "      <td>1377786215931338</td>\n",
       "      <td>translation</td>\n",
       "      <td>47</td>\n",
       "      <td>2020-05-05 11:33:41</td>\n",
       "      <td>2018-11-25 12:28:23</td>\n",
       "    </tr>\n",
       "  </tbody>\n",
       "</table>\n",
       "</div>"
      ],
      "text/plain": [
       "          author_id      pratilipi_id category_name  reading_time  \\\n",
       "0 -3418949279741297  1025741862639304   translation             0   \n",
       "1 -2270332351871840  1377786215601277   translation           171   \n",
       "2 -2270332352037261  1377786215601962   translation            92   \n",
       "3 -2270332352521845  1377786215640994   translation             0   \n",
       "4 -2270332349665658  1377786215931338   translation            47   \n",
       "\n",
       "            updated_at         published_at  \n",
       "0  2020-08-19 15:26:13  2016-09-30 10:37:04  \n",
       "1  2021-01-21 16:27:07  2018-06-11 13:17:48  \n",
       "2  2020-09-29 12:33:57  2018-06-12 04:19:12  \n",
       "3  2019-10-17 09:03:37  2019-09-26 14:58:53  \n",
       "4  2020-05-05 11:33:41  2018-11-25 12:28:23  "
      ]
     },
     "execution_count": 16,
     "metadata": {},
     "output_type": "execute_result"
    }
   ],
   "source": [
    "metadata.head()"
   ]
  },
  {
   "cell_type": "code",
   "execution_count": 17,
   "metadata": {
    "execution": {
     "iopub.execute_input": "2025-02-05T21:05:46.545955Z",
     "iopub.status.busy": "2025-02-05T21:05:46.545040Z",
     "iopub.status.idle": "2025-02-05T21:05:46.550263Z",
     "shell.execute_reply": "2025-02-05T21:05:46.549254Z",
     "shell.execute_reply.started": "2025-02-05T21:05:46.545906Z"
    },
    "trusted": true
   },
   "outputs": [],
   "source": [
    "lis = [8*x for x in range(200)]"
   ]
  },
  {
   "cell_type": "code",
   "execution_count": 18,
   "metadata": {
    "execution": {
     "iopub.execute_input": "2025-02-05T21:05:47.137745Z",
     "iopub.status.busy": "2025-02-05T21:05:47.136898Z",
     "iopub.status.idle": "2025-02-05T21:05:47.957471Z",
     "shell.execute_reply": "2025-02-05T21:05:47.956557Z",
     "shell.execute_reply.started": "2025-02-05T21:05:47.137693Z"
    },
    "trusted": true
   },
   "outputs": [
    {
     "data": {
      "image/png": "[encoded data removed]",
      "text/plain": [
       "<Figure size 1440x1440 with 1 Axes>"
      ]
     },
     "metadata": {
      "needs_background": "light"
     },
     "output_type": "display_data"
    }
   ],
   "source": [
    "# distribution of reading time\n",
    "x =metadata[\"reading_time\"]\n",
    "plt.hist(x, bins=lis)\n",
    "plt.gca().set(title='Frequency Histogram', ylabel='Frequency',xlabel=\"Reading Time\");"
   ]
  },
  {
   "cell_type": "code",
   "execution_count": 19,
   "metadata": {
    "execution": {
     "iopub.execute_input": "2025-02-05T21:05:47.959395Z",
     "iopub.status.busy": "2025-02-05T21:05:47.959137Z",
     "iopub.status.idle": "2025-02-05T21:05:49.656362Z",
     "shell.execute_reply": "2025-02-05T21:05:49.655308Z",
     "shell.execute_reply.started": "2025-02-05T21:05:47.959363Z"
    },
    "trusted": true
   },
   "outputs": [
    {
     "data": {
      "image/png": "[encoded data removed]",
      "text/plain": [
       "<Figure size 1440x5760 with 1 Axes>"
      ]
     },
     "metadata": {
      "needs_background": "light"
     },
     "output_type": "display_data"
    }
   ],
   "source": [
    "# undertading IQR range and outliers\n",
    "metadata.boxplot(column=['reading_time'], return_type='axes',figsize=(20,80));"
   ]
  },
  {
   "cell_type": "code",
   "execution_count": 20,
   "metadata": {
    "execution": {
     "iopub.execute_input": "2025-02-05T21:05:55.609115Z",
     "iopub.status.busy": "2025-02-05T21:05:55.608778Z",
     "iopub.status.idle": "2025-02-05T21:05:55.615656Z",
     "shell.execute_reply": "2025-02-05T21:05:55.614548Z",
     "shell.execute_reply.started": "2025-02-05T21:05:55.609080Z"
    },
    "trusted": true
   },
   "outputs": [],
   "source": [
    "def inter_quantile_range(data, col):\n",
    "    Q3 = np.quantile(data[col], 0.75)\n",
    "    Q1 = np.quantile(data[col], 0.25)\n",
    "    IQR = Q3 - Q1\n",
    " \n",
    "    print(\"IQR value for column %s is: %s\" % (col, IQR))\n",
    "     \n",
    "    lower_range = Q1 - 1.5 * IQR\n",
    "    upper_range = Q3 + 1.5 * IQR\n",
    "    if lower_range<0:\n",
    "        lower_range = 0\n",
    "    print(\"IQR range for column is: %s-%s\" % (lower_range, upper_range))"
   ]
  },
  {
   "cell_type": "code",
   "execution_count": 21,
   "metadata": {
    "execution": {
     "iopub.execute_input": "2025-02-05T21:05:57.963120Z",
     "iopub.status.busy": "2025-02-05T21:05:57.962801Z",
     "iopub.status.idle": "2025-02-05T21:05:57.995358Z",
     "shell.execute_reply": "2025-02-05T21:05:57.994136Z",
     "shell.execute_reply.started": "2025-02-05T21:05:57.963085Z"
    },
    "trusted": true
   },
   "outputs": [
    {
     "name": "stdout",
     "output_type": "stream",
     "text": [
      "IQR value for column reading_time is: 350.0\n",
      "IQR range for column is: 0-986.0\n"
     ]
    }
   ],
   "source": [
    "inter_quantile_range(metadata, col=\"reading_time\")"
   ]
  },
  {
   "cell_type": "code",
   "execution_count": 22,
   "metadata": {
    "execution": {
     "iopub.execute_input": "2025-02-05T21:06:00.269483Z",
     "iopub.status.busy": "2025-02-05T21:06:00.269105Z",
     "iopub.status.idle": "2025-02-05T21:06:00.278347Z",
     "shell.execute_reply": "2025-02-05T21:06:00.277250Z",
     "shell.execute_reply.started": "2025-02-05T21:06:00.269446Z"
    },
    "trusted": true
   },
   "outputs": [
    {
     "data": {
      "text/plain": [
       "(0, 78983)"
      ]
     },
     "execution_count": 22,
     "metadata": {},
     "output_type": "execute_result"
    }
   ],
   "source": [
    "metadata[\"reading_time\"].min(),metadata[\"reading_time\"].max()"
   ]
  },
  {
   "cell_type": "code",
   "execution_count": 23,
   "metadata": {
    "execution": {
     "iopub.execute_input": "2025-02-05T21:06:05.317219Z",
     "iopub.status.busy": "2025-02-05T21:06:05.316931Z",
     "iopub.status.idle": "2025-02-05T21:06:05.340076Z",
     "shell.execute_reply": "2025-02-05T21:06:05.339139Z",
     "shell.execute_reply.started": "2025-02-05T21:06:05.317191Z"
    },
    "trusted": true
   },
   "outputs": [
    {
     "data": {
      "text/plain": [
       "44710"
      ]
     },
     "execution_count": 23,
     "metadata": {},
     "output_type": "execute_result"
    }
   ],
   "source": [
    "len(metadata[metadata[\"reading_time\"]>986])"
   ]
  },
  {
   "cell_type": "code",
   "execution_count": 24,
   "metadata": {
    "execution": {
     "iopub.execute_input": "2025-02-05T21:06:05.616179Z",
     "iopub.status.busy": "2025-02-05T21:06:05.615868Z",
     "iopub.status.idle": "2025-02-05T21:06:05.627305Z",
     "shell.execute_reply": "2025-02-05T21:06:05.626191Z",
     "shell.execute_reply.started": "2025-02-05T21:06:05.616146Z"
    },
    "trusted": true
   },
   "outputs": [
    {
     "data": {
      "text/plain": [
       "4055"
      ]
     },
     "execution_count": 24,
     "metadata": {},
     "output_type": "execute_result"
    }
   ],
   "source": [
    "len(metadata[metadata[\"reading_time\"]<=0])"
   ]
  },
  {
   "cell_type": "markdown",
   "metadata": {},
   "source": [
    "* We can find that there are quite a few (about 44710) outliers in the dataset according to +- 1.5 * IQR range. Apart from this we find about about 4055 instance of 0 reading time"
   ]
  },
  {
   "cell_type": "markdown",
   "metadata": {},
   "source": [
    "## Check distribution of reading percent across data"
   ]
  },
  {
   "cell_type": "code",
   "execution_count": 25,
   "metadata": {
    "execution": {
     "iopub.execute_input": "2025-02-05T21:06:08.148250Z",
     "iopub.status.busy": "2025-02-05T21:06:08.147943Z",
     "iopub.status.idle": "2025-02-05T21:06:08.161282Z",
     "shell.execute_reply": "2025-02-05T21:06:08.160061Z",
     "shell.execute_reply.started": "2025-02-05T21:06:08.148221Z"
    },
    "trusted": true
   },
   "outputs": [
    {
     "data": {
      "text/html": [
       "<div>\n",
       "<style scoped>\n",
       "    .dataframe tbody tr th:only-of-type {\n",
       "        vertical-align: middle;\n",
       "    }\n",
       "\n",
       "    .dataframe tbody tr th {\n",
       "        vertical-align: top;\n",
       "    }\n",
       "\n",
       "    .dataframe thead th {\n",
       "        text-align: right;\n",
       "    }\n",
       "</style>\n",
       "<table border=\"1\" class=\"dataframe\">\n",
       "  <thead>\n",
       "    <tr style=\"text-align: right;\">\n",
       "      <th></th>\n",
       "      <th>user_id</th>\n",
       "      <th>pratilipi_id</th>\n",
       "      <th>read_percent</th>\n",
       "      <th>updated_at</th>\n",
       "    </tr>\n",
       "  </thead>\n",
       "  <tbody>\n",
       "    <tr>\n",
       "      <th>0</th>\n",
       "      <td>5506791961876448</td>\n",
       "      <td>1377786228262109</td>\n",
       "      <td>100.0</td>\n",
       "      <td>2022-03-22 10:29:57.291</td>\n",
       "    </tr>\n",
       "    <tr>\n",
       "      <th>1</th>\n",
       "      <td>5506791971543560</td>\n",
       "      <td>1377786223038206</td>\n",
       "      <td>40.0</td>\n",
       "      <td>2022-03-19 13:49:25.660</td>\n",
       "    </tr>\n",
       "    <tr>\n",
       "      <th>2</th>\n",
       "      <td>5506791996468218</td>\n",
       "      <td>1377786227025240</td>\n",
       "      <td>100.0</td>\n",
       "      <td>2022-03-21 17:28:47.288</td>\n",
       "    </tr>\n",
       "    <tr>\n",
       "      <th>3</th>\n",
       "      <td>5506791978752866</td>\n",
       "      <td>1377786222398208</td>\n",
       "      <td>65.0</td>\n",
       "      <td>2022-03-21 07:39:25.183</td>\n",
       "    </tr>\n",
       "    <tr>\n",
       "      <th>4</th>\n",
       "      <td>5506791978962946</td>\n",
       "      <td>1377786228157051</td>\n",
       "      <td>100.0</td>\n",
       "      <td>2022-03-22 17:32:44.777</td>\n",
       "    </tr>\n",
       "  </tbody>\n",
       "</table>\n",
       "</div>"
      ],
      "text/plain": [
       "            user_id      pratilipi_id  read_percent               updated_at\n",
       "0  5506791961876448  1377786228262109         100.0  2022-03-22 10:29:57.291\n",
       "1  5506791971543560  1377786223038206          40.0  2022-03-19 13:49:25.660\n",
       "2  5506791996468218  1377786227025240         100.0  2022-03-21 17:28:47.288\n",
       "3  5506791978752866  1377786222398208          65.0  2022-03-21 07:39:25.183\n",
       "4  5506791978962946  1377786228157051         100.0  2022-03-22 17:32:44.777"
      ]
     },
     "execution_count": 25,
     "metadata": {},
     "output_type": "execute_result"
    }
   ],
   "source": [
    "indata.head()"
   ]
  },
  {
   "cell_type": "code",
   "execution_count": 26,
   "metadata": {
    "execution": {
     "iopub.execute_input": "2025-02-05T21:06:08.491454Z",
     "iopub.status.busy": "2025-02-05T21:06:08.491158Z",
     "iopub.status.idle": "2025-02-05T21:06:08.948275Z",
     "shell.execute_reply": "2025-02-05T21:06:08.947463Z",
     "shell.execute_reply.started": "2025-02-05T21:06:08.491423Z"
    },
    "trusted": true
   },
   "outputs": [
    {
     "data": {
      "image/png": "[encoded data removed]",
      "text/plain": [
       "<Figure size 1440x1440 with 1 Axes>"
      ]
     },
     "metadata": {
      "needs_background": "light"
     },
     "output_type": "display_data"
    }
   ],
   "source": [
    "x =indata[\"read_percent\"]\n",
    "plt.hist(x, bins= [2*x for x in range(50)])\n",
    "plt.gca().set(title='Frequency Histogram', ylabel='Frequency',xlabel=\"Reading Time\");"
   ]
  },
  {
   "cell_type": "code",
   "execution_count": 27,
   "metadata": {
    "execution": {
     "iopub.execute_input": "2025-02-05T21:06:08.950518Z",
     "iopub.status.busy": "2025-02-05T21:06:08.950146Z",
     "iopub.status.idle": "2025-02-05T21:06:08.968876Z",
     "shell.execute_reply": "2025-02-05T21:06:08.967776Z",
     "shell.execute_reply.started": "2025-02-05T21:06:08.950476Z"
    },
    "trusted": true
   },
   "outputs": [
    {
     "data": {
      "text/plain": [
       "24"
      ]
     },
     "execution_count": 27,
     "metadata": {},
     "output_type": "execute_result"
    }
   ],
   "source": [
    "len(indata[indata[\"read_percent\"]>100])"
   ]
  },
  {
   "cell_type": "markdown",
   "metadata": {},
   "source": [
    "##### So we have outliers in interaction dataset read percent with few greater than 100 which is most possibly annomaly!"
   ]
  },
  {
   "cell_type": "code",
   "execution_count": 28,
   "metadata": {
    "execution": {
     "iopub.execute_input": "2025-02-05T21:06:10.165529Z",
     "iopub.status.busy": "2025-02-05T21:06:10.165226Z",
     "iopub.status.idle": "2025-02-05T21:06:10.181060Z",
     "shell.execute_reply": "2025-02-05T21:06:10.180103Z",
     "shell.execute_reply.started": "2025-02-05T21:06:10.165490Z"
    },
    "trusted": true
   },
   "outputs": [
    {
     "data": {
      "text/plain": [
       "9570"
      ]
     },
     "execution_count": 28,
     "metadata": {},
     "output_type": "execute_result"
    }
   ],
   "source": [
    "len(indata[indata[\"read_percent\"]==0])"
   ]
  },
  {
   "cell_type": "markdown",
   "metadata": {},
   "source": [
    "##### Many instances of read percent zero maybe due to technical glitch or closing session before starting the pratilipi"
   ]
  },
  {
   "cell_type": "markdown",
   "metadata": {},
   "source": [
    "## Distribution of date across updated at in interaction data and published at in metadata"
   ]
  },
  {
   "cell_type": "code",
   "execution_count": 29,
   "metadata": {
    "execution": {
     "iopub.execute_input": "2025-02-05T21:06:13.969706Z",
     "iopub.status.busy": "2025-02-05T21:06:13.969373Z",
     "iopub.status.idle": "2025-02-05T21:06:13.976511Z",
     "shell.execute_reply": "2025-02-05T21:06:13.975479Z",
     "shell.execute_reply.started": "2025-02-05T21:06:13.969649Z"
    },
    "trusted": true
   },
   "outputs": [
    {
     "data": {
      "text/plain": [
       "Index(['user_id', 'pratilipi_id', 'read_percent', 'updated_at'], dtype='object')"
      ]
     },
     "execution_count": 29,
     "metadata": {},
     "output_type": "execute_result"
    }
   ],
   "source": [
    "indata.columns"
   ]
  },
  {
   "cell_type": "code",
   "execution_count": 30,
   "metadata": {
    "execution": {
     "iopub.execute_input": "2025-02-05T21:06:14.114341Z",
     "iopub.status.busy": "2025-02-05T21:06:14.114032Z",
     "iopub.status.idle": "2025-02-05T21:06:14.505412Z",
     "shell.execute_reply": "2025-02-05T21:06:14.504312Z",
     "shell.execute_reply.started": "2025-02-05T21:06:14.114307Z"
    },
    "trusted": true
   },
   "outputs": [
    {
     "data": {
      "text/plain": [
       "('2022-03-23 00:08:25.306', '2022-03-18 15:14:41.827')"
      ]
     },
     "execution_count": 30,
     "metadata": {},
     "output_type": "execute_result"
    }
   ],
   "source": [
    "indata['updated_at'].max(),indata['updated_at'].min()"
   ]
  },
  {
   "cell_type": "code",
   "execution_count": 31,
   "metadata": {
    "execution": {
     "iopub.execute_input": "2025-02-05T21:06:14.508336Z",
     "iopub.status.busy": "2025-02-05T21:06:14.507409Z",
     "iopub.status.idle": "2025-02-05T21:06:14.514832Z",
     "shell.execute_reply": "2025-02-05T21:06:14.513788Z",
     "shell.execute_reply.started": "2025-02-05T21:06:14.508283Z"
    },
    "trusted": true
   },
   "outputs": [
    {
     "data": {
      "text/plain": [
       "dtype('O')"
      ]
     },
     "execution_count": 31,
     "metadata": {},
     "output_type": "execute_result"
    }
   ],
   "source": [
    "indata['updated_at'].dtype"
   ]
  },
  {
   "cell_type": "code",
   "execution_count": 32,
   "metadata": {
    "execution": {
     "iopub.execute_input": "2025-02-05T21:06:14.582978Z",
     "iopub.status.busy": "2025-02-05T21:06:14.582595Z",
     "iopub.status.idle": "2025-02-05T21:06:15.111453Z",
     "shell.execute_reply": "2025-02-05T21:06:15.110595Z",
     "shell.execute_reply.started": "2025-02-05T21:06:14.582939Z"
    },
    "trusted": true
   },
   "outputs": [],
   "source": [
    "indata['updated_at'] = indata['updated_at'].astype(\"datetime64\")"
   ]
  },
  {
   "cell_type": "code",
   "execution_count": 33,
   "metadata": {
    "execution": {
     "iopub.execute_input": "2025-02-05T21:06:15.113390Z",
     "iopub.status.busy": "2025-02-05T21:06:15.113149Z",
     "iopub.status.idle": "2025-02-05T21:06:15.120492Z",
     "shell.execute_reply": "2025-02-05T21:06:15.119490Z",
     "shell.execute_reply.started": "2025-02-05T21:06:15.113362Z"
    },
    "trusted": true
   },
   "outputs": [
    {
     "data": {
      "text/plain": [
       "dtype('<M8[ns]')"
      ]
     },
     "execution_count": 33,
     "metadata": {},
     "output_type": "execute_result"
    }
   ],
   "source": [
    "indata['updated_at'].dtype"
   ]
  },
  {
   "cell_type": "code",
   "execution_count": 34,
   "metadata": {
    "execution": {
     "iopub.execute_input": "2025-02-05T21:06:17.666156Z",
     "iopub.status.busy": "2025-02-05T21:06:17.665820Z",
     "iopub.status.idle": "2025-02-05T21:06:18.342145Z",
     "shell.execute_reply": "2025-02-05T21:06:18.341124Z",
     "shell.execute_reply.started": "2025-02-05T21:06:17.666119Z"
    },
    "trusted": true
   },
   "outputs": [
    {
     "data": {
      "text/plain": [
       "<AxesSubplot:xlabel='updated_at'>"
      ]
     },
     "execution_count": 34,
     "metadata": {},
     "output_type": "execute_result"
    },
    {
     "data": {
      "image/png": "[encoded data removed]",
      "text/plain": [
       "<Figure size 1440x1440 with 1 Axes>"
      ]
     },
     "metadata": {
      "needs_background": "light"
     },
     "output_type": "display_data"
    }
   ],
   "source": [
    "indata[\"updated_at\"].groupby(indata[\"updated_at\"].dt.hour).count().plot(kind=\"bar\")"
   ]
  },
  {
   "cell_type": "markdown",
   "metadata": {},
   "source": [
    "The peak time for the pratilipi users is around 3pm to 7pm everyday."
   ]
  },
  {
   "cell_type": "code",
   "execution_count": 35,
   "metadata": {
    "execution": {
     "iopub.execute_input": "2025-02-05T21:06:18.344085Z",
     "iopub.status.busy": "2025-02-05T21:06:18.343762Z",
     "iopub.status.idle": "2025-02-05T21:06:18.356118Z",
     "shell.execute_reply": "2025-02-05T21:06:18.354842Z",
     "shell.execute_reply.started": "2025-02-05T21:06:18.344050Z"
    },
    "trusted": true
   },
   "outputs": [
    {
     "data": {
      "text/html": [
       "<div>\n",
       "<style scoped>\n",
       "    .dataframe tbody tr th:only-of-type {\n",
       "        vertical-align: middle;\n",
       "    }\n",
       "\n",
       "    .dataframe tbody tr th {\n",
       "        vertical-align: top;\n",
       "    }\n",
       "\n",
       "    .dataframe thead th {\n",
       "        text-align: right;\n",
       "    }\n",
       "</style>\n",
       "<table border=\"1\" class=\"dataframe\">\n",
       "  <thead>\n",
       "    <tr style=\"text-align: right;\">\n",
       "      <th></th>\n",
       "      <th>author_id</th>\n",
       "      <th>pratilipi_id</th>\n",
       "      <th>category_name</th>\n",
       "      <th>reading_time</th>\n",
       "      <th>updated_at</th>\n",
       "      <th>published_at</th>\n",
       "    </tr>\n",
       "  </thead>\n",
       "  <tbody>\n",
       "    <tr>\n",
       "      <th>0</th>\n",
       "      <td>-3418949279741297</td>\n",
       "      <td>1025741862639304</td>\n",
       "      <td>translation</td>\n",
       "      <td>0</td>\n",
       "      <td>2020-08-19 15:26:13</td>\n",
       "      <td>2016-09-30 10:37:04</td>\n",
       "    </tr>\n",
       "    <tr>\n",
       "      <th>1</th>\n",
       "      <td>-2270332351871840</td>\n",
       "      <td>1377786215601277</td>\n",
       "      <td>translation</td>\n",
       "      <td>171</td>\n",
       "      <td>2021-01-21 16:27:07</td>\n",
       "      <td>2018-06-11 13:17:48</td>\n",
       "    </tr>\n",
       "    <tr>\n",
       "      <th>2</th>\n",
       "      <td>-2270332352037261</td>\n",
       "      <td>1377786215601962</td>\n",
       "      <td>translation</td>\n",
       "      <td>92</td>\n",
       "      <td>2020-09-29 12:33:57</td>\n",
       "      <td>2018-06-12 04:19:12</td>\n",
       "    </tr>\n",
       "    <tr>\n",
       "      <th>3</th>\n",
       "      <td>-2270332352521845</td>\n",
       "      <td>1377786215640994</td>\n",
       "      <td>translation</td>\n",
       "      <td>0</td>\n",
       "      <td>2019-10-17 09:03:37</td>\n",
       "      <td>2019-09-26 14:58:53</td>\n",
       "    </tr>\n",
       "    <tr>\n",
       "      <th>4</th>\n",
       "      <td>-2270332349665658</td>\n",
       "      <td>1377786215931338</td>\n",
       "      <td>translation</td>\n",
       "      <td>47</td>\n",
       "      <td>2020-05-05 11:33:41</td>\n",
       "      <td>2018-11-25 12:28:23</td>\n",
       "    </tr>\n",
       "  </tbody>\n",
       "</table>\n",
       "</div>"
      ],
      "text/plain": [
       "          author_id      pratilipi_id category_name  reading_time  \\\n",
       "0 -3418949279741297  1025741862639304   translation             0   \n",
       "1 -2270332351871840  1377786215601277   translation           171   \n",
       "2 -2270332352037261  1377786215601962   translation            92   \n",
       "3 -2270332352521845  1377786215640994   translation             0   \n",
       "4 -2270332349665658  1377786215931338   translation            47   \n",
       "\n",
       "            updated_at         published_at  \n",
       "0  2020-08-19 15:26:13  2016-09-30 10:37:04  \n",
       "1  2021-01-21 16:27:07  2018-06-11 13:17:48  \n",
       "2  2020-09-29 12:33:57  2018-06-12 04:19:12  \n",
       "3  2019-10-17 09:03:37  2019-09-26 14:58:53  \n",
       "4  2020-05-05 11:33:41  2018-11-25 12:28:23  "
      ]
     },
     "execution_count": 35,
     "metadata": {},
     "output_type": "execute_result"
    }
   ],
   "source": [
    "metadata.head()"
   ]
  },
  {
   "cell_type": "code",
   "execution_count": 36,
   "metadata": {
    "execution": {
     "iopub.execute_input": "2025-02-05T21:06:18.358400Z",
     "iopub.status.busy": "2025-02-05T21:06:18.357977Z",
     "iopub.status.idle": "2025-02-05T21:06:18.624510Z",
     "shell.execute_reply": "2025-02-05T21:06:18.623503Z",
     "shell.execute_reply.started": "2025-02-05T21:06:18.358342Z"
    },
    "trusted": true
   },
   "outputs": [],
   "source": [
    "metadata[\"published_at\"] = metadata[\"published_at\"].astype(\"datetime64\")"
   ]
  },
  {
   "cell_type": "code",
   "execution_count": 37,
   "metadata": {
    "execution": {
     "iopub.execute_input": "2025-02-05T21:06:18.626510Z",
     "iopub.status.busy": "2025-02-05T21:06:18.626249Z",
     "iopub.status.idle": "2025-02-05T21:06:18.983504Z",
     "shell.execute_reply": "2025-02-05T21:06:18.982551Z",
     "shell.execute_reply.started": "2025-02-05T21:06:18.626477Z"
    },
    "trusted": true
   },
   "outputs": [
    {
     "data": {
      "text/plain": [
       "<AxesSubplot:xlabel='published_at'>"
      ]
     },
     "execution_count": 37,
     "metadata": {},
     "output_type": "execute_result"
    },
    {
     "data": {
      "image/png": "[encoded data removed]",
      "text/plain": [
       "<Figure size 1440x1440 with 1 Axes>"
      ]
     },
     "metadata": {
      "needs_background": "light"
     },
     "output_type": "display_data"
    }
   ],
   "source": [
    "metadata[\"published_at\"].groupby(metadata[\"published_at\"].dt.month).count().plot(kind=\"bar\")"
   ]
  },
  {
   "cell_type": "markdown",
   "metadata": {},
   "source": [
    "### Publishing all around the year suggesting continous author engagement."
   ]
  },
  {
   "cell_type": "code",
   "execution_count": 38,
   "metadata": {
    "execution": {
     "iopub.execute_input": "2025-02-05T21:06:29.120953Z",
     "iopub.status.busy": "2025-02-05T21:06:29.120618Z",
     "iopub.status.idle": "2025-02-05T21:06:29.547522Z",
     "shell.execute_reply": "2025-02-05T21:06:29.546330Z",
     "shell.execute_reply.started": "2025-02-05T21:06:29.120919Z"
    },
    "trusted": true
   },
   "outputs": [
    {
     "data": {
      "text/plain": [
       "<AxesSubplot:xlabel='published_at'>"
      ]
     },
     "execution_count": 38,
     "metadata": {},
     "output_type": "execute_result"
    },
    {
     "data": {
      "image/png": "[encoded data removed]",
      "text/plain": [
       "<Figure size 1440x1440 with 1 Axes>"
      ]
     },
     "metadata": {
      "needs_background": "light"
     },
     "output_type": "display_data"
    }
   ],
   "source": [
    "metadata[\"published_at\"].groupby(metadata[\"published_at\"].dt.year).count().plot(kind=\"bar\")"
   ]
  },
  {
   "cell_type": "markdown",
   "metadata": {},
   "source": [
    "##### Engagment is increasing over the years"
   ]
  },
  {
   "cell_type": "code",
   "execution_count": 39,
   "metadata": {
    "execution": {
     "iopub.execute_input": "2025-02-05T21:06:30.018895Z",
     "iopub.status.busy": "2025-02-05T21:06:30.018468Z",
     "iopub.status.idle": "2025-02-05T21:06:30.505549Z",
     "shell.execute_reply": "2025-02-05T21:06:30.504583Z",
     "shell.execute_reply.started": "2025-02-05T21:06:30.018853Z"
    },
    "trusted": true
   },
   "outputs": [
    {
     "data": {
      "text/plain": [
       "<AxesSubplot:xlabel='published_at'>"
      ]
     },
     "execution_count": 39,
     "metadata": {},
     "output_type": "execute_result"
    },
    {
     "data": {
      "image/png": "[encoded data removed]",
      "text/plain": [
       "<Figure size 1440x1440 with 1 Axes>"
      ]
     },
     "metadata": {
      "needs_background": "light"
     },
     "output_type": "display_data"
    }
   ],
   "source": [
    "metadata[\"published_at\"].groupby(metadata[\"published_at\"].dt.day).count().plot(kind=\"bar\")"
   ]
  },
  {
   "cell_type": "markdown",
   "metadata": {},
   "source": [
    "## EDA summary"
   ]
  },
  {
   "cell_type": "code",
   "execution_count": 40,
   "metadata": {
    "execution": {
     "iopub.execute_input": "2025-02-05T21:06:36.528557Z",
     "iopub.status.busy": "2025-02-05T21:06:36.528249Z",
     "iopub.status.idle": "2025-02-05T21:06:36.540104Z",
     "shell.execute_reply": "2025-02-05T21:06:36.539176Z",
     "shell.execute_reply.started": "2025-02-05T21:06:36.528521Z"
    },
    "trusted": true
   },
   "outputs": [
    {
     "data": {
      "text/html": [
       "<div>\n",
       "<style scoped>\n",
       "    .dataframe tbody tr th:only-of-type {\n",
       "        vertical-align: middle;\n",
       "    }\n",
       "\n",
       "    .dataframe tbody tr th {\n",
       "        vertical-align: top;\n",
       "    }\n",
       "\n",
       "    .dataframe thead th {\n",
       "        text-align: right;\n",
       "    }\n",
       "</style>\n",
       "<table border=\"1\" class=\"dataframe\">\n",
       "  <thead>\n",
       "    <tr style=\"text-align: right;\">\n",
       "      <th></th>\n",
       "      <th>user_id</th>\n",
       "      <th>pratilipi_id</th>\n",
       "      <th>read_percent</th>\n",
       "      <th>updated_at</th>\n",
       "    </tr>\n",
       "  </thead>\n",
       "  <tbody>\n",
       "    <tr>\n",
       "      <th>0</th>\n",
       "      <td>5506791961876448</td>\n",
       "      <td>1377786228262109</td>\n",
       "      <td>100.0</td>\n",
       "      <td>2022-03-22 10:29:57.291</td>\n",
       "    </tr>\n",
       "    <tr>\n",
       "      <th>1</th>\n",
       "      <td>5506791971543560</td>\n",
       "      <td>1377786223038206</td>\n",
       "      <td>40.0</td>\n",
       "      <td>2022-03-19 13:49:25.660</td>\n",
       "    </tr>\n",
       "    <tr>\n",
       "      <th>2</th>\n",
       "      <td>5506791996468218</td>\n",
       "      <td>1377786227025240</td>\n",
       "      <td>100.0</td>\n",
       "      <td>2022-03-21 17:28:47.288</td>\n",
       "    </tr>\n",
       "    <tr>\n",
       "      <th>3</th>\n",
       "      <td>5506791978752866</td>\n",
       "      <td>1377786222398208</td>\n",
       "      <td>65.0</td>\n",
       "      <td>2022-03-21 07:39:25.183</td>\n",
       "    </tr>\n",
       "    <tr>\n",
       "      <th>4</th>\n",
       "      <td>5506791978962946</td>\n",
       "      <td>1377786228157051</td>\n",
       "      <td>100.0</td>\n",
       "      <td>2022-03-22 17:32:44.777</td>\n",
       "    </tr>\n",
       "  </tbody>\n",
       "</table>\n",
       "</div>"
      ],
      "text/plain": [
       "            user_id      pratilipi_id  read_percent              updated_at\n",
       "0  5506791961876448  1377786228262109         100.0 2022-03-22 10:29:57.291\n",
       "1  5506791971543560  1377786223038206          40.0 2022-03-19 13:49:25.660\n",
       "2  5506791996468218  1377786227025240         100.0 2022-03-21 17:28:47.288\n",
       "3  5506791978752866  1377786222398208          65.0 2022-03-21 07:39:25.183\n",
       "4  5506791978962946  1377786228157051         100.0 2022-03-22 17:32:44.777"
      ]
     },
     "execution_count": 40,
     "metadata": {},
     "output_type": "execute_result"
    }
   ],
   "source": [
    "indata.head()"
   ]
  },
  {
   "cell_type": "code",
   "execution_count": 41,
   "metadata": {
    "execution": {
     "iopub.execute_input": "2025-02-05T21:06:36.986370Z",
     "iopub.status.busy": "2025-02-05T21:06:36.986058Z",
     "iopub.status.idle": "2025-02-05T21:06:36.998594Z",
     "shell.execute_reply": "2025-02-05T21:06:36.997603Z",
     "shell.execute_reply.started": "2025-02-05T21:06:36.986335Z"
    },
    "trusted": true
   },
   "outputs": [
    {
     "data": {
      "text/html": [
       "<div>\n",
       "<style scoped>\n",
       "    .dataframe tbody tr th:only-of-type {\n",
       "        vertical-align: middle;\n",
       "    }\n",
       "\n",
       "    .dataframe tbody tr th {\n",
       "        vertical-align: top;\n",
       "    }\n",
       "\n",
       "    .dataframe thead th {\n",
       "        text-align: right;\n",
       "    }\n",
       "</style>\n",
       "<table border=\"1\" class=\"dataframe\">\n",
       "  <thead>\n",
       "    <tr style=\"text-align: right;\">\n",
       "      <th></th>\n",
       "      <th>author_id</th>\n",
       "      <th>pratilipi_id</th>\n",
       "      <th>category_name</th>\n",
       "      <th>reading_time</th>\n",
       "      <th>updated_at</th>\n",
       "      <th>published_at</th>\n",
       "    </tr>\n",
       "  </thead>\n",
       "  <tbody>\n",
       "    <tr>\n",
       "      <th>0</th>\n",
       "      <td>-3418949279741297</td>\n",
       "      <td>1025741862639304</td>\n",
       "      <td>translation</td>\n",
       "      <td>0</td>\n",
       "      <td>2020-08-19 15:26:13</td>\n",
       "      <td>2016-09-30 10:37:04</td>\n",
       "    </tr>\n",
       "    <tr>\n",
       "      <th>1</th>\n",
       "      <td>-2270332351871840</td>\n",
       "      <td>1377786215601277</td>\n",
       "      <td>translation</td>\n",
       "      <td>171</td>\n",
       "      <td>2021-01-21 16:27:07</td>\n",
       "      <td>2018-06-11 13:17:48</td>\n",
       "    </tr>\n",
       "    <tr>\n",
       "      <th>2</th>\n",
       "      <td>-2270332352037261</td>\n",
       "      <td>1377786215601962</td>\n",
       "      <td>translation</td>\n",
       "      <td>92</td>\n",
       "      <td>2020-09-29 12:33:57</td>\n",
       "      <td>2018-06-12 04:19:12</td>\n",
       "    </tr>\n",
       "    <tr>\n",
       "      <th>3</th>\n",
       "      <td>-2270332352521845</td>\n",
       "      <td>1377786215640994</td>\n",
       "      <td>translation</td>\n",
       "      <td>0</td>\n",
       "      <td>2019-10-17 09:03:37</td>\n",
       "      <td>2019-09-26 14:58:53</td>\n",
       "    </tr>\n",
       "    <tr>\n",
       "      <th>4</th>\n",
       "      <td>-2270332349665658</td>\n",
       "      <td>1377786215931338</td>\n",
       "      <td>translation</td>\n",
       "      <td>47</td>\n",
       "      <td>2020-05-05 11:33:41</td>\n",
       "      <td>2018-11-25 12:28:23</td>\n",
       "    </tr>\n",
       "  </tbody>\n",
       "</table>\n",
       "</div>"
      ],
      "text/plain": [
       "          author_id      pratilipi_id category_name  reading_time  \\\n",
       "0 -3418949279741297  1025741862639304   translation             0   \n",
       "1 -2270332351871840  1377786215601277   translation           171   \n",
       "2 -2270332352037261  1377786215601962   translation            92   \n",
       "3 -2270332352521845  1377786215640994   translation             0   \n",
       "4 -2270332349665658  1377786215931338   translation            47   \n",
       "\n",
       "            updated_at        published_at  \n",
       "0  2020-08-19 15:26:13 2016-09-30 10:37:04  \n",
       "1  2021-01-21 16:27:07 2018-06-11 13:17:48  \n",
       "2  2020-09-29 12:33:57 2018-06-12 04:19:12  \n",
       "3  2019-10-17 09:03:37 2019-09-26 14:58:53  \n",
       "4  2020-05-05 11:33:41 2018-11-25 12:28:23  "
      ]
     },
     "execution_count": 41,
     "metadata": {},
     "output_type": "execute_result"
    }
   ],
   "source": [
    "metadata.head()"
   ]
  },
  {
   "cell_type": "markdown",
   "metadata": {},
   "source": [
    "So far we have discovered few point to deep dive in the dataset and clean the dataset\n",
    "* In metadata we have several instance of 0 second reading time which is quite wierd and caused maybe be due to some glich in collecting dataset or in somecases empty stories possibly(guess).\n",
    "* Also in metadata we can also find instances of pratilipi with more than 10000 second(more than 2.5 hours ) reading time suggesting very large stories\n",
    "* One partilipi can have multiple category but always a single author.\n",
    "* In interaction data we found few instances of greater than 100 read_percent which is quite possibly some technical glitch cause it has only 14 such instances. ( if there were much more such instances have been possiblity of re-reading multiple time. )\n",
    "* In interaction data we also found multiple 0 percent reading time which might be either user stopping the session before it start or some app related bug.\n",
    "* Engagement around the month is similar and continously increasing across the year"
   ]
  },
  {
   "cell_type": "markdown",
   "metadata": {},
   "source": [
    "## Cleaning Dataset and Treating Outliers and Feature engineering\n",
    "\n",
    "* I won't be removing outlier anywhere except for reading percent in the assigment due to lack of knowledge of the actual reason\n",
    "\n",
    "* Since there can be multiple topics for single pratilipi I will group them up in single list rather than using them individually"
   ]
  },
  {
   "cell_type": "code",
   "execution_count": 42,
   "metadata": {
    "execution": {
     "iopub.execute_input": "2025-02-05T21:06:41.697155Z",
     "iopub.status.busy": "2025-02-05T21:06:41.696866Z",
     "iopub.status.idle": "2025-02-05T21:06:41.702161Z",
     "shell.execute_reply": "2025-02-05T21:06:41.700982Z",
     "shell.execute_reply.started": "2025-02-05T21:06:41.697125Z"
    },
    "trusted": true
   },
   "outputs": [],
   "source": [
    "# converting innstance > 100 read_percent to =100 percent"
   ]
  },
  {
   "cell_type": "code",
   "execution_count": 43,
   "metadata": {
    "execution": {
     "iopub.execute_input": "2025-02-05T21:06:43.147170Z",
     "iopub.status.busy": "2025-02-05T21:06:43.146858Z",
     "iopub.status.idle": "2025-02-05T21:06:43.861884Z",
     "shell.execute_reply": "2025-02-05T21:06:43.861042Z",
     "shell.execute_reply.started": "2025-02-05T21:06:43.147138Z"
    },
    "trusted": true
   },
   "outputs": [],
   "source": [
    "## Any entry having greater than 100 percent read is converted back to 100 percent\n",
    "indata['read_percent'] = indata['read_percent'].apply(lambda x: x if x<=100 else 100)"
   ]
  },
  {
   "cell_type": "code",
   "execution_count": 44,
   "metadata": {
    "execution": {
     "iopub.execute_input": "2025-02-05T21:06:43.863643Z",
     "iopub.status.busy": "2025-02-05T21:06:43.863381Z",
     "iopub.status.idle": "2025-02-05T21:06:43.873840Z",
     "shell.execute_reply": "2025-02-05T21:06:43.872864Z",
     "shell.execute_reply.started": "2025-02-05T21:06:43.863610Z"
    },
    "trusted": true
   },
   "outputs": [
    {
     "data": {
      "text/plain": [
       "0"
      ]
     },
     "execution_count": 44,
     "metadata": {},
     "output_type": "execute_result"
    }
   ],
   "source": [
    "len(indata[indata[\"read_percent\"]>100])\n",
    "# no value with mor e than 100 percent"
   ]
  },
  {
   "cell_type": "markdown",
   "metadata": {},
   "source": [
    "#### We will also remove interaction of those users having less than 20 interaction. \n",
    "* Intution is as per assigment we want about 5 prediction per user with 75-25 train test split so data is kept at 20. Also this problem is known as **cold start problem** in recommendation system in which it is hard do provide personalized recommendations for users with none or a very few number of consumed items, due to the lack of information to model their preferences.\n",
    "\n",
    "* For this reason, we are keeping in the dataset only users with at least 20 interactions."
   ]
  },
  {
   "cell_type": "code",
   "execution_count": 45,
   "metadata": {
    "execution": {
     "iopub.execute_input": "2025-02-05T21:06:44.263750Z",
     "iopub.status.busy": "2025-02-05T21:06:44.263056Z",
     "iopub.status.idle": "2025-02-05T21:06:44.565556Z",
     "shell.execute_reply": "2025-02-05T21:06:44.564648Z",
     "shell.execute_reply.started": "2025-02-05T21:06:44.263711Z"
    },
    "trusted": true
   },
   "outputs": [],
   "source": [
    "countdf = indata.groupby('user_id').count()"
   ]
  },
  {
   "cell_type": "code",
   "execution_count": 46,
   "metadata": {
    "execution": {
     "iopub.execute_input": "2025-02-05T21:06:46.027840Z",
     "iopub.status.busy": "2025-02-05T21:06:46.027494Z",
     "iopub.status.idle": "2025-02-05T21:06:46.038102Z",
     "shell.execute_reply": "2025-02-05T21:06:46.037226Z",
     "shell.execute_reply.started": "2025-02-05T21:06:46.027789Z"
    },
    "trusted": true
   },
   "outputs": [
    {
     "data": {
      "text/html": [
       "<div>\n",
       "<style scoped>\n",
       "    .dataframe tbody tr th:only-of-type {\n",
       "        vertical-align: middle;\n",
       "    }\n",
       "\n",
       "    .dataframe tbody tr th {\n",
       "        vertical-align: top;\n",
       "    }\n",
       "\n",
       "    .dataframe thead th {\n",
       "        text-align: right;\n",
       "    }\n",
       "</style>\n",
       "<table border=\"1\" class=\"dataframe\">\n",
       "  <thead>\n",
       "    <tr style=\"text-align: right;\">\n",
       "      <th></th>\n",
       "      <th>pratilipi_id</th>\n",
       "      <th>read_percent</th>\n",
       "      <th>updated_at</th>\n",
       "    </tr>\n",
       "    <tr>\n",
       "      <th>user_id</th>\n",
       "      <th></th>\n",
       "      <th></th>\n",
       "      <th></th>\n",
       "    </tr>\n",
       "  </thead>\n",
       "  <tbody>\n",
       "    <tr>\n",
       "      <th>3257552805995172</th>\n",
       "      <td>6</td>\n",
       "      <td>6</td>\n",
       "      <td>6</td>\n",
       "    </tr>\n",
       "    <tr>\n",
       "      <th>3257621147984548</th>\n",
       "      <td>2</td>\n",
       "      <td>2</td>\n",
       "      <td>2</td>\n",
       "    </tr>\n",
       "    <tr>\n",
       "      <th>3260243929637540</th>\n",
       "      <td>1</td>\n",
       "      <td>1</td>\n",
       "      <td>1</td>\n",
       "    </tr>\n",
       "    <tr>\n",
       "      <th>3260275089121956</th>\n",
       "      <td>37</td>\n",
       "      <td>37</td>\n",
       "      <td>37</td>\n",
       "    </tr>\n",
       "    <tr>\n",
       "      <th>3260433621754532</th>\n",
       "      <td>2</td>\n",
       "      <td>2</td>\n",
       "      <td>2</td>\n",
       "    </tr>\n",
       "  </tbody>\n",
       "</table>\n",
       "</div>"
      ],
      "text/plain": [
       "                  pratilipi_id  read_percent  updated_at\n",
       "user_id                                                 \n",
       "3257552805995172             6             6           6\n",
       "3257621147984548             2             2           2\n",
       "3260243929637540             1             1           1\n",
       "3260275089121956            37            37          37\n",
       "3260433621754532             2             2           2"
      ]
     },
     "execution_count": 46,
     "metadata": {},
     "output_type": "execute_result"
    }
   ],
   "source": [
    "countdf.head()"
   ]
  },
  {
   "cell_type": "code",
   "execution_count": 47,
   "metadata": {
    "execution": {
     "iopub.execute_input": "2025-02-05T21:06:46.178231Z",
     "iopub.status.busy": "2025-02-05T21:06:46.177425Z",
     "iopub.status.idle": "2025-02-05T21:06:46.306530Z",
     "shell.execute_reply": "2025-02-05T21:06:46.305729Z",
     "shell.execute_reply.started": "2025-02-05T21:06:46.178190Z"
    },
    "trusted": true
   },
   "outputs": [],
   "source": [
    "indata = indata.loc[indata['user_id'].isin(countdf[countdf['pratilipi_id'] > 20].index)].reset_index(drop = True)"
   ]
  },
  {
   "cell_type": "code",
   "execution_count": 48,
   "metadata": {
    "execution": {
     "iopub.execute_input": "2025-02-05T21:06:46.325827Z",
     "iopub.status.busy": "2025-02-05T21:06:46.325505Z",
     "iopub.status.idle": "2025-02-05T21:06:46.331890Z",
     "shell.execute_reply": "2025-02-05T21:06:46.330897Z",
     "shell.execute_reply.started": "2025-02-05T21:06:46.325790Z"
    },
    "trusted": true
   },
   "outputs": [
    {
     "data": {
      "text/plain": [
       "(1565577, 4)"
      ]
     },
     "execution_count": 48,
     "metadata": {},
     "output_type": "execute_result"
    }
   ],
   "source": [
    "# many user_id with less than 20 interaction dropped out\n",
    "indata.shape"
   ]
  },
  {
   "cell_type": "code",
   "execution_count": 49,
   "metadata": {
    "execution": {
     "iopub.execute_input": "2025-02-05T21:06:46.449211Z",
     "iopub.status.busy": "2025-02-05T21:06:46.448886Z",
     "iopub.status.idle": "2025-02-05T21:06:46.460890Z",
     "shell.execute_reply": "2025-02-05T21:06:46.459894Z",
     "shell.execute_reply.started": "2025-02-05T21:06:46.449177Z"
    },
    "trusted": true
   },
   "outputs": [
    {
     "data": {
      "text/html": [
       "<div>\n",
       "<style scoped>\n",
       "    .dataframe tbody tr th:only-of-type {\n",
       "        vertical-align: middle;\n",
       "    }\n",
       "\n",
       "    .dataframe tbody tr th {\n",
       "        vertical-align: top;\n",
       "    }\n",
       "\n",
       "    .dataframe thead th {\n",
       "        text-align: right;\n",
       "    }\n",
       "</style>\n",
       "<table border=\"1\" class=\"dataframe\">\n",
       "  <thead>\n",
       "    <tr style=\"text-align: right;\">\n",
       "      <th></th>\n",
       "      <th>author_id</th>\n",
       "      <th>pratilipi_id</th>\n",
       "      <th>category_name</th>\n",
       "      <th>reading_time</th>\n",
       "      <th>updated_at</th>\n",
       "      <th>published_at</th>\n",
       "    </tr>\n",
       "  </thead>\n",
       "  <tbody>\n",
       "    <tr>\n",
       "      <th>0</th>\n",
       "      <td>-3418949279741297</td>\n",
       "      <td>1025741862639304</td>\n",
       "      <td>translation</td>\n",
       "      <td>0</td>\n",
       "      <td>2020-08-19 15:26:13</td>\n",
       "      <td>2016-09-30 10:37:04</td>\n",
       "    </tr>\n",
       "    <tr>\n",
       "      <th>1</th>\n",
       "      <td>-2270332351871840</td>\n",
       "      <td>1377786215601277</td>\n",
       "      <td>translation</td>\n",
       "      <td>171</td>\n",
       "      <td>2021-01-21 16:27:07</td>\n",
       "      <td>2018-06-11 13:17:48</td>\n",
       "    </tr>\n",
       "    <tr>\n",
       "      <th>2</th>\n",
       "      <td>-2270332352037261</td>\n",
       "      <td>1377786215601962</td>\n",
       "      <td>translation</td>\n",
       "      <td>92</td>\n",
       "      <td>2020-09-29 12:33:57</td>\n",
       "      <td>2018-06-12 04:19:12</td>\n",
       "    </tr>\n",
       "    <tr>\n",
       "      <th>3</th>\n",
       "      <td>-2270332352521845</td>\n",
       "      <td>1377786215640994</td>\n",
       "      <td>translation</td>\n",
       "      <td>0</td>\n",
       "      <td>2019-10-17 09:03:37</td>\n",
       "      <td>2019-09-26 14:58:53</td>\n",
       "    </tr>\n",
       "    <tr>\n",
       "      <th>4</th>\n",
       "      <td>-2270332349665658</td>\n",
       "      <td>1377786215931338</td>\n",
       "      <td>translation</td>\n",
       "      <td>47</td>\n",
       "      <td>2020-05-05 11:33:41</td>\n",
       "      <td>2018-11-25 12:28:23</td>\n",
       "    </tr>\n",
       "  </tbody>\n",
       "</table>\n",
       "</div>"
      ],
      "text/plain": [
       "          author_id      pratilipi_id category_name  reading_time  \\\n",
       "0 -3418949279741297  1025741862639304   translation             0   \n",
       "1 -2270332351871840  1377786215601277   translation           171   \n",
       "2 -2270332352037261  1377786215601962   translation            92   \n",
       "3 -2270332352521845  1377786215640994   translation             0   \n",
       "4 -2270332349665658  1377786215931338   translation            47   \n",
       "\n",
       "            updated_at        published_at  \n",
       "0  2020-08-19 15:26:13 2016-09-30 10:37:04  \n",
       "1  2021-01-21 16:27:07 2018-06-11 13:17:48  \n",
       "2  2020-09-29 12:33:57 2018-06-12 04:19:12  \n",
       "3  2019-10-17 09:03:37 2019-09-26 14:58:53  \n",
       "4  2020-05-05 11:33:41 2018-11-25 12:28:23  "
      ]
     },
     "execution_count": 49,
     "metadata": {},
     "output_type": "execute_result"
    }
   ],
   "source": [
    "metadata.head()"
   ]
  },
  {
   "cell_type": "code",
   "execution_count": 50,
   "metadata": {
    "execution": {
     "iopub.execute_input": "2025-02-05T21:06:48.674567Z",
     "iopub.status.busy": "2025-02-05T21:06:48.674266Z",
     "iopub.status.idle": "2025-02-05T21:06:48.681018Z",
     "shell.execute_reply": "2025-02-05T21:06:48.680020Z",
     "shell.execute_reply.started": "2025-02-05T21:06:48.674531Z"
    },
    "trusted": true
   },
   "outputs": [
    {
     "data": {
      "text/plain": [
       "Index(['author_id', 'pratilipi_id', 'category_name', 'reading_time',\n",
       "       'updated_at', 'published_at'],\n",
       "      dtype='object')"
      ]
     },
     "execution_count": 50,
     "metadata": {},
     "output_type": "execute_result"
    }
   ],
   "source": [
    "metadata.columns"
   ]
  },
  {
   "cell_type": "code",
   "execution_count": 51,
   "metadata": {
    "execution": {
     "iopub.execute_input": "2025-02-05T21:06:48.830787Z",
     "iopub.status.busy": "2025-02-05T21:06:48.830439Z",
     "iopub.status.idle": "2025-02-05T21:06:48.958708Z",
     "shell.execute_reply": "2025-02-05T21:06:48.957759Z",
     "shell.execute_reply.started": "2025-02-05T21:06:48.830740Z"
    },
    "trusted": true
   },
   "outputs": [
    {
     "data": {
      "text/plain": [
       "486693"
      ]
     },
     "execution_count": 51,
     "metadata": {},
     "output_type": "execute_result"
    }
   ],
   "source": [
    "# Number of duplicates left after droping in pratilipi are 486693\n",
    "len(metadata.drop_duplicates(subset = [\"pratilipi_id\"]))"
   ]
  },
  {
   "cell_type": "code",
   "execution_count": 52,
   "metadata": {
    "execution": {
     "iopub.execute_input": "2025-02-05T21:06:48.976519Z",
     "iopub.status.busy": "2025-02-05T21:06:48.975880Z",
     "iopub.status.idle": "2025-02-05T21:07:29.897351Z",
     "shell.execute_reply": "2025-02-05T21:07:29.896545Z",
     "shell.execute_reply.started": "2025-02-05T21:06:48.976468Z"
    },
    "trusted": true
   },
   "outputs": [],
   "source": [
    "g = {'category_name':lambda x: list(x), \n",
    "     'updated_at':'max',\n",
    "     'published_at' : 'min',\n",
    "     \"reading_time\" : \"mean\"\n",
    "    }\n",
    "\n",
    "meta = metadata.groupby(['author_id', 'pratilipi_id']).agg(g).reset_index()"
   ]
  },
  {
   "cell_type": "code",
   "execution_count": 53,
   "metadata": {
    "execution": {
     "iopub.execute_input": "2025-02-05T21:07:29.899250Z",
     "iopub.status.busy": "2025-02-05T21:07:29.899007Z",
     "iopub.status.idle": "2025-02-05T21:07:29.913833Z",
     "shell.execute_reply": "2025-02-05T21:07:29.912812Z",
     "shell.execute_reply.started": "2025-02-05T21:07:29.899219Z"
    },
    "trusted": true
   },
   "outputs": [
    {
     "data": {
      "text/html": [
       "<div>\n",
       "<style scoped>\n",
       "    .dataframe tbody tr th:only-of-type {\n",
       "        vertical-align: middle;\n",
       "    }\n",
       "\n",
       "    .dataframe tbody tr th {\n",
       "        vertical-align: top;\n",
       "    }\n",
       "\n",
       "    .dataframe thead th {\n",
       "        text-align: right;\n",
       "    }\n",
       "</style>\n",
       "<table border=\"1\" class=\"dataframe\">\n",
       "  <thead>\n",
       "    <tr style=\"text-align: right;\">\n",
       "      <th></th>\n",
       "      <th>author_id</th>\n",
       "      <th>pratilipi_id</th>\n",
       "      <th>category_name</th>\n",
       "      <th>updated_at</th>\n",
       "      <th>published_at</th>\n",
       "      <th>reading_time</th>\n",
       "    </tr>\n",
       "  </thead>\n",
       "  <tbody>\n",
       "    <tr>\n",
       "      <th>0</th>\n",
       "      <td>-9070332352853360</td>\n",
       "      <td>312572401325768</td>\n",
       "      <td>[novels, politics, social]</td>\n",
       "      <td>2018-12-03 01:57:32</td>\n",
       "      <td>2017-12-04 18:08:16</td>\n",
       "      <td>0.0</td>\n",
       "    </tr>\n",
       "    <tr>\n",
       "      <th>1</th>\n",
       "      <td>-9070332352853358</td>\n",
       "      <td>-96530313603384</td>\n",
       "      <td>[horror]</td>\n",
       "      <td>2018-08-17 10:28:18</td>\n",
       "      <td>2017-12-04 19:11:01</td>\n",
       "      <td>0.0</td>\n",
       "    </tr>\n",
       "    <tr>\n",
       "      <th>2</th>\n",
       "      <td>-4566636240762225</td>\n",
       "      <td>1377786218853788</td>\n",
       "      <td>[novels, romance, suspense]</td>\n",
       "      <td>2022-01-17 18:04:49</td>\n",
       "      <td>2020-04-27 09:31:23</td>\n",
       "      <td>81.0</td>\n",
       "    </tr>\n",
       "    <tr>\n",
       "      <th>3</th>\n",
       "      <td>-4566636240762225</td>\n",
       "      <td>1377786218889274</td>\n",
       "      <td>[novels, romance, suspense]</td>\n",
       "      <td>2020-05-05 18:02:26</td>\n",
       "      <td>2020-05-05 18:02:26</td>\n",
       "      <td>112.0</td>\n",
       "    </tr>\n",
       "    <tr>\n",
       "      <th>4</th>\n",
       "      <td>-4566636240762225</td>\n",
       "      <td>1377786224904125</td>\n",
       "      <td>[detective, romance, murdermystery]</td>\n",
       "      <td>2021-07-28 15:23:45</td>\n",
       "      <td>2021-07-28 14:14:45</td>\n",
       "      <td>262.0</td>\n",
       "    </tr>\n",
       "  </tbody>\n",
       "</table>\n",
       "</div>"
      ],
      "text/plain": [
       "          author_id      pratilipi_id                        category_name  \\\n",
       "0 -9070332352853360   312572401325768           [novels, politics, social]   \n",
       "1 -9070332352853358   -96530313603384                             [horror]   \n",
       "2 -4566636240762225  1377786218853788          [novels, romance, suspense]   \n",
       "3 -4566636240762225  1377786218889274          [novels, romance, suspense]   \n",
       "4 -4566636240762225  1377786224904125  [detective, romance, murdermystery]   \n",
       "\n",
       "            updated_at        published_at  reading_time  \n",
       "0  2018-12-03 01:57:32 2017-12-04 18:08:16           0.0  \n",
       "1  2018-08-17 10:28:18 2017-12-04 19:11:01           0.0  \n",
       "2  2022-01-17 18:04:49 2020-04-27 09:31:23          81.0  \n",
       "3  2020-05-05 18:02:26 2020-05-05 18:02:26         112.0  \n",
       "4  2021-07-28 15:23:45 2021-07-28 14:14:45         262.0  "
      ]
     },
     "execution_count": 53,
     "metadata": {},
     "output_type": "execute_result"
    }
   ],
   "source": [
    "meta.head()"
   ]
  },
  {
   "cell_type": "code",
   "execution_count": 54,
   "metadata": {
    "execution": {
     "iopub.execute_input": "2025-02-05T21:07:29.915280Z",
     "iopub.status.busy": "2025-02-05T21:07:29.915025Z",
     "iopub.status.idle": "2025-02-05T21:07:29.928653Z",
     "shell.execute_reply": "2025-02-05T21:07:29.927717Z",
     "shell.execute_reply.started": "2025-02-05T21:07:29.915234Z"
    },
    "trusted": true
   },
   "outputs": [
    {
     "data": {
      "text/plain": [
       "(486693, 6)"
      ]
     },
     "execution_count": 54,
     "metadata": {},
     "output_type": "execute_result"
    }
   ],
   "source": [
    "meta.shape"
   ]
  },
  {
   "cell_type": "code",
   "execution_count": 55,
   "metadata": {
    "execution": {
     "iopub.execute_input": "2025-02-05T21:07:29.931221Z",
     "iopub.status.busy": "2025-02-05T21:07:29.930957Z",
     "iopub.status.idle": "2025-02-05T21:07:36.072335Z",
     "shell.execute_reply": "2025-02-05T21:07:36.071368Z",
     "shell.execute_reply.started": "2025-02-05T21:07:29.931191Z"
    },
    "trusted": true
   },
   "outputs": [],
   "source": [
    "# Changed ids to positive ( As i don't find any positive conterpart so it won't lead to duplicate issue)\n",
    "meta[\"pratilipi_id\"] = meta.apply(lambda x : abs(x[\"pratilipi_id\"]),axis = 1)"
   ]
  },
  {
   "cell_type": "code",
   "execution_count": 56,
   "metadata": {
    "execution": {
     "iopub.execute_input": "2025-02-05T21:07:36.074062Z",
     "iopub.status.busy": "2025-02-05T21:07:36.073721Z",
     "iopub.status.idle": "2025-02-05T21:07:42.286572Z",
     "shell.execute_reply": "2025-02-05T21:07:42.285495Z",
     "shell.execute_reply.started": "2025-02-05T21:07:36.074019Z"
    },
    "trusted": true
   },
   "outputs": [],
   "source": [
    "meta[\"author_id\"] = meta.apply(lambda x : abs(x[\"author_id\"]),axis = 1)"
   ]
  },
  {
   "cell_type": "code",
   "execution_count": 57,
   "metadata": {
    "execution": {
     "iopub.execute_input": "2025-02-05T21:07:42.288278Z",
     "iopub.status.busy": "2025-02-05T21:07:42.288008Z",
     "iopub.status.idle": "2025-02-05T21:07:42.410844Z",
     "shell.execute_reply": "2025-02-05T21:07:42.409928Z",
     "shell.execute_reply.started": "2025-02-05T21:07:42.288244Z"
    },
    "trusted": true
   },
   "outputs": [
    {
     "data": {
      "text/plain": [
       "486693"
      ]
     },
     "execution_count": 57,
     "metadata": {},
     "output_type": "execute_result"
    }
   ],
   "source": [
    "# Converting ids have no effect on dataset\n",
    "len(meta.drop_duplicates(subset=[\"author_id\",\"pratilipi_id\"]))"
   ]
  },
  {
   "cell_type": "code",
   "execution_count": 58,
   "metadata": {
    "execution": {
     "iopub.execute_input": "2025-02-05T21:07:42.412176Z",
     "iopub.status.busy": "2025-02-05T21:07:42.411964Z",
     "iopub.status.idle": "2025-02-05T21:07:42.425993Z",
     "shell.execute_reply": "2025-02-05T21:07:42.425068Z",
     "shell.execute_reply.started": "2025-02-05T21:07:42.412149Z"
    },
    "trusted": true
   },
   "outputs": [
    {
     "data": {
      "text/html": [
       "<div>\n",
       "<style scoped>\n",
       "    .dataframe tbody tr th:only-of-type {\n",
       "        vertical-align: middle;\n",
       "    }\n",
       "\n",
       "    .dataframe tbody tr th {\n",
       "        vertical-align: top;\n",
       "    }\n",
       "\n",
       "    .dataframe thead th {\n",
       "        text-align: right;\n",
       "    }\n",
       "</style>\n",
       "<table border=\"1\" class=\"dataframe\">\n",
       "  <thead>\n",
       "    <tr style=\"text-align: right;\">\n",
       "      <th></th>\n",
       "      <th>author_id</th>\n",
       "      <th>pratilipi_id</th>\n",
       "      <th>category_name</th>\n",
       "      <th>updated_at</th>\n",
       "      <th>published_at</th>\n",
       "      <th>reading_time</th>\n",
       "    </tr>\n",
       "  </thead>\n",
       "  <tbody>\n",
       "    <tr>\n",
       "      <th>0</th>\n",
       "      <td>9070332352853360</td>\n",
       "      <td>312572401325768</td>\n",
       "      <td>[novels, politics, social]</td>\n",
       "      <td>2018-12-03 01:57:32</td>\n",
       "      <td>2017-12-04 18:08:16</td>\n",
       "      <td>0.0</td>\n",
       "    </tr>\n",
       "    <tr>\n",
       "      <th>1</th>\n",
       "      <td>9070332352853358</td>\n",
       "      <td>96530313603384</td>\n",
       "      <td>[horror]</td>\n",
       "      <td>2018-08-17 10:28:18</td>\n",
       "      <td>2017-12-04 19:11:01</td>\n",
       "      <td>0.0</td>\n",
       "    </tr>\n",
       "    <tr>\n",
       "      <th>2</th>\n",
       "      <td>4566636240762225</td>\n",
       "      <td>1377786218853788</td>\n",
       "      <td>[novels, romance, suspense]</td>\n",
       "      <td>2022-01-17 18:04:49</td>\n",
       "      <td>2020-04-27 09:31:23</td>\n",
       "      <td>81.0</td>\n",
       "    </tr>\n",
       "    <tr>\n",
       "      <th>3</th>\n",
       "      <td>4566636240762225</td>\n",
       "      <td>1377786218889274</td>\n",
       "      <td>[novels, romance, suspense]</td>\n",
       "      <td>2020-05-05 18:02:26</td>\n",
       "      <td>2020-05-05 18:02:26</td>\n",
       "      <td>112.0</td>\n",
       "    </tr>\n",
       "    <tr>\n",
       "      <th>4</th>\n",
       "      <td>4566636240762225</td>\n",
       "      <td>1377786224904125</td>\n",
       "      <td>[detective, romance, murdermystery]</td>\n",
       "      <td>2021-07-28 15:23:45</td>\n",
       "      <td>2021-07-28 14:14:45</td>\n",
       "      <td>262.0</td>\n",
       "    </tr>\n",
       "  </tbody>\n",
       "</table>\n",
       "</div>"
      ],
      "text/plain": [
       "          author_id      pratilipi_id                        category_name  \\\n",
       "0  9070332352853360   312572401325768           [novels, politics, social]   \n",
       "1  9070332352853358    96530313603384                             [horror]   \n",
       "2  4566636240762225  1377786218853788          [novels, romance, suspense]   \n",
       "3  4566636240762225  1377786218889274          [novels, romance, suspense]   \n",
       "4  4566636240762225  1377786224904125  [detective, romance, murdermystery]   \n",
       "\n",
       "            updated_at        published_at  reading_time  \n",
       "0  2018-12-03 01:57:32 2017-12-04 18:08:16           0.0  \n",
       "1  2018-08-17 10:28:18 2017-12-04 19:11:01           0.0  \n",
       "2  2022-01-17 18:04:49 2020-04-27 09:31:23          81.0  \n",
       "3  2020-05-05 18:02:26 2020-05-05 18:02:26         112.0  \n",
       "4  2021-07-28 15:23:45 2021-07-28 14:14:45         262.0  "
      ]
     },
     "execution_count": 58,
     "metadata": {},
     "output_type": "execute_result"
    }
   ],
   "source": [
    "meta.head()"
   ]
  },
  {
   "cell_type": "code",
   "execution_count": 59,
   "metadata": {
    "execution": {
     "iopub.execute_input": "2025-02-05T21:07:42.427491Z",
     "iopub.status.busy": "2025-02-05T21:07:42.427189Z",
     "iopub.status.idle": "2025-02-05T21:07:42.491601Z",
     "shell.execute_reply": "2025-02-05T21:07:42.490255Z",
     "shell.execute_reply.started": "2025-02-05T21:07:42.427457Z"
    },
    "trusted": true
   },
   "outputs": [],
   "source": [
    "meta[\"month\"] = meta[\"published_at\"].dt.month"
   ]
  },
  {
   "cell_type": "code",
   "execution_count": 60,
   "metadata": {
    "execution": {
     "iopub.execute_input": "2025-02-05T21:07:42.493237Z",
     "iopub.status.busy": "2025-02-05T21:07:42.492998Z",
     "iopub.status.idle": "2025-02-05T21:07:42.548515Z",
     "shell.execute_reply": "2025-02-05T21:07:42.547757Z",
     "shell.execute_reply.started": "2025-02-05T21:07:42.493208Z"
    },
    "trusted": true
   },
   "outputs": [],
   "source": [
    "meta[\"year\"] = meta[\"published_at\"].dt.year"
   ]
  },
  {
   "cell_type": "code",
   "execution_count": 61,
   "metadata": {
    "execution": {
     "iopub.execute_input": "2025-02-05T21:07:42.550763Z",
     "iopub.status.busy": "2025-02-05T21:07:42.550486Z",
     "iopub.status.idle": "2025-02-05T21:07:42.567279Z",
     "shell.execute_reply": "2025-02-05T21:07:42.566338Z",
     "shell.execute_reply.started": "2025-02-05T21:07:42.550729Z"
    },
    "trusted": true
   },
   "outputs": [
    {
     "data": {
      "text/html": [
       "<div>\n",
       "<style scoped>\n",
       "    .dataframe tbody tr th:only-of-type {\n",
       "        vertical-align: middle;\n",
       "    }\n",
       "\n",
       "    .dataframe tbody tr th {\n",
       "        vertical-align: top;\n",
       "    }\n",
       "\n",
       "    .dataframe thead th {\n",
       "        text-align: right;\n",
       "    }\n",
       "</style>\n",
       "<table border=\"1\" class=\"dataframe\">\n",
       "  <thead>\n",
       "    <tr style=\"text-align: right;\">\n",
       "      <th></th>\n",
       "      <th>author_id</th>\n",
       "      <th>pratilipi_id</th>\n",
       "      <th>category_name</th>\n",
       "      <th>updated_at</th>\n",
       "      <th>published_at</th>\n",
       "      <th>reading_time</th>\n",
       "      <th>month</th>\n",
       "      <th>year</th>\n",
       "    </tr>\n",
       "  </thead>\n",
       "  <tbody>\n",
       "    <tr>\n",
       "      <th>0</th>\n",
       "      <td>9070332352853360</td>\n",
       "      <td>312572401325768</td>\n",
       "      <td>[novels, politics, social]</td>\n",
       "      <td>2018-12-03 01:57:32</td>\n",
       "      <td>2017-12-04 18:08:16</td>\n",
       "      <td>0.0</td>\n",
       "      <td>12.0</td>\n",
       "      <td>2017.0</td>\n",
       "    </tr>\n",
       "    <tr>\n",
       "      <th>1</th>\n",
       "      <td>9070332352853358</td>\n",
       "      <td>96530313603384</td>\n",
       "      <td>[horror]</td>\n",
       "      <td>2018-08-17 10:28:18</td>\n",
       "      <td>2017-12-04 19:11:01</td>\n",
       "      <td>0.0</td>\n",
       "      <td>12.0</td>\n",
       "      <td>2017.0</td>\n",
       "    </tr>\n",
       "    <tr>\n",
       "      <th>2</th>\n",
       "      <td>4566636240762225</td>\n",
       "      <td>1377786218853788</td>\n",
       "      <td>[novels, romance, suspense]</td>\n",
       "      <td>2022-01-17 18:04:49</td>\n",
       "      <td>2020-04-27 09:31:23</td>\n",
       "      <td>81.0</td>\n",
       "      <td>4.0</td>\n",
       "      <td>2020.0</td>\n",
       "    </tr>\n",
       "    <tr>\n",
       "      <th>3</th>\n",
       "      <td>4566636240762225</td>\n",
       "      <td>1377786218889274</td>\n",
       "      <td>[novels, romance, suspense]</td>\n",
       "      <td>2020-05-05 18:02:26</td>\n",
       "      <td>2020-05-05 18:02:26</td>\n",
       "      <td>112.0</td>\n",
       "      <td>5.0</td>\n",
       "      <td>2020.0</td>\n",
       "    </tr>\n",
       "    <tr>\n",
       "      <th>4</th>\n",
       "      <td>4566636240762225</td>\n",
       "      <td>1377786224904125</td>\n",
       "      <td>[detective, romance, murdermystery]</td>\n",
       "      <td>2021-07-28 15:23:45</td>\n",
       "      <td>2021-07-28 14:14:45</td>\n",
       "      <td>262.0</td>\n",
       "      <td>7.0</td>\n",
       "      <td>2021.0</td>\n",
       "    </tr>\n",
       "  </tbody>\n",
       "</table>\n",
       "</div>"
      ],
      "text/plain": [
       "          author_id      pratilipi_id                        category_name  \\\n",
       "0  9070332352853360   312572401325768           [novels, politics, social]   \n",
       "1  9070332352853358    96530313603384                             [horror]   \n",
       "2  4566636240762225  1377786218853788          [novels, romance, suspense]   \n",
       "3  4566636240762225  1377786218889274          [novels, romance, suspense]   \n",
       "4  4566636240762225  1377786224904125  [detective, romance, murdermystery]   \n",
       "\n",
       "            updated_at        published_at  reading_time  month    year  \n",
       "0  2018-12-03 01:57:32 2017-12-04 18:08:16           0.0   12.0  2017.0  \n",
       "1  2018-08-17 10:28:18 2017-12-04 19:11:01           0.0   12.0  2017.0  \n",
       "2  2022-01-17 18:04:49 2020-04-27 09:31:23          81.0    4.0  2020.0  \n",
       "3  2020-05-05 18:02:26 2020-05-05 18:02:26         112.0    5.0  2020.0  \n",
       "4  2021-07-28 15:23:45 2021-07-28 14:14:45         262.0    7.0  2021.0  "
      ]
     },
     "execution_count": 61,
     "metadata": {},
     "output_type": "execute_result"
    }
   ],
   "source": [
    "meta.head()"
   ]
  },
  {
   "cell_type": "code",
   "execution_count": 62,
   "metadata": {
    "execution": {
     "iopub.execute_input": "2025-02-05T21:07:42.568751Z",
     "iopub.status.busy": "2025-02-05T21:07:42.568443Z",
     "iopub.status.idle": "2025-02-05T21:07:42.833045Z",
     "shell.execute_reply": "2025-02-05T21:07:42.832084Z",
     "shell.execute_reply.started": "2025-02-05T21:07:42.568662Z"
    },
    "trusted": true
   },
   "outputs": [],
   "source": [
    "#helps decrease the speard and make data bit more uniform\n",
    "meta['reading_time_min'] = meta['reading_time'].apply(lambda x: int(x/60))"
   ]
  },
  {
   "cell_type": "code",
   "execution_count": 63,
   "metadata": {
    "execution": {
     "iopub.execute_input": "2025-02-05T21:07:42.834978Z",
     "iopub.status.busy": "2025-02-05T21:07:42.834594Z",
     "iopub.status.idle": "2025-02-05T21:07:42.854721Z",
     "shell.execute_reply": "2025-02-05T21:07:42.853764Z",
     "shell.execute_reply.started": "2025-02-05T21:07:42.834931Z"
    },
    "trusted": true
   },
   "outputs": [
    {
     "data": {
      "text/html": [
       "<div>\n",
       "<style scoped>\n",
       "    .dataframe tbody tr th:only-of-type {\n",
       "        vertical-align: middle;\n",
       "    }\n",
       "\n",
       "    .dataframe tbody tr th {\n",
       "        vertical-align: top;\n",
       "    }\n",
       "\n",
       "    .dataframe thead th {\n",
       "        text-align: right;\n",
       "    }\n",
       "</style>\n",
       "<table border=\"1\" class=\"dataframe\">\n",
       "  <thead>\n",
       "    <tr style=\"text-align: right;\">\n",
       "      <th></th>\n",
       "      <th>author_id</th>\n",
       "      <th>pratilipi_id</th>\n",
       "      <th>category_name</th>\n",
       "      <th>updated_at</th>\n",
       "      <th>published_at</th>\n",
       "      <th>reading_time</th>\n",
       "      <th>month</th>\n",
       "      <th>year</th>\n",
       "      <th>reading_time_min</th>\n",
       "    </tr>\n",
       "  </thead>\n",
       "  <tbody>\n",
       "    <tr>\n",
       "      <th>0</th>\n",
       "      <td>9070332352853360</td>\n",
       "      <td>312572401325768</td>\n",
       "      <td>[novels, politics, social]</td>\n",
       "      <td>2018-12-03 01:57:32</td>\n",
       "      <td>2017-12-04 18:08:16</td>\n",
       "      <td>0.0</td>\n",
       "      <td>12.0</td>\n",
       "      <td>2017.0</td>\n",
       "      <td>0</td>\n",
       "    </tr>\n",
       "    <tr>\n",
       "      <th>1</th>\n",
       "      <td>9070332352853358</td>\n",
       "      <td>96530313603384</td>\n",
       "      <td>[horror]</td>\n",
       "      <td>2018-08-17 10:28:18</td>\n",
       "      <td>2017-12-04 19:11:01</td>\n",
       "      <td>0.0</td>\n",
       "      <td>12.0</td>\n",
       "      <td>2017.0</td>\n",
       "      <td>0</td>\n",
       "    </tr>\n",
       "    <tr>\n",
       "      <th>2</th>\n",
       "      <td>4566636240762225</td>\n",
       "      <td>1377786218853788</td>\n",
       "      <td>[novels, romance, suspense]</td>\n",
       "      <td>2022-01-17 18:04:49</td>\n",
       "      <td>2020-04-27 09:31:23</td>\n",
       "      <td>81.0</td>\n",
       "      <td>4.0</td>\n",
       "      <td>2020.0</td>\n",
       "      <td>1</td>\n",
       "    </tr>\n",
       "    <tr>\n",
       "      <th>3</th>\n",
       "      <td>4566636240762225</td>\n",
       "      <td>1377786218889274</td>\n",
       "      <td>[novels, romance, suspense]</td>\n",
       "      <td>2020-05-05 18:02:26</td>\n",
       "      <td>2020-05-05 18:02:26</td>\n",
       "      <td>112.0</td>\n",
       "      <td>5.0</td>\n",
       "      <td>2020.0</td>\n",
       "      <td>1</td>\n",
       "    </tr>\n",
       "    <tr>\n",
       "      <th>4</th>\n",
       "      <td>4566636240762225</td>\n",
       "      <td>1377786224904125</td>\n",
       "      <td>[detective, romance, murdermystery]</td>\n",
       "      <td>2021-07-28 15:23:45</td>\n",
       "      <td>2021-07-28 14:14:45</td>\n",
       "      <td>262.0</td>\n",
       "      <td>7.0</td>\n",
       "      <td>2021.0</td>\n",
       "      <td>4</td>\n",
       "    </tr>\n",
       "  </tbody>\n",
       "</table>\n",
       "</div>"
      ],
      "text/plain": [
       "          author_id      pratilipi_id                        category_name  \\\n",
       "0  9070332352853360   312572401325768           [novels, politics, social]   \n",
       "1  9070332352853358    96530313603384                             [horror]   \n",
       "2  4566636240762225  1377786218853788          [novels, romance, suspense]   \n",
       "3  4566636240762225  1377786218889274          [novels, romance, suspense]   \n",
       "4  4566636240762225  1377786224904125  [detective, romance, murdermystery]   \n",
       "\n",
       "            updated_at        published_at  reading_time  month    year  \\\n",
       "0  2018-12-03 01:57:32 2017-12-04 18:08:16           0.0   12.0  2017.0   \n",
       "1  2018-08-17 10:28:18 2017-12-04 19:11:01           0.0   12.0  2017.0   \n",
       "2  2022-01-17 18:04:49 2020-04-27 09:31:23          81.0    4.0  2020.0   \n",
       "3  2020-05-05 18:02:26 2020-05-05 18:02:26         112.0    5.0  2020.0   \n",
       "4  2021-07-28 15:23:45 2021-07-28 14:14:45         262.0    7.0  2021.0   \n",
       "\n",
       "   reading_time_min  \n",
       "0                 0  \n",
       "1                 0  \n",
       "2                 1  \n",
       "3                 1  \n",
       "4                 4  "
      ]
     },
     "execution_count": 63,
     "metadata": {},
     "output_type": "execute_result"
    }
   ],
   "source": [
    "meta.head()"
   ]
  },
  {
   "cell_type": "code",
   "execution_count": 64,
   "metadata": {
    "execution": {
     "iopub.execute_input": "2025-02-05T21:07:42.856986Z",
     "iopub.status.busy": "2025-02-05T21:07:42.856592Z",
     "iopub.status.idle": "2025-02-05T21:07:42.876576Z",
     "shell.execute_reply": "2025-02-05T21:07:42.875515Z",
     "shell.execute_reply.started": "2025-02-05T21:07:42.856937Z"
    },
    "trusted": true
   },
   "outputs": [
    {
     "data": {
      "text/html": [
       "<div>\n",
       "<style scoped>\n",
       "    .dataframe tbody tr th:only-of-type {\n",
       "        vertical-align: middle;\n",
       "    }\n",
       "\n",
       "    .dataframe tbody tr th {\n",
       "        vertical-align: top;\n",
       "    }\n",
       "\n",
       "    .dataframe thead th {\n",
       "        text-align: right;\n",
       "    }\n",
       "</style>\n",
       "<table border=\"1\" class=\"dataframe\">\n",
       "  <thead>\n",
       "    <tr style=\"text-align: right;\">\n",
       "      <th></th>\n",
       "      <th>user_id</th>\n",
       "      <th>pratilipi_id</th>\n",
       "      <th>read_percent</th>\n",
       "      <th>updated_at</th>\n",
       "    </tr>\n",
       "  </thead>\n",
       "  <tbody>\n",
       "    <tr>\n",
       "      <th>0</th>\n",
       "      <td>5506791978962946</td>\n",
       "      <td>1377786228157051</td>\n",
       "      <td>100.0</td>\n",
       "      <td>2022-03-22 17:32:44.777</td>\n",
       "    </tr>\n",
       "    <tr>\n",
       "      <th>1</th>\n",
       "      <td>5506791963323596</td>\n",
       "      <td>1377786228041122</td>\n",
       "      <td>7.0</td>\n",
       "      <td>2022-03-18 16:48:11.675</td>\n",
       "    </tr>\n",
       "    <tr>\n",
       "      <th>2</th>\n",
       "      <td>5506791954583270</td>\n",
       "      <td>1377786219622753</td>\n",
       "      <td>100.0</td>\n",
       "      <td>2022-03-18 18:05:29.744</td>\n",
       "    </tr>\n",
       "    <tr>\n",
       "      <th>3</th>\n",
       "      <td>5506791953653126</td>\n",
       "      <td>1377786226770101</td>\n",
       "      <td>20.0</td>\n",
       "      <td>2022-03-19 19:04:04.430</td>\n",
       "    </tr>\n",
       "    <tr>\n",
       "      <th>4</th>\n",
       "      <td>5343102224474788</td>\n",
       "      <td>1377786218197485</td>\n",
       "      <td>22.0</td>\n",
       "      <td>2022-03-21 18:24:32.699</td>\n",
       "    </tr>\n",
       "  </tbody>\n",
       "</table>\n",
       "</div>"
      ],
      "text/plain": [
       "            user_id      pratilipi_id  read_percent              updated_at\n",
       "0  5506791978962946  1377786228157051         100.0 2022-03-22 17:32:44.777\n",
       "1  5506791963323596  1377786228041122           7.0 2022-03-18 16:48:11.675\n",
       "2  5506791954583270  1377786219622753         100.0 2022-03-18 18:05:29.744\n",
       "3  5506791953653126  1377786226770101          20.0 2022-03-19 19:04:04.430\n",
       "4  5343102224474788  1377786218197485          22.0 2022-03-21 18:24:32.699"
      ]
     },
     "execution_count": 64,
     "metadata": {},
     "output_type": "execute_result"
    }
   ],
   "source": [
    "indata.head()"
   ]
  },
  {
   "cell_type": "code",
   "execution_count": 65,
   "metadata": {
    "execution": {
     "iopub.execute_input": "2025-02-05T21:07:42.878381Z",
     "iopub.status.busy": "2025-02-05T21:07:42.878080Z",
     "iopub.status.idle": "2025-02-05T21:07:42.897928Z",
     "shell.execute_reply": "2025-02-05T21:07:42.896931Z",
     "shell.execute_reply.started": "2025-02-05T21:07:42.878328Z"
    },
    "trusted": true
   },
   "outputs": [
    {
     "data": {
      "text/plain": [
       "Timestamp('2022-03-18 15:14:41.827000')"
      ]
     },
     "execution_count": 65,
     "metadata": {},
     "output_type": "execute_result"
    }
   ],
   "source": [
    "# Remove all stories published after the minimum intereaction datetime so that recommendation is evaluated fairly\n",
    "indata[\"updated_at\"].min()"
   ]
  },
  {
   "cell_type": "code",
   "execution_count": 66,
   "metadata": {
    "execution": {
     "iopub.execute_input": "2025-02-05T21:07:42.899531Z",
     "iopub.status.busy": "2025-02-05T21:07:42.899270Z",
     "iopub.status.idle": "2025-02-05T21:07:42.906607Z",
     "shell.execute_reply": "2025-02-05T21:07:42.905609Z",
     "shell.execute_reply.started": "2025-02-05T21:07:42.899499Z"
    },
    "trusted": true
   },
   "outputs": [
    {
     "data": {
      "text/plain": [
       "(486693, 9)"
      ]
     },
     "execution_count": 66,
     "metadata": {},
     "output_type": "execute_result"
    }
   ],
   "source": [
    "meta.shape"
   ]
  },
  {
   "cell_type": "code",
   "execution_count": 67,
   "metadata": {
    "execution": {
     "iopub.execute_input": "2025-02-05T21:07:42.908076Z",
     "iopub.status.busy": "2025-02-05T21:07:42.907848Z",
     "iopub.status.idle": "2025-02-05T21:07:43.029390Z",
     "shell.execute_reply": "2025-02-05T21:07:43.028518Z",
     "shell.execute_reply.started": "2025-02-05T21:07:42.908048Z"
    },
    "trusted": true
   },
   "outputs": [],
   "source": [
    "meta = meta[meta[\"published_at\"]<indata[\"updated_at\"].min()].reset_index(drop = True)"
   ]
  },
  {
   "cell_type": "code",
   "execution_count": 68,
   "metadata": {
    "execution": {
     "iopub.execute_input": "2025-02-05T21:07:43.031010Z",
     "iopub.status.busy": "2025-02-05T21:07:43.030652Z",
     "iopub.status.idle": "2025-02-05T21:07:43.038027Z",
     "shell.execute_reply": "2025-02-05T21:07:43.037101Z",
     "shell.execute_reply.started": "2025-02-05T21:07:43.030966Z"
    },
    "trusted": true
   },
   "outputs": [
    {
     "data": {
      "text/plain": [
       "(482321, 9)"
      ]
     },
     "execution_count": 68,
     "metadata": {},
     "output_type": "execute_result"
    }
   ],
   "source": [
    "meta.shape"
   ]
  },
  {
   "cell_type": "code",
   "execution_count": 69,
   "metadata": {
    "execution": {
     "iopub.execute_input": "2025-02-05T21:07:51.382997Z",
     "iopub.status.busy": "2025-02-05T21:07:51.382609Z",
     "iopub.status.idle": "2025-02-05T21:07:51.389645Z",
     "shell.execute_reply": "2025-02-05T21:07:51.388665Z",
     "shell.execute_reply.started": "2025-02-05T21:07:51.382955Z"
    },
    "trusted": true
   },
   "outputs": [
    {
     "data": {
      "text/plain": [
       "(1565577, 4)"
      ]
     },
     "execution_count": 69,
     "metadata": {},
     "output_type": "execute_result"
    }
   ],
   "source": [
    "indata.shape"
   ]
  },
  {
   "cell_type": "code",
   "execution_count": 70,
   "metadata": {
    "execution": {
     "iopub.execute_input": "2025-02-05T21:07:52.714881Z",
     "iopub.status.busy": "2025-02-05T21:07:52.714538Z",
     "iopub.status.idle": "2025-02-05T21:07:52.874486Z",
     "shell.execute_reply": "2025-02-05T21:07:52.873401Z",
     "shell.execute_reply.started": "2025-02-05T21:07:52.714844Z"
    },
    "trusted": true
   },
   "outputs": [],
   "source": [
    "indata = indata[indata[\"pratilipi_id\"].isin(meta[\"pratilipi_id\"].unique())].reset_index(drop = True)"
   ]
  },
  {
   "cell_type": "code",
   "execution_count": 71,
   "metadata": {
    "execution": {
     "iopub.execute_input": "2025-02-05T21:07:53.280236Z",
     "iopub.status.busy": "2025-02-05T21:07:53.279911Z",
     "iopub.status.idle": "2025-02-05T21:07:53.287216Z",
     "shell.execute_reply": "2025-02-05T21:07:53.286127Z",
     "shell.execute_reply.started": "2025-02-05T21:07:53.280199Z"
    },
    "trusted": true
   },
   "outputs": [
    {
     "data": {
      "text/plain": [
       "(869458, 4)"
      ]
     },
     "execution_count": 71,
     "metadata": {},
     "output_type": "execute_result"
    }
   ],
   "source": [
    "# Remove interactions with record of their metadata \n",
    "indata.shape"
   ]
  },
  {
   "cell_type": "code",
   "execution_count": 72,
   "metadata": {
    "execution": {
     "iopub.execute_input": "2025-02-05T21:07:53.734350Z",
     "iopub.status.busy": "2025-02-05T21:07:53.734073Z",
     "iopub.status.idle": "2025-02-05T21:07:53.750358Z",
     "shell.execute_reply": "2025-02-05T21:07:53.749355Z",
     "shell.execute_reply.started": "2025-02-05T21:07:53.734321Z"
    },
    "trusted": true
   },
   "outputs": [
    {
     "data": {
      "text/html": [
       "<div>\n",
       "<style scoped>\n",
       "    .dataframe tbody tr th:only-of-type {\n",
       "        vertical-align: middle;\n",
       "    }\n",
       "\n",
       "    .dataframe tbody tr th {\n",
       "        vertical-align: top;\n",
       "    }\n",
       "\n",
       "    .dataframe thead th {\n",
       "        text-align: right;\n",
       "    }\n",
       "</style>\n",
       "<table border=\"1\" class=\"dataframe\">\n",
       "  <thead>\n",
       "    <tr style=\"text-align: right;\">\n",
       "      <th></th>\n",
       "      <th>author_id</th>\n",
       "      <th>pratilipi_id</th>\n",
       "      <th>category_name</th>\n",
       "      <th>updated_at</th>\n",
       "      <th>published_at</th>\n",
       "      <th>reading_time</th>\n",
       "      <th>month</th>\n",
       "      <th>year</th>\n",
       "      <th>reading_time_min</th>\n",
       "    </tr>\n",
       "  </thead>\n",
       "  <tbody>\n",
       "    <tr>\n",
       "      <th>0</th>\n",
       "      <td>9070332352853360</td>\n",
       "      <td>312572401325768</td>\n",
       "      <td>[novels, politics, social]</td>\n",
       "      <td>2018-12-03 01:57:32</td>\n",
       "      <td>2017-12-04 18:08:16</td>\n",
       "      <td>0.0</td>\n",
       "      <td>12.0</td>\n",
       "      <td>2017.0</td>\n",
       "      <td>0</td>\n",
       "    </tr>\n",
       "    <tr>\n",
       "      <th>1</th>\n",
       "      <td>9070332352853358</td>\n",
       "      <td>96530313603384</td>\n",
       "      <td>[horror]</td>\n",
       "      <td>2018-08-17 10:28:18</td>\n",
       "      <td>2017-12-04 19:11:01</td>\n",
       "      <td>0.0</td>\n",
       "      <td>12.0</td>\n",
       "      <td>2017.0</td>\n",
       "      <td>0</td>\n",
       "    </tr>\n",
       "    <tr>\n",
       "      <th>2</th>\n",
       "      <td>4566636240762225</td>\n",
       "      <td>1377786218853788</td>\n",
       "      <td>[novels, romance, suspense]</td>\n",
       "      <td>2022-01-17 18:04:49</td>\n",
       "      <td>2020-04-27 09:31:23</td>\n",
       "      <td>81.0</td>\n",
       "      <td>4.0</td>\n",
       "      <td>2020.0</td>\n",
       "      <td>1</td>\n",
       "    </tr>\n",
       "    <tr>\n",
       "      <th>3</th>\n",
       "      <td>4566636240762225</td>\n",
       "      <td>1377786218889274</td>\n",
       "      <td>[novels, romance, suspense]</td>\n",
       "      <td>2020-05-05 18:02:26</td>\n",
       "      <td>2020-05-05 18:02:26</td>\n",
       "      <td>112.0</td>\n",
       "      <td>5.0</td>\n",
       "      <td>2020.0</td>\n",
       "      <td>1</td>\n",
       "    </tr>\n",
       "    <tr>\n",
       "      <th>4</th>\n",
       "      <td>4566636240762225</td>\n",
       "      <td>1377786224904125</td>\n",
       "      <td>[detective, romance, murdermystery]</td>\n",
       "      <td>2021-07-28 15:23:45</td>\n",
       "      <td>2021-07-28 14:14:45</td>\n",
       "      <td>262.0</td>\n",
       "      <td>7.0</td>\n",
       "      <td>2021.0</td>\n",
       "      <td>4</td>\n",
       "    </tr>\n",
       "  </tbody>\n",
       "</table>\n",
       "</div>"
      ],
      "text/plain": [
       "          author_id      pratilipi_id                        category_name  \\\n",
       "0  9070332352853360   312572401325768           [novels, politics, social]   \n",
       "1  9070332352853358    96530313603384                             [horror]   \n",
       "2  4566636240762225  1377786218853788          [novels, romance, suspense]   \n",
       "3  4566636240762225  1377786218889274          [novels, romance, suspense]   \n",
       "4  4566636240762225  1377786224904125  [detective, romance, murdermystery]   \n",
       "\n",
       "            updated_at        published_at  reading_time  month    year  \\\n",
       "0  2018-12-03 01:57:32 2017-12-04 18:08:16           0.0   12.0  2017.0   \n",
       "1  2018-08-17 10:28:18 2017-12-04 19:11:01           0.0   12.0  2017.0   \n",
       "2  2022-01-17 18:04:49 2020-04-27 09:31:23          81.0    4.0  2020.0   \n",
       "3  2020-05-05 18:02:26 2020-05-05 18:02:26         112.0    5.0  2020.0   \n",
       "4  2021-07-28 15:23:45 2021-07-28 14:14:45         262.0    7.0  2021.0   \n",
       "\n",
       "   reading_time_min  \n",
       "0                 0  \n",
       "1                 0  \n",
       "2                 1  \n",
       "3                 1  \n",
       "4                 4  "
      ]
     },
     "execution_count": 72,
     "metadata": {},
     "output_type": "execute_result"
    }
   ],
   "source": [
    "meta.head()"
   ]
  },
  {
   "cell_type": "code",
   "execution_count": 73,
   "metadata": {
    "execution": {
     "iopub.execute_input": "2025-02-05T21:07:56.128185Z",
     "iopub.status.busy": "2025-02-05T21:07:56.127326Z",
     "iopub.status.idle": "2025-02-05T21:07:56.143417Z",
     "shell.execute_reply": "2025-02-05T21:07:56.142348Z",
     "shell.execute_reply.started": "2025-02-05T21:07:56.128141Z"
    },
    "trusted": true
   },
   "outputs": [],
   "source": [
    "# we will remove updated_at and published_at(features already captured)\n",
    "meta.drop([\"updated_at\",\"published_at\",\"author_id\",\"reading_time\"],axis = 1,inplace = True)"
   ]
  },
  {
   "cell_type": "code",
   "execution_count": 74,
   "metadata": {
    "execution": {
     "iopub.execute_input": "2025-02-05T21:07:56.321918Z",
     "iopub.status.busy": "2025-02-05T21:07:56.321608Z",
     "iopub.status.idle": "2025-02-05T21:07:56.335454Z",
     "shell.execute_reply": "2025-02-05T21:07:56.334401Z",
     "shell.execute_reply.started": "2025-02-05T21:07:56.321886Z"
    },
    "trusted": true
   },
   "outputs": [
    {
     "data": {
      "text/html": [
       "<div>\n",
       "<style scoped>\n",
       "    .dataframe tbody tr th:only-of-type {\n",
       "        vertical-align: middle;\n",
       "    }\n",
       "\n",
       "    .dataframe tbody tr th {\n",
       "        vertical-align: top;\n",
       "    }\n",
       "\n",
       "    .dataframe thead th {\n",
       "        text-align: right;\n",
       "    }\n",
       "</style>\n",
       "<table border=\"1\" class=\"dataframe\">\n",
       "  <thead>\n",
       "    <tr style=\"text-align: right;\">\n",
       "      <th></th>\n",
       "      <th>pratilipi_id</th>\n",
       "      <th>category_name</th>\n",
       "      <th>month</th>\n",
       "      <th>year</th>\n",
       "      <th>reading_time_min</th>\n",
       "    </tr>\n",
       "  </thead>\n",
       "  <tbody>\n",
       "    <tr>\n",
       "      <th>0</th>\n",
       "      <td>312572401325768</td>\n",
       "      <td>[novels, politics, social]</td>\n",
       "      <td>12.0</td>\n",
       "      <td>2017.0</td>\n",
       "      <td>0</td>\n",
       "    </tr>\n",
       "    <tr>\n",
       "      <th>1</th>\n",
       "      <td>96530313603384</td>\n",
       "      <td>[horror]</td>\n",
       "      <td>12.0</td>\n",
       "      <td>2017.0</td>\n",
       "      <td>0</td>\n",
       "    </tr>\n",
       "    <tr>\n",
       "      <th>2</th>\n",
       "      <td>1377786218853788</td>\n",
       "      <td>[novels, romance, suspense]</td>\n",
       "      <td>4.0</td>\n",
       "      <td>2020.0</td>\n",
       "      <td>1</td>\n",
       "    </tr>\n",
       "    <tr>\n",
       "      <th>3</th>\n",
       "      <td>1377786218889274</td>\n",
       "      <td>[novels, romance, suspense]</td>\n",
       "      <td>5.0</td>\n",
       "      <td>2020.0</td>\n",
       "      <td>1</td>\n",
       "    </tr>\n",
       "    <tr>\n",
       "      <th>4</th>\n",
       "      <td>1377786224904125</td>\n",
       "      <td>[detective, romance, murdermystery]</td>\n",
       "      <td>7.0</td>\n",
       "      <td>2021.0</td>\n",
       "      <td>4</td>\n",
       "    </tr>\n",
       "  </tbody>\n",
       "</table>\n",
       "</div>"
      ],
      "text/plain": [
       "       pratilipi_id                        category_name  month    year  \\\n",
       "0   312572401325768           [novels, politics, social]   12.0  2017.0   \n",
       "1    96530313603384                             [horror]   12.0  2017.0   \n",
       "2  1377786218853788          [novels, romance, suspense]    4.0  2020.0   \n",
       "3  1377786218889274          [novels, romance, suspense]    5.0  2020.0   \n",
       "4  1377786224904125  [detective, romance, murdermystery]    7.0  2021.0   \n",
       "\n",
       "   reading_time_min  \n",
       "0                 0  \n",
       "1                 0  \n",
       "2                 1  \n",
       "3                 1  \n",
       "4                 4  "
      ]
     },
     "execution_count": 74,
     "metadata": {},
     "output_type": "execute_result"
    }
   ],
   "source": [
    "meta.head()"
   ]
  },
  {
   "cell_type": "code",
   "execution_count": 75,
   "metadata": {
    "execution": {
     "iopub.execute_input": "2025-02-05T21:07:56.453957Z",
     "iopub.status.busy": "2025-02-05T21:07:56.453633Z",
     "iopub.status.idle": "2025-02-05T21:07:56.460393Z",
     "shell.execute_reply": "2025-02-05T21:07:56.459496Z",
     "shell.execute_reply.started": "2025-02-05T21:07:56.453926Z"
    },
    "trusted": true
   },
   "outputs": [
    {
     "data": {
      "text/plain": [
       "Index(['pratilipi_id', 'category_name', 'month', 'year', 'reading_time_min'], dtype='object')"
      ]
     },
     "execution_count": 75,
     "metadata": {},
     "output_type": "execute_result"
    }
   ],
   "source": [
    "meta.columns"
   ]
  },
  {
   "cell_type": "code",
   "execution_count": 76,
   "metadata": {
    "execution": {
     "iopub.execute_input": "2025-02-05T21:07:59.544477Z",
     "iopub.status.busy": "2025-02-05T21:07:59.544174Z",
     "iopub.status.idle": "2025-02-05T21:07:59.556316Z",
     "shell.execute_reply": "2025-02-05T21:07:59.555408Z",
     "shell.execute_reply.started": "2025-02-05T21:07:59.544447Z"
    },
    "trusted": true
   },
   "outputs": [
    {
     "data": {
      "text/html": [
       "<div>\n",
       "<style scoped>\n",
       "    .dataframe tbody tr th:only-of-type {\n",
       "        vertical-align: middle;\n",
       "    }\n",
       "\n",
       "    .dataframe tbody tr th {\n",
       "        vertical-align: top;\n",
       "    }\n",
       "\n",
       "    .dataframe thead th {\n",
       "        text-align: right;\n",
       "    }\n",
       "</style>\n",
       "<table border=\"1\" class=\"dataframe\">\n",
       "  <thead>\n",
       "    <tr style=\"text-align: right;\">\n",
       "      <th></th>\n",
       "      <th>user_id</th>\n",
       "      <th>pratilipi_id</th>\n",
       "      <th>read_percent</th>\n",
       "      <th>updated_at</th>\n",
       "    </tr>\n",
       "  </thead>\n",
       "  <tbody>\n",
       "    <tr>\n",
       "      <th>0</th>\n",
       "      <td>5506791978962946</td>\n",
       "      <td>1377786228157051</td>\n",
       "      <td>100.0</td>\n",
       "      <td>2022-03-22 17:32:44.777</td>\n",
       "    </tr>\n",
       "    <tr>\n",
       "      <th>1</th>\n",
       "      <td>5506791963323596</td>\n",
       "      <td>1377786228041122</td>\n",
       "      <td>7.0</td>\n",
       "      <td>2022-03-18 16:48:11.675</td>\n",
       "    </tr>\n",
       "    <tr>\n",
       "      <th>2</th>\n",
       "      <td>5506791954583270</td>\n",
       "      <td>1377786219622753</td>\n",
       "      <td>100.0</td>\n",
       "      <td>2022-03-18 18:05:29.744</td>\n",
       "    </tr>\n",
       "    <tr>\n",
       "      <th>3</th>\n",
       "      <td>5506791953653126</td>\n",
       "      <td>1377786226770101</td>\n",
       "      <td>20.0</td>\n",
       "      <td>2022-03-19 19:04:04.430</td>\n",
       "    </tr>\n",
       "    <tr>\n",
       "      <th>4</th>\n",
       "      <td>5343102224474788</td>\n",
       "      <td>1377786218197485</td>\n",
       "      <td>22.0</td>\n",
       "      <td>2022-03-21 18:24:32.699</td>\n",
       "    </tr>\n",
       "  </tbody>\n",
       "</table>\n",
       "</div>"
      ],
      "text/plain": [
       "            user_id      pratilipi_id  read_percent              updated_at\n",
       "0  5506791978962946  1377786228157051         100.0 2022-03-22 17:32:44.777\n",
       "1  5506791963323596  1377786228041122           7.0 2022-03-18 16:48:11.675\n",
       "2  5506791954583270  1377786219622753         100.0 2022-03-18 18:05:29.744\n",
       "3  5506791953653126  1377786226770101          20.0 2022-03-19 19:04:04.430\n",
       "4  5343102224474788  1377786218197485          22.0 2022-03-21 18:24:32.699"
      ]
     },
     "execution_count": 76,
     "metadata": {},
     "output_type": "execute_result"
    }
   ],
   "source": [
    "indata.head()"
   ]
  },
  {
   "cell_type": "code",
   "execution_count": 77,
   "metadata": {
    "execution": {
     "iopub.execute_input": "2025-02-05T21:07:59.871747Z",
     "iopub.status.busy": "2025-02-05T21:07:59.871416Z",
     "iopub.status.idle": "2025-02-05T21:08:00.271041Z",
     "shell.execute_reply": "2025-02-05T21:08:00.270056Z",
     "shell.execute_reply.started": "2025-02-05T21:07:59.871703Z"
    },
    "trusted": true
   },
   "outputs": [
    {
     "data": {
      "text/html": [
       "<div>\n",
       "<style scoped>\n",
       "    .dataframe tbody tr th:only-of-type {\n",
       "        vertical-align: middle;\n",
       "    }\n",
       "\n",
       "    .dataframe tbody tr th {\n",
       "        vertical-align: top;\n",
       "    }\n",
       "\n",
       "    .dataframe thead th {\n",
       "        text-align: right;\n",
       "    }\n",
       "</style>\n",
       "<table border=\"1\" class=\"dataframe\">\n",
       "  <thead>\n",
       "    <tr style=\"text-align: right;\">\n",
       "      <th></th>\n",
       "      <th>user_id</th>\n",
       "      <th>pratilipi_id</th>\n",
       "      <th>read_percent</th>\n",
       "      <th>updated_at</th>\n",
       "      <th>category_name</th>\n",
       "      <th>month</th>\n",
       "      <th>year</th>\n",
       "      <th>reading_time_min</th>\n",
       "    </tr>\n",
       "  </thead>\n",
       "  <tbody>\n",
       "    <tr>\n",
       "      <th>0</th>\n",
       "      <td>5506791978962946</td>\n",
       "      <td>1377786228157051</td>\n",
       "      <td>100.0</td>\n",
       "      <td>2022-03-22 17:32:44.777</td>\n",
       "      <td>[romance, suspense, swahindi2]</td>\n",
       "      <td>3.0</td>\n",
       "      <td>2022.0</td>\n",
       "      <td>13</td>\n",
       "    </tr>\n",
       "    <tr>\n",
       "      <th>1</th>\n",
       "      <td>5506791963323596</td>\n",
       "      <td>1377786228041122</td>\n",
       "      <td>7.0</td>\n",
       "      <td>2022-03-18 16:48:11.675</td>\n",
       "      <td>[actionandadventure, romance, swahindi2]</td>\n",
       "      <td>3.0</td>\n",
       "      <td>2022.0</td>\n",
       "      <td>10</td>\n",
       "    </tr>\n",
       "    <tr>\n",
       "      <th>2</th>\n",
       "      <td>5506791954583270</td>\n",
       "      <td>1377786219622753</td>\n",
       "      <td>100.0</td>\n",
       "      <td>2022-03-18 18:05:29.744</td>\n",
       "      <td>[novels, romance, entertainment]</td>\n",
       "      <td>6.0</td>\n",
       "      <td>2020.0</td>\n",
       "      <td>19</td>\n",
       "    </tr>\n",
       "    <tr>\n",
       "      <th>3</th>\n",
       "      <td>5506791953653126</td>\n",
       "      <td>1377786226770101</td>\n",
       "      <td>20.0</td>\n",
       "      <td>2022-03-19 19:04:04.430</td>\n",
       "      <td>[romance, entertainment]</td>\n",
       "      <td>12.0</td>\n",
       "      <td>2021.0</td>\n",
       "      <td>4</td>\n",
       "    </tr>\n",
       "    <tr>\n",
       "      <th>4</th>\n",
       "      <td>5343102224474788</td>\n",
       "      <td>1377786218197485</td>\n",
       "      <td>22.0</td>\n",
       "      <td>2022-03-21 18:24:32.699</td>\n",
       "      <td>[suspense, women, horror]</td>\n",
       "      <td>3.0</td>\n",
       "      <td>2020.0</td>\n",
       "      <td>24</td>\n",
       "    </tr>\n",
       "  </tbody>\n",
       "</table>\n",
       "</div>"
      ],
      "text/plain": [
       "            user_id      pratilipi_id  read_percent              updated_at  \\\n",
       "0  5506791978962946  1377786228157051         100.0 2022-03-22 17:32:44.777   \n",
       "1  5506791963323596  1377786228041122           7.0 2022-03-18 16:48:11.675   \n",
       "2  5506791954583270  1377786219622753         100.0 2022-03-18 18:05:29.744   \n",
       "3  5506791953653126  1377786226770101          20.0 2022-03-19 19:04:04.430   \n",
       "4  5343102224474788  1377786218197485          22.0 2022-03-21 18:24:32.699   \n",
       "\n",
       "                              category_name  month    year  reading_time_min  \n",
       "0            [romance, suspense, swahindi2]    3.0  2022.0                13  \n",
       "1  [actionandadventure, romance, swahindi2]    3.0  2022.0                10  \n",
       "2          [novels, romance, entertainment]    6.0  2020.0                19  \n",
       "3                  [romance, entertainment]   12.0  2021.0                 4  \n",
       "4                 [suspense, women, horror]    3.0  2020.0                24  "
      ]
     },
     "execution_count": 77,
     "metadata": {},
     "output_type": "execute_result"
    }
   ],
   "source": [
    "df = indata.merge(meta, on = 'pratilipi_id',how = 'left')\n",
    "df.head()"
   ]
  },
  {
   "cell_type": "code",
   "execution_count": 78,
   "metadata": {
    "execution": {
     "iopub.execute_input": "2025-02-05T21:08:00.478158Z",
     "iopub.status.busy": "2025-02-05T21:08:00.477855Z",
     "iopub.status.idle": "2025-02-05T21:08:00.487576Z",
     "shell.execute_reply": "2025-02-05T21:08:00.486375Z",
     "shell.execute_reply.started": "2025-02-05T21:08:00.478126Z"
    },
    "trusted": true
   },
   "outputs": [],
   "source": [
    "#function to build entire feature set and merging both dataset\n",
    "def create_feature_set(meta,indata):\n",
    "    \"\"\" \n",
    "    Process df to create a final set of features that will be used to generate recommendations\n",
    "\n",
    "    Parameters: \n",
    "        df (pandas dataframe): Dataframe\n",
    "        float_cols (list(str)): List of float columns that will be scaled \n",
    "        \n",
    "    Returns: \n",
    "        final: final set of features \n",
    "    \"\"\"\n",
    "    df = indata.merge(meta, on = 'pratilipi_id',how = 'left')\n",
    "    tfidf = TfidfVectorizer()\n",
    "    tfidf_matrix =  tfidf.fit_transform(df['category_name'].apply(lambda x: \",\".join(x)))\n",
    "    genre_df = pd.DataFrame(tfidf_matrix.toarray())\n",
    "    genre_df.columns = ['genre' + \"|\" + i for i in tfidf.get_feature_names()]\n",
    "    genre_df.reset_index(drop = True, inplace=True)\n",
    "    #concanenate all features\n",
    "    final = pd.concat([df,genre_df], axis = 1)\n",
    "    final.drop([\"category_name\"],axis =1,inplace = True)\n",
    "    print(genre_df.columns)\n",
    "    return final"
   ]
  },
  {
   "cell_type": "code",
   "execution_count": 79,
   "metadata": {
    "execution": {
     "iopub.execute_input": "2025-02-05T21:08:02.757049Z",
     "iopub.status.busy": "2025-02-05T21:08:02.756623Z",
     "iopub.status.idle": "2025-02-05T21:08:09.313071Z",
     "shell.execute_reply": "2025-02-05T21:08:09.312091Z",
     "shell.execute_reply.started": "2025-02-05T21:08:02.757000Z"
    },
    "trusted": true
   },
   "outputs": [
    {
     "name": "stderr",
     "output_type": "stream",
     "text": [
      "/opt/conda/lib/python3.7/site-packages/sklearn/utils/deprecation.py:87: FutureWarning: Function get_feature_names is deprecated; get_feature_names is deprecated in 1.0 and will be removed in 1.2. Please use get_feature_names_out instead.\n",
      "  warnings.warn(msg, category=FutureWarning)\n"
     ]
    },
    {
     "name": "stdout",
     "output_type": "stream",
     "text": [
      "Index(['genre|actionandadventure', 'genre|children', 'genre|comedy',\n",
      "       'genre|crime', 'genre|crimelekhan', 'genre|cybercrimefiction',\n",
      "       'genre|detective', 'genre|drama', 'genre|entertainment',\n",
      "       'genre|erotica', 'genre|experiencesandmemories', 'genre|family',\n",
      "       'genre|fantasy', 'genre|healthandwellness', 'genre|horror',\n",
      "       'genre|horrormarathon', 'genre|indiawale', 'genre|krishijeevan',\n",
      "       'genre|life', 'genre|moralinspiring', 'genre|murdermystery',\n",
      "       'genre|mythology', 'genre|novels', 'genre|parytan', 'genre|politics',\n",
      "       'genre|pratilipiawardshindi', 'genre|pratilipikalamkarsamman',\n",
      "       'genre|pratilipikids', 'genre|pravasisahitya', 'genre|premkamahina',\n",
      "       'genre|radiofiction', 'genre|rashtriya', 'genre|relegionandspiritual',\n",
      "       'genre|romance', 'genre|sciencefiction', 'genre|serieswriting',\n",
      "       'genre|shortstories', 'genre|shortstorychallenge', 'genre|social',\n",
      "       'genre|suspense', 'genre|swahindi2', 'genre|thechatstory',\n",
      "       'genre|translation', 'genre|webseries', 'genre|women'],\n",
      "      dtype='object')\n"
     ]
    }
   ],
   "source": [
    "final = create_feature_set(meta,indata)"
   ]
  },
  {
   "cell_type": "code",
   "execution_count": 80,
   "metadata": {
    "execution": {
     "iopub.execute_input": "2025-02-05T21:08:09.314982Z",
     "iopub.status.busy": "2025-02-05T21:08:09.314724Z",
     "iopub.status.idle": "2025-02-05T21:08:09.344306Z",
     "shell.execute_reply": "2025-02-05T21:08:09.343253Z",
     "shell.execute_reply.started": "2025-02-05T21:08:09.314950Z"
    },
    "trusted": true
   },
   "outputs": [
    {
     "data": {
      "text/html": [
       "<div>\n",
       "<style scoped>\n",
       "    .dataframe tbody tr th:only-of-type {\n",
       "        vertical-align: middle;\n",
       "    }\n",
       "\n",
       "    .dataframe tbody tr th {\n",
       "        vertical-align: top;\n",
       "    }\n",
       "\n",
       "    .dataframe thead th {\n",
       "        text-align: right;\n",
       "    }\n",
       "</style>\n",
       "<table border=\"1\" class=\"dataframe\">\n",
       "  <thead>\n",
       "    <tr style=\"text-align: right;\">\n",
       "      <th></th>\n",
       "      <th>user_id</th>\n",
       "      <th>pratilipi_id</th>\n",
       "      <th>read_percent</th>\n",
       "      <th>updated_at</th>\n",
       "      <th>month</th>\n",
       "      <th>year</th>\n",
       "      <th>reading_time_min</th>\n",
       "      <th>genre|actionandadventure</th>\n",
       "      <th>genre|children</th>\n",
       "      <th>genre|comedy</th>\n",
       "      <th>...</th>\n",
       "      <th>genre|serieswriting</th>\n",
       "      <th>genre|shortstories</th>\n",
       "      <th>genre|shortstorychallenge</th>\n",
       "      <th>genre|social</th>\n",
       "      <th>genre|suspense</th>\n",
       "      <th>genre|swahindi2</th>\n",
       "      <th>genre|thechatstory</th>\n",
       "      <th>genre|translation</th>\n",
       "      <th>genre|webseries</th>\n",
       "      <th>genre|women</th>\n",
       "    </tr>\n",
       "  </thead>\n",
       "  <tbody>\n",
       "    <tr>\n",
       "      <th>0</th>\n",
       "      <td>5506791978962946</td>\n",
       "      <td>1377786228157051</td>\n",
       "      <td>100.0</td>\n",
       "      <td>2022-03-22 17:32:44.777</td>\n",
       "      <td>3.0</td>\n",
       "      <td>2022.0</td>\n",
       "      <td>13</td>\n",
       "      <td>0.000000</td>\n",
       "      <td>0.0</td>\n",
       "      <td>0.0</td>\n",
       "      <td>...</td>\n",
       "      <td>0.0</td>\n",
       "      <td>0.0</td>\n",
       "      <td>0.0</td>\n",
       "      <td>0.0</td>\n",
       "      <td>0.516946</td>\n",
       "      <td>0.809373</td>\n",
       "      <td>0.0</td>\n",
       "      <td>0.0</td>\n",
       "      <td>0.0</td>\n",
       "      <td>0.000000</td>\n",
       "    </tr>\n",
       "    <tr>\n",
       "      <th>1</th>\n",
       "      <td>5506791963323596</td>\n",
       "      <td>1377786228041122</td>\n",
       "      <td>7.0</td>\n",
       "      <td>2022-03-18 16:48:11.675</td>\n",
       "      <td>3.0</td>\n",
       "      <td>2022.0</td>\n",
       "      <td>10</td>\n",
       "      <td>0.621989</td>\n",
       "      <td>0.0</td>\n",
       "      <td>0.0</td>\n",
       "      <td>...</td>\n",
       "      <td>0.0</td>\n",
       "      <td>0.0</td>\n",
       "      <td>0.0</td>\n",
       "      <td>0.0</td>\n",
       "      <td>0.000000</td>\n",
       "      <td>0.740359</td>\n",
       "      <td>0.0</td>\n",
       "      <td>0.0</td>\n",
       "      <td>0.0</td>\n",
       "      <td>0.000000</td>\n",
       "    </tr>\n",
       "    <tr>\n",
       "      <th>2</th>\n",
       "      <td>5506791954583270</td>\n",
       "      <td>1377786219622753</td>\n",
       "      <td>100.0</td>\n",
       "      <td>2022-03-18 18:05:29.744</td>\n",
       "      <td>6.0</td>\n",
       "      <td>2020.0</td>\n",
       "      <td>19</td>\n",
       "      <td>0.000000</td>\n",
       "      <td>0.0</td>\n",
       "      <td>0.0</td>\n",
       "      <td>...</td>\n",
       "      <td>0.0</td>\n",
       "      <td>0.0</td>\n",
       "      <td>0.0</td>\n",
       "      <td>0.0</td>\n",
       "      <td>0.000000</td>\n",
       "      <td>0.000000</td>\n",
       "      <td>0.0</td>\n",
       "      <td>0.0</td>\n",
       "      <td>0.0</td>\n",
       "      <td>0.000000</td>\n",
       "    </tr>\n",
       "    <tr>\n",
       "      <th>3</th>\n",
       "      <td>5506791953653126</td>\n",
       "      <td>1377786226770101</td>\n",
       "      <td>20.0</td>\n",
       "      <td>2022-03-19 19:04:04.430</td>\n",
       "      <td>12.0</td>\n",
       "      <td>2021.0</td>\n",
       "      <td>4</td>\n",
       "      <td>0.000000</td>\n",
       "      <td>0.0</td>\n",
       "      <td>0.0</td>\n",
       "      <td>...</td>\n",
       "      <td>0.0</td>\n",
       "      <td>0.0</td>\n",
       "      <td>0.0</td>\n",
       "      <td>0.0</td>\n",
       "      <td>0.000000</td>\n",
       "      <td>0.000000</td>\n",
       "      <td>0.0</td>\n",
       "      <td>0.0</td>\n",
       "      <td>0.0</td>\n",
       "      <td>0.000000</td>\n",
       "    </tr>\n",
       "    <tr>\n",
       "      <th>4</th>\n",
       "      <td>5343102224474788</td>\n",
       "      <td>1377786218197485</td>\n",
       "      <td>22.0</td>\n",
       "      <td>2022-03-21 18:24:32.699</td>\n",
       "      <td>3.0</td>\n",
       "      <td>2020.0</td>\n",
       "      <td>24</td>\n",
       "      <td>0.000000</td>\n",
       "      <td>0.0</td>\n",
       "      <td>0.0</td>\n",
       "      <td>...</td>\n",
       "      <td>0.0</td>\n",
       "      <td>0.0</td>\n",
       "      <td>0.0</td>\n",
       "      <td>0.0</td>\n",
       "      <td>0.366075</td>\n",
       "      <td>0.000000</td>\n",
       "      <td>0.0</td>\n",
       "      <td>0.0</td>\n",
       "      <td>0.0</td>\n",
       "      <td>0.639547</td>\n",
       "    </tr>\n",
       "  </tbody>\n",
       "</table>\n",
       "<p>5 rows × 52 columns</p>\n",
       "</div>"
      ],
      "text/plain": [
       "            user_id      pratilipi_id  read_percent              updated_at  \\\n",
       "0  5506791978962946  1377786228157051         100.0 2022-03-22 17:32:44.777   \n",
       "1  5506791963323596  1377786228041122           7.0 2022-03-18 16:48:11.675   \n",
       "2  5506791954583270  1377786219622753         100.0 2022-03-18 18:05:29.744   \n",
       "3  5506791953653126  1377786226770101          20.0 2022-03-19 19:04:04.430   \n",
       "4  5343102224474788  1377786218197485          22.0 2022-03-21 18:24:32.699   \n",
       "\n",
       "   month    year  reading_time_min  genre|actionandadventure  genre|children  \\\n",
       "0    3.0  2022.0                13                  0.000000             0.0   \n",
       "1    3.0  2022.0                10                  0.621989             0.0   \n",
       "2    6.0  2020.0                19                  0.000000             0.0   \n",
       "3   12.0  2021.0                 4                  0.000000             0.0   \n",
       "4    3.0  2020.0                24                  0.000000             0.0   \n",
       "\n",
       "   genre|comedy  ...  genre|serieswriting  genre|shortstories  \\\n",
       "0           0.0  ...                  0.0                 0.0   \n",
       "1           0.0  ...                  0.0                 0.0   \n",
       "2           0.0  ...                  0.0                 0.0   \n",
       "3           0.0  ...                  0.0                 0.0   \n",
       "4           0.0  ...                  0.0                 0.0   \n",
       "\n",
       "   genre|shortstorychallenge  genre|social  genre|suspense  genre|swahindi2  \\\n",
       "0                        0.0           0.0        0.516946         0.809373   \n",
       "1                        0.0           0.0        0.000000         0.740359   \n",
       "2                        0.0           0.0        0.000000         0.000000   \n",
       "3                        0.0           0.0        0.000000         0.000000   \n",
       "4                        0.0           0.0        0.366075         0.000000   \n",
       "\n",
       "   genre|thechatstory  genre|translation  genre|webseries  genre|women  \n",
       "0                 0.0                0.0              0.0     0.000000  \n",
       "1                 0.0                0.0              0.0     0.000000  \n",
       "2                 0.0                0.0              0.0     0.000000  \n",
       "3                 0.0                0.0              0.0     0.000000  \n",
       "4                 0.0                0.0              0.0     0.639547  \n",
       "\n",
       "[5 rows x 52 columns]"
      ]
     },
     "execution_count": 80,
     "metadata": {},
     "output_type": "execute_result"
    }
   ],
   "source": [
    "final.head()"
   ]
  },
  {
   "cell_type": "code",
   "execution_count": 81,
   "metadata": {
    "execution": {
     "iopub.execute_input": "2025-02-05T21:08:09.346114Z",
     "iopub.status.busy": "2025-02-05T21:08:09.345623Z",
     "iopub.status.idle": "2025-02-05T21:08:09.359514Z",
     "shell.execute_reply": "2025-02-05T21:08:09.358502Z",
     "shell.execute_reply.started": "2025-02-05T21:08:09.346072Z"
    },
    "trusted": true
   },
   "outputs": [
    {
     "data": {
      "text/plain": [
       "(869458, 52)"
      ]
     },
     "execution_count": 81,
     "metadata": {},
     "output_type": "execute_result"
    }
   ],
   "source": [
    "final.shape"
   ]
  },
  {
   "cell_type": "markdown",
   "metadata": {},
   "source": [
    "### Splitting the whole dataset per user into 75-25 for train test split according to timestamp so that prediction are not done using future data"
   ]
  },
  {
   "cell_type": "code",
   "execution_count": 82,
   "metadata": {
    "execution": {
     "iopub.execute_input": "2025-02-05T21:08:09.362413Z",
     "iopub.status.busy": "2025-02-05T21:08:09.362067Z",
     "iopub.status.idle": "2025-02-05T21:08:09.808560Z",
     "shell.execute_reply": "2025-02-05T21:08:09.807757Z",
     "shell.execute_reply.started": "2025-02-05T21:08:09.362366Z"
    },
    "trusted": true
   },
   "outputs": [],
   "source": [
    "ranks = final.groupby('user_id')['updated_at'].rank(method='first')"
   ]
  },
  {
   "cell_type": "code",
   "execution_count": 83,
   "metadata": {
    "execution": {
     "iopub.execute_input": "2025-02-05T21:08:09.810240Z",
     "iopub.status.busy": "2025-02-05T21:08:09.809967Z",
     "iopub.status.idle": "2025-02-05T21:08:09.818849Z",
     "shell.execute_reply": "2025-02-05T21:08:09.817595Z",
     "shell.execute_reply.started": "2025-02-05T21:08:09.810207Z"
    },
    "trusted": true
   },
   "outputs": [
    {
     "data": {
      "text/plain": [
       "0         41.0\n",
       "1          1.0\n",
       "2          1.0\n",
       "3          2.0\n",
       "4         17.0\n",
       "          ... \n",
       "869453     2.0\n",
       "869454    12.0\n",
       "869455    40.0\n",
       "869456     8.0\n",
       "869457    25.0\n",
       "Name: updated_at, Length: 869458, dtype: float64"
      ]
     },
     "execution_count": 83,
     "metadata": {},
     "output_type": "execute_result"
    }
   ],
   "source": [
    "ranks"
   ]
  },
  {
   "cell_type": "code",
   "execution_count": 84,
   "metadata": {
    "execution": {
     "iopub.execute_input": "2025-02-05T21:08:09.820228Z",
     "iopub.status.busy": "2025-02-05T21:08:09.820000Z",
     "iopub.status.idle": "2025-02-05T21:08:10.725808Z",
     "shell.execute_reply": "2025-02-05T21:08:10.724755Z",
     "shell.execute_reply.started": "2025-02-05T21:08:09.820202Z"
    },
    "trusted": true
   },
   "outputs": [],
   "source": [
    "counts = final['user_id'].map(df.groupby('user_id')['updated_at'].apply(len))"
   ]
  },
  {
   "cell_type": "code",
   "execution_count": 85,
   "metadata": {
    "execution": {
     "iopub.execute_input": "2025-02-05T21:08:10.727161Z",
     "iopub.status.busy": "2025-02-05T21:08:10.726933Z",
     "iopub.status.idle": "2025-02-05T21:08:10.735807Z",
     "shell.execute_reply": "2025-02-05T21:08:10.734821Z",
     "shell.execute_reply.started": "2025-02-05T21:08:10.727134Z"
    },
    "trusted": true
   },
   "outputs": [],
   "source": [
    "final[\"train\"]=(ranks / counts) <= 0.75"
   ]
  },
  {
   "cell_type": "code",
   "execution_count": 86,
   "metadata": {
    "execution": {
     "iopub.execute_input": "2025-02-05T21:08:10.737255Z",
     "iopub.status.busy": "2025-02-05T21:08:10.737019Z",
     "iopub.status.idle": "2025-02-05T21:08:10.753980Z",
     "shell.execute_reply": "2025-02-05T21:08:10.752977Z",
     "shell.execute_reply.started": "2025-02-05T21:08:10.737224Z"
    },
    "trusted": true
   },
   "outputs": [
    {
     "data": {
      "text/plain": [
       "True     639021\n",
       "False    230437\n",
       "Name: train, dtype: int64"
      ]
     },
     "execution_count": 86,
     "metadata": {},
     "output_type": "execute_result"
    }
   ],
   "source": [
    "final[\"train\"].value_counts()"
   ]
  },
  {
   "cell_type": "code",
   "execution_count": 87,
   "metadata": {
    "execution": {
     "iopub.execute_input": "2025-02-05T21:08:10.755665Z",
     "iopub.status.busy": "2025-02-05T21:08:10.755347Z",
     "iopub.status.idle": "2025-02-05T21:08:11.108582Z",
     "shell.execute_reply": "2025-02-05T21:08:11.107696Z",
     "shell.execute_reply.started": "2025-02-05T21:08:10.755619Z"
    },
    "trusted": true
   },
   "outputs": [],
   "source": [
    "train,test = final[final[\"train\"]==True].reset_index(drop = True),final[final[\"train\"]==False].reset_index(drop = True)"
   ]
  },
  {
   "cell_type": "code",
   "execution_count": 88,
   "metadata": {
    "execution": {
     "iopub.execute_input": "2025-02-05T21:08:11.111412Z",
     "iopub.status.busy": "2025-02-05T21:08:11.111150Z",
     "iopub.status.idle": "2025-02-05T21:08:11.137617Z",
     "shell.execute_reply": "2025-02-05T21:08:11.136789Z",
     "shell.execute_reply.started": "2025-02-05T21:08:11.111379Z"
    },
    "trusted": true
   },
   "outputs": [
    {
     "data": {
      "text/plain": [
       "(34603, 34779)"
      ]
     },
     "execution_count": 88,
     "metadata": {},
     "output_type": "execute_result"
    }
   ],
   "source": [
    "len(train[\"user_id\"].unique()),len(test[\"user_id\"].unique())"
   ]
  },
  {
   "cell_type": "code",
   "execution_count": 89,
   "metadata": {
    "execution": {
     "iopub.execute_input": "2025-02-05T21:08:11.139337Z",
     "iopub.status.busy": "2025-02-05T21:08:11.139015Z",
     "iopub.status.idle": "2025-02-05T21:08:11.145986Z",
     "shell.execute_reply": "2025-02-05T21:08:11.145146Z",
     "shell.execute_reply.started": "2025-02-05T21:08:11.139291Z"
    },
    "trusted": true
   },
   "outputs": [
    {
     "data": {
      "text/plain": [
       "((639021, 53), (230437, 53))"
      ]
     },
     "execution_count": 89,
     "metadata": {},
     "output_type": "execute_result"
    }
   ],
   "source": [
    "train.shape,test.shape"
   ]
  },
  {
   "cell_type": "code",
   "execution_count": 90,
   "metadata": {
    "execution": {
     "iopub.execute_input": "2025-02-05T21:08:11.147603Z",
     "iopub.status.busy": "2025-02-05T21:08:11.147337Z",
     "iopub.status.idle": "2025-02-05T21:08:11.181342Z",
     "shell.execute_reply": "2025-02-05T21:08:11.180158Z",
     "shell.execute_reply.started": "2025-02-05T21:08:11.147556Z"
    },
    "trusted": true
   },
   "outputs": [
    {
     "data": {
      "text/html": [
       "<div>\n",
       "<style scoped>\n",
       "    .dataframe tbody tr th:only-of-type {\n",
       "        vertical-align: middle;\n",
       "    }\n",
       "\n",
       "    .dataframe tbody tr th {\n",
       "        vertical-align: top;\n",
       "    }\n",
       "\n",
       "    .dataframe thead th {\n",
       "        text-align: right;\n",
       "    }\n",
       "</style>\n",
       "<table border=\"1\" class=\"dataframe\">\n",
       "  <thead>\n",
       "    <tr style=\"text-align: right;\">\n",
       "      <th></th>\n",
       "      <th>user_id</th>\n",
       "      <th>pratilipi_id</th>\n",
       "      <th>read_percent</th>\n",
       "      <th>updated_at</th>\n",
       "      <th>month</th>\n",
       "      <th>year</th>\n",
       "      <th>reading_time_min</th>\n",
       "      <th>genre|actionandadventure</th>\n",
       "      <th>genre|children</th>\n",
       "      <th>genre|comedy</th>\n",
       "      <th>...</th>\n",
       "      <th>genre|shortstories</th>\n",
       "      <th>genre|shortstorychallenge</th>\n",
       "      <th>genre|social</th>\n",
       "      <th>genre|suspense</th>\n",
       "      <th>genre|swahindi2</th>\n",
       "      <th>genre|thechatstory</th>\n",
       "      <th>genre|translation</th>\n",
       "      <th>genre|webseries</th>\n",
       "      <th>genre|women</th>\n",
       "      <th>train</th>\n",
       "    </tr>\n",
       "  </thead>\n",
       "  <tbody>\n",
       "    <tr>\n",
       "      <th>0</th>\n",
       "      <td>5506791978962946</td>\n",
       "      <td>1377786228157051</td>\n",
       "      <td>100.0</td>\n",
       "      <td>2022-03-22 17:32:44.777</td>\n",
       "      <td>3.0</td>\n",
       "      <td>2022.0</td>\n",
       "      <td>13</td>\n",
       "      <td>0.000000</td>\n",
       "      <td>0.0</td>\n",
       "      <td>0.0</td>\n",
       "      <td>...</td>\n",
       "      <td>0.000000</td>\n",
       "      <td>0.0</td>\n",
       "      <td>0.0</td>\n",
       "      <td>0.516946</td>\n",
       "      <td>0.809373</td>\n",
       "      <td>0.0</td>\n",
       "      <td>0.0</td>\n",
       "      <td>0.0</td>\n",
       "      <td>0.0</td>\n",
       "      <td>False</td>\n",
       "    </tr>\n",
       "    <tr>\n",
       "      <th>1</th>\n",
       "      <td>5506791954664507</td>\n",
       "      <td>1377786226276690</td>\n",
       "      <td>100.0</td>\n",
       "      <td>2022-03-21 06:57:26.966</td>\n",
       "      <td>11.0</td>\n",
       "      <td>2021.0</td>\n",
       "      <td>15</td>\n",
       "      <td>0.000000</td>\n",
       "      <td>0.0</td>\n",
       "      <td>0.0</td>\n",
       "      <td>...</td>\n",
       "      <td>0.743846</td>\n",
       "      <td>0.0</td>\n",
       "      <td>0.0</td>\n",
       "      <td>0.000000</td>\n",
       "      <td>0.000000</td>\n",
       "      <td>0.0</td>\n",
       "      <td>0.0</td>\n",
       "      <td>0.0</td>\n",
       "      <td>0.0</td>\n",
       "      <td>False</td>\n",
       "    </tr>\n",
       "    <tr>\n",
       "      <th>2</th>\n",
       "      <td>5506791956948482</td>\n",
       "      <td>1377786218123342</td>\n",
       "      <td>100.0</td>\n",
       "      <td>2022-03-21 06:47:13.749</td>\n",
       "      <td>2.0</td>\n",
       "      <td>2020.0</td>\n",
       "      <td>13</td>\n",
       "      <td>0.532209</td>\n",
       "      <td>0.0</td>\n",
       "      <td>0.0</td>\n",
       "      <td>...</td>\n",
       "      <td>0.000000</td>\n",
       "      <td>0.0</td>\n",
       "      <td>0.0</td>\n",
       "      <td>0.000000</td>\n",
       "      <td>0.000000</td>\n",
       "      <td>0.0</td>\n",
       "      <td>0.0</td>\n",
       "      <td>0.0</td>\n",
       "      <td>0.0</td>\n",
       "      <td>False</td>\n",
       "    </tr>\n",
       "    <tr>\n",
       "      <th>3</th>\n",
       "      <td>5506791962136691</td>\n",
       "      <td>1377786217848278</td>\n",
       "      <td>100.0</td>\n",
       "      <td>2022-03-21 14:40:23.967</td>\n",
       "      <td>1.0</td>\n",
       "      <td>2020.0</td>\n",
       "      <td>3</td>\n",
       "      <td>0.334313</td>\n",
       "      <td>0.0</td>\n",
       "      <td>0.0</td>\n",
       "      <td>...</td>\n",
       "      <td>0.000000</td>\n",
       "      <td>0.0</td>\n",
       "      <td>0.0</td>\n",
       "      <td>0.000000</td>\n",
       "      <td>0.000000</td>\n",
       "      <td>0.0</td>\n",
       "      <td>0.0</td>\n",
       "      <td>0.0</td>\n",
       "      <td>0.0</td>\n",
       "      <td>False</td>\n",
       "    </tr>\n",
       "    <tr>\n",
       "      <th>4</th>\n",
       "      <td>5506791959254722</td>\n",
       "      <td>1377786221721571</td>\n",
       "      <td>100.0</td>\n",
       "      <td>2022-03-22 05:08:42.618</td>\n",
       "      <td>11.0</td>\n",
       "      <td>2020.0</td>\n",
       "      <td>10</td>\n",
       "      <td>0.756797</td>\n",
       "      <td>0.0</td>\n",
       "      <td>0.0</td>\n",
       "      <td>...</td>\n",
       "      <td>0.000000</td>\n",
       "      <td>0.0</td>\n",
       "      <td>0.0</td>\n",
       "      <td>0.575353</td>\n",
       "      <td>0.000000</td>\n",
       "      <td>0.0</td>\n",
       "      <td>0.0</td>\n",
       "      <td>0.0</td>\n",
       "      <td>0.0</td>\n",
       "      <td>False</td>\n",
       "    </tr>\n",
       "  </tbody>\n",
       "</table>\n",
       "<p>5 rows × 53 columns</p>\n",
       "</div>"
      ],
      "text/plain": [
       "            user_id      pratilipi_id  read_percent              updated_at  \\\n",
       "0  5506791978962946  1377786228157051         100.0 2022-03-22 17:32:44.777   \n",
       "1  5506791954664507  1377786226276690         100.0 2022-03-21 06:57:26.966   \n",
       "2  5506791956948482  1377786218123342         100.0 2022-03-21 06:47:13.749   \n",
       "3  5506791962136691  1377786217848278         100.0 2022-03-21 14:40:23.967   \n",
       "4  5506791959254722  1377786221721571         100.0 2022-03-22 05:08:42.618   \n",
       "\n",
       "   month    year  reading_time_min  genre|actionandadventure  genre|children  \\\n",
       "0    3.0  2022.0                13                  0.000000             0.0   \n",
       "1   11.0  2021.0                15                  0.000000             0.0   \n",
       "2    2.0  2020.0                13                  0.532209             0.0   \n",
       "3    1.0  2020.0                 3                  0.334313             0.0   \n",
       "4   11.0  2020.0                10                  0.756797             0.0   \n",
       "\n",
       "   genre|comedy  ...  genre|shortstories  genre|shortstorychallenge  \\\n",
       "0           0.0  ...            0.000000                        0.0   \n",
       "1           0.0  ...            0.743846                        0.0   \n",
       "2           0.0  ...            0.000000                        0.0   \n",
       "3           0.0  ...            0.000000                        0.0   \n",
       "4           0.0  ...            0.000000                        0.0   \n",
       "\n",
       "   genre|social  genre|suspense  genre|swahindi2  genre|thechatstory  \\\n",
       "0           0.0        0.516946         0.809373                 0.0   \n",
       "1           0.0        0.000000         0.000000                 0.0   \n",
       "2           0.0        0.000000         0.000000                 0.0   \n",
       "3           0.0        0.000000         0.000000                 0.0   \n",
       "4           0.0        0.575353         0.000000                 0.0   \n",
       "\n",
       "   genre|translation  genre|webseries  genre|women  train  \n",
       "0                0.0              0.0          0.0  False  \n",
       "1                0.0              0.0          0.0  False  \n",
       "2                0.0              0.0          0.0  False  \n",
       "3                0.0              0.0          0.0  False  \n",
       "4                0.0              0.0          0.0  False  \n",
       "\n",
       "[5 rows x 53 columns]"
      ]
     },
     "execution_count": 90,
     "metadata": {},
     "output_type": "execute_result"
    }
   ],
   "source": [
    "test.head()"
   ]
  },
  {
   "cell_type": "code",
   "execution_count": 91,
   "metadata": {
    "execution": {
     "iopub.execute_input": "2025-02-05T21:08:11.183436Z",
     "iopub.status.busy": "2025-02-05T21:08:11.183065Z",
     "iopub.status.idle": "2025-02-05T21:08:11.312733Z",
     "shell.execute_reply": "2025-02-05T21:08:11.311703Z",
     "shell.execute_reply.started": "2025-02-05T21:08:11.183384Z"
    },
    "trusted": true
   },
   "outputs": [],
   "source": [
    "test = test[test[\"user_id\"].isin(train[\"user_id\"].unique())]\n",
    "test = test[test[\"pratilipi_id\"].isin(train[\"pratilipi_id\"].unique())]"
   ]
  },
  {
   "cell_type": "code",
   "execution_count": 92,
   "metadata": {
    "execution": {
     "iopub.execute_input": "2025-02-05T21:08:11.314137Z",
     "iopub.status.busy": "2025-02-05T21:08:11.313903Z",
     "iopub.status.idle": "2025-02-05T21:08:11.320246Z",
     "shell.execute_reply": "2025-02-05T21:08:11.319336Z",
     "shell.execute_reply.started": "2025-02-05T21:08:11.314108Z"
    },
    "trusted": true
   },
   "outputs": [
    {
     "data": {
      "text/plain": [
       "(217605, 53)"
      ]
     },
     "execution_count": 92,
     "metadata": {},
     "output_type": "execute_result"
    }
   ],
   "source": [
    "test.shape"
   ]
  },
  {
   "cell_type": "code",
   "execution_count": 93,
   "metadata": {
    "execution": {
     "iopub.execute_input": "2025-02-05T21:08:15.433263Z",
     "iopub.status.busy": "2025-02-05T21:08:15.432951Z",
     "iopub.status.idle": "2025-02-05T21:08:40.430623Z",
     "shell.execute_reply": "2025-02-05T21:08:40.429784Z",
     "shell.execute_reply.started": "2025-02-05T21:08:15.433228Z"
    },
    "trusted": true
   },
   "outputs": [],
   "source": [
    "train.to_csv(\"train.csv\",index = False)\n",
    "test.to_csv(\"test.csv\",index = False)"
   ]
  },
  {
   "cell_type": "code",
   "execution_count": null,
   "metadata": {},
   "outputs": [],
   "source": []
  },
  {
   "cell_type": "markdown",
   "metadata": {},
   "source": [
    "## LightFM"
   ]
  },
  {
   "cell_type": "code",
   "execution_count": 94,
   "metadata": {
    "execution": {
     "iopub.execute_input": "2025-02-05T21:11:58.448274Z",
     "iopub.status.busy": "2025-02-05T21:11:58.447361Z",
     "iopub.status.idle": "2025-02-05T21:11:58.469295Z",
     "shell.execute_reply": "2025-02-05T21:11:58.468278Z",
     "shell.execute_reply.started": "2025-02-05T21:11:58.448222Z"
    },
    "trusted": true
   },
   "outputs": [],
   "source": [
    "from copy import deepcopy\n",
    "import pandas as pd\n",
    "import numpy as np\n",
    "from matplotlib import pyplot as plt\n",
    "from lightfm.data import Dataset\n",
    "from lightfm import LightFM\n",
    "from lightfm.evaluation import precision_at_k, auc_score,recall_at_k,reciprocal_rank\n",
    "import numpy as np # linear algebra\n",
    "import pandas as pd # data processing, CSV file I/O (e.g. pd.read_csv)\n",
    "import os"
   ]
  },
  {
   "cell_type": "markdown",
   "metadata": {},
   "source": [
    "### Loading Dataset¶\n"
   ]
  },
  {
   "cell_type": "code",
   "execution_count": 95,
   "metadata": {
    "execution": {
     "iopub.execute_input": "2025-02-05T21:12:24.828797Z",
     "iopub.status.busy": "2025-02-05T21:12:24.828487Z",
     "iopub.status.idle": "2025-02-05T21:12:33.413596Z",
     "shell.execute_reply": "2025-02-05T21:12:33.412470Z",
     "shell.execute_reply.started": "2025-02-05T21:12:24.828765Z"
    },
    "trusted": true
   },
   "outputs": [],
   "source": [
    "complete_train = pd.read_csv(\"/kaggle/input/pratilipi-data-ml/train.csv\")\n",
    "complete_test = pd.read_csv(\"/kaggle/input/pratilipi-data-ml/test.csv\")"
   ]
  },
  {
   "cell_type": "code",
   "execution_count": 96,
   "metadata": {
    "execution": {
     "iopub.execute_input": "2025-02-05T21:12:33.415453Z",
     "iopub.status.busy": "2025-02-05T21:12:33.415234Z",
     "iopub.status.idle": "2025-02-05T21:12:33.443899Z",
     "shell.execute_reply": "2025-02-05T21:12:33.442561Z",
     "shell.execute_reply.started": "2025-02-05T21:12:33.415425Z"
    },
    "trusted": true
   },
   "outputs": [
    {
     "data": {
      "text/html": [
       "<div>\n",
       "<style scoped>\n",
       "    .dataframe tbody tr th:only-of-type {\n",
       "        vertical-align: middle;\n",
       "    }\n",
       "\n",
       "    .dataframe tbody tr th {\n",
       "        vertical-align: top;\n",
       "    }\n",
       "\n",
       "    .dataframe thead th {\n",
       "        text-align: right;\n",
       "    }\n",
       "</style>\n",
       "<table border=\"1\" class=\"dataframe\">\n",
       "  <thead>\n",
       "    <tr style=\"text-align: right;\">\n",
       "      <th></th>\n",
       "      <th>user_id</th>\n",
       "      <th>pratilipi_id</th>\n",
       "      <th>read_percent</th>\n",
       "      <th>updated_at</th>\n",
       "      <th>month</th>\n",
       "      <th>year</th>\n",
       "      <th>reading_time_min</th>\n",
       "      <th>genre|actionandadventure</th>\n",
       "      <th>genre|children</th>\n",
       "      <th>genre|comedy</th>\n",
       "      <th>...</th>\n",
       "      <th>genre|shortstories</th>\n",
       "      <th>genre|shortstorychallenge</th>\n",
       "      <th>genre|social</th>\n",
       "      <th>genre|suspense</th>\n",
       "      <th>genre|swahindi2</th>\n",
       "      <th>genre|thechatstory</th>\n",
       "      <th>genre|translation</th>\n",
       "      <th>genre|webseries</th>\n",
       "      <th>genre|women</th>\n",
       "      <th>train</th>\n",
       "    </tr>\n",
       "  </thead>\n",
       "  <tbody>\n",
       "    <tr>\n",
       "      <th>0</th>\n",
       "      <td>5506791963323596</td>\n",
       "      <td>1377786228041122</td>\n",
       "      <td>7.0</td>\n",
       "      <td>2022-03-18 16:48:11.675</td>\n",
       "      <td>3.0</td>\n",
       "      <td>2022.0</td>\n",
       "      <td>10</td>\n",
       "      <td>0.621989</td>\n",
       "      <td>0.0</td>\n",
       "      <td>0.0</td>\n",
       "      <td>...</td>\n",
       "      <td>0.0</td>\n",
       "      <td>0.0</td>\n",
       "      <td>0.0</td>\n",
       "      <td>0.000000</td>\n",
       "      <td>0.740359</td>\n",
       "      <td>0.0</td>\n",
       "      <td>0.0</td>\n",
       "      <td>0.0</td>\n",
       "      <td>0.000000</td>\n",
       "      <td>True</td>\n",
       "    </tr>\n",
       "    <tr>\n",
       "      <th>1</th>\n",
       "      <td>5506791954583270</td>\n",
       "      <td>1377786219622753</td>\n",
       "      <td>100.0</td>\n",
       "      <td>2022-03-18 18:05:29.744</td>\n",
       "      <td>6.0</td>\n",
       "      <td>2020.0</td>\n",
       "      <td>19</td>\n",
       "      <td>0.000000</td>\n",
       "      <td>0.0</td>\n",
       "      <td>0.0</td>\n",
       "      <td>...</td>\n",
       "      <td>0.0</td>\n",
       "      <td>0.0</td>\n",
       "      <td>0.0</td>\n",
       "      <td>0.000000</td>\n",
       "      <td>0.000000</td>\n",
       "      <td>0.0</td>\n",
       "      <td>0.0</td>\n",
       "      <td>0.0</td>\n",
       "      <td>0.000000</td>\n",
       "      <td>True</td>\n",
       "    </tr>\n",
       "    <tr>\n",
       "      <th>2</th>\n",
       "      <td>5506791953653126</td>\n",
       "      <td>1377786226770101</td>\n",
       "      <td>20.0</td>\n",
       "      <td>2022-03-19 19:04:04.430</td>\n",
       "      <td>12.0</td>\n",
       "      <td>2021.0</td>\n",
       "      <td>4</td>\n",
       "      <td>0.000000</td>\n",
       "      <td>0.0</td>\n",
       "      <td>0.0</td>\n",
       "      <td>...</td>\n",
       "      <td>0.0</td>\n",
       "      <td>0.0</td>\n",
       "      <td>0.0</td>\n",
       "      <td>0.000000</td>\n",
       "      <td>0.000000</td>\n",
       "      <td>0.0</td>\n",
       "      <td>0.0</td>\n",
       "      <td>0.0</td>\n",
       "      <td>0.000000</td>\n",
       "      <td>True</td>\n",
       "    </tr>\n",
       "    <tr>\n",
       "      <th>3</th>\n",
       "      <td>5343102224474788</td>\n",
       "      <td>1377786218197485</td>\n",
       "      <td>22.0</td>\n",
       "      <td>2022-03-21 18:24:32.699</td>\n",
       "      <td>3.0</td>\n",
       "      <td>2020.0</td>\n",
       "      <td>24</td>\n",
       "      <td>0.000000</td>\n",
       "      <td>0.0</td>\n",
       "      <td>0.0</td>\n",
       "      <td>...</td>\n",
       "      <td>0.0</td>\n",
       "      <td>0.0</td>\n",
       "      <td>0.0</td>\n",
       "      <td>0.366075</td>\n",
       "      <td>0.000000</td>\n",
       "      <td>0.0</td>\n",
       "      <td>0.0</td>\n",
       "      <td>0.0</td>\n",
       "      <td>0.639547</td>\n",
       "      <td>True</td>\n",
       "    </tr>\n",
       "    <tr>\n",
       "      <th>4</th>\n",
       "      <td>5506791954706721</td>\n",
       "      <td>1377786226804482</td>\n",
       "      <td>100.0</td>\n",
       "      <td>2022-03-19 08:35:47.129</td>\n",
       "      <td>12.0</td>\n",
       "      <td>2021.0</td>\n",
       "      <td>5</td>\n",
       "      <td>0.000000</td>\n",
       "      <td>0.0</td>\n",
       "      <td>0.0</td>\n",
       "      <td>...</td>\n",
       "      <td>0.0</td>\n",
       "      <td>0.0</td>\n",
       "      <td>0.0</td>\n",
       "      <td>0.000000</td>\n",
       "      <td>0.000000</td>\n",
       "      <td>0.0</td>\n",
       "      <td>0.0</td>\n",
       "      <td>0.0</td>\n",
       "      <td>0.000000</td>\n",
       "      <td>True</td>\n",
       "    </tr>\n",
       "  </tbody>\n",
       "</table>\n",
       "<p>5 rows × 53 columns</p>\n",
       "</div>"
      ],
      "text/plain": [
       "            user_id      pratilipi_id  read_percent               updated_at  \\\n",
       "0  5506791963323596  1377786228041122           7.0  2022-03-18 16:48:11.675   \n",
       "1  5506791954583270  1377786219622753         100.0  2022-03-18 18:05:29.744   \n",
       "2  5506791953653126  1377786226770101          20.0  2022-03-19 19:04:04.430   \n",
       "3  5343102224474788  1377786218197485          22.0  2022-03-21 18:24:32.699   \n",
       "4  5506791954706721  1377786226804482         100.0  2022-03-19 08:35:47.129   \n",
       "\n",
       "   month    year  reading_time_min  genre|actionandadventure  genre|children  \\\n",
       "0    3.0  2022.0                10                  0.621989             0.0   \n",
       "1    6.0  2020.0                19                  0.000000             0.0   \n",
       "2   12.0  2021.0                 4                  0.000000             0.0   \n",
       "3    3.0  2020.0                24                  0.000000             0.0   \n",
       "4   12.0  2021.0                 5                  0.000000             0.0   \n",
       "\n",
       "   genre|comedy  ...  genre|shortstories  genre|shortstorychallenge  \\\n",
       "0           0.0  ...                 0.0                        0.0   \n",
       "1           0.0  ...                 0.0                        0.0   \n",
       "2           0.0  ...                 0.0                        0.0   \n",
       "3           0.0  ...                 0.0                        0.0   \n",
       "4           0.0  ...                 0.0                        0.0   \n",
       "\n",
       "   genre|social  genre|suspense  genre|swahindi2  genre|thechatstory  \\\n",
       "0           0.0        0.000000         0.740359                 0.0   \n",
       "1           0.0        0.000000         0.000000                 0.0   \n",
       "2           0.0        0.000000         0.000000                 0.0   \n",
       "3           0.0        0.366075         0.000000                 0.0   \n",
       "4           0.0        0.000000         0.000000                 0.0   \n",
       "\n",
       "   genre|translation  genre|webseries  genre|women  train  \n",
       "0                0.0              0.0     0.000000   True  \n",
       "1                0.0              0.0     0.000000   True  \n",
       "2                0.0              0.0     0.000000   True  \n",
       "3                0.0              0.0     0.639547   True  \n",
       "4                0.0              0.0     0.000000   True  \n",
       "\n",
       "[5 rows x 53 columns]"
      ]
     },
     "execution_count": 96,
     "metadata": {},
     "output_type": "execute_result"
    }
   ],
   "source": [
    "complete_train.head()\n"
   ]
  },
  {
   "cell_type": "code",
   "execution_count": 97,
   "metadata": {
    "execution": {
     "iopub.execute_input": "2025-02-05T21:12:59.711637Z",
     "iopub.status.busy": "2025-02-05T21:12:59.711323Z",
     "iopub.status.idle": "2025-02-05T21:12:59.741482Z",
     "shell.execute_reply": "2025-02-05T21:12:59.740521Z",
     "shell.execute_reply.started": "2025-02-05T21:12:59.711598Z"
    },
    "trusted": true
   },
   "outputs": [
    {
     "data": {
      "text/html": [
       "<div>\n",
       "<style scoped>\n",
       "    .dataframe tbody tr th:only-of-type {\n",
       "        vertical-align: middle;\n",
       "    }\n",
       "\n",
       "    .dataframe tbody tr th {\n",
       "        vertical-align: top;\n",
       "    }\n",
       "\n",
       "    .dataframe thead th {\n",
       "        text-align: right;\n",
       "    }\n",
       "</style>\n",
       "<table border=\"1\" class=\"dataframe\">\n",
       "  <thead>\n",
       "    <tr style=\"text-align: right;\">\n",
       "      <th></th>\n",
       "      <th>user_id</th>\n",
       "      <th>pratilipi_id</th>\n",
       "      <th>read_percent</th>\n",
       "      <th>updated_at</th>\n",
       "      <th>month</th>\n",
       "      <th>year</th>\n",
       "      <th>reading_time_min</th>\n",
       "      <th>genre|actionandadventure</th>\n",
       "      <th>genre|children</th>\n",
       "      <th>genre|comedy</th>\n",
       "      <th>...</th>\n",
       "      <th>genre|shortstories</th>\n",
       "      <th>genre|shortstorychallenge</th>\n",
       "      <th>genre|social</th>\n",
       "      <th>genre|suspense</th>\n",
       "      <th>genre|swahindi2</th>\n",
       "      <th>genre|thechatstory</th>\n",
       "      <th>genre|translation</th>\n",
       "      <th>genre|webseries</th>\n",
       "      <th>genre|women</th>\n",
       "      <th>train</th>\n",
       "    </tr>\n",
       "  </thead>\n",
       "  <tbody>\n",
       "    <tr>\n",
       "      <th>0</th>\n",
       "      <td>5506791978962946</td>\n",
       "      <td>1377786228157051</td>\n",
       "      <td>100.0</td>\n",
       "      <td>2022-03-22 17:32:44.777</td>\n",
       "      <td>3.0</td>\n",
       "      <td>2022.0</td>\n",
       "      <td>13</td>\n",
       "      <td>0.000000</td>\n",
       "      <td>0.0</td>\n",
       "      <td>0.0</td>\n",
       "      <td>...</td>\n",
       "      <td>0.0</td>\n",
       "      <td>0.0</td>\n",
       "      <td>0.0</td>\n",
       "      <td>0.516946</td>\n",
       "      <td>0.809373</td>\n",
       "      <td>0.0</td>\n",
       "      <td>0.0</td>\n",
       "      <td>0.0</td>\n",
       "      <td>0.0</td>\n",
       "      <td>False</td>\n",
       "    </tr>\n",
       "    <tr>\n",
       "      <th>1</th>\n",
       "      <td>5506791956948482</td>\n",
       "      <td>1377786218123342</td>\n",
       "      <td>100.0</td>\n",
       "      <td>2022-03-21 06:47:13.749</td>\n",
       "      <td>2.0</td>\n",
       "      <td>2020.0</td>\n",
       "      <td>13</td>\n",
       "      <td>0.532209</td>\n",
       "      <td>0.0</td>\n",
       "      <td>0.0</td>\n",
       "      <td>...</td>\n",
       "      <td>0.0</td>\n",
       "      <td>0.0</td>\n",
       "      <td>0.0</td>\n",
       "      <td>0.000000</td>\n",
       "      <td>0.000000</td>\n",
       "      <td>0.0</td>\n",
       "      <td>0.0</td>\n",
       "      <td>0.0</td>\n",
       "      <td>0.0</td>\n",
       "      <td>False</td>\n",
       "    </tr>\n",
       "    <tr>\n",
       "      <th>2</th>\n",
       "      <td>5506791962136691</td>\n",
       "      <td>1377786217848278</td>\n",
       "      <td>100.0</td>\n",
       "      <td>2022-03-21 14:40:23.967</td>\n",
       "      <td>1.0</td>\n",
       "      <td>2020.0</td>\n",
       "      <td>3</td>\n",
       "      <td>0.334313</td>\n",
       "      <td>0.0</td>\n",
       "      <td>0.0</td>\n",
       "      <td>...</td>\n",
       "      <td>0.0</td>\n",
       "      <td>0.0</td>\n",
       "      <td>0.0</td>\n",
       "      <td>0.000000</td>\n",
       "      <td>0.000000</td>\n",
       "      <td>0.0</td>\n",
       "      <td>0.0</td>\n",
       "      <td>0.0</td>\n",
       "      <td>0.0</td>\n",
       "      <td>False</td>\n",
       "    </tr>\n",
       "    <tr>\n",
       "      <th>3</th>\n",
       "      <td>5506791959254722</td>\n",
       "      <td>1377786221721571</td>\n",
       "      <td>100.0</td>\n",
       "      <td>2022-03-22 05:08:42.618</td>\n",
       "      <td>11.0</td>\n",
       "      <td>2020.0</td>\n",
       "      <td>10</td>\n",
       "      <td>0.756797</td>\n",
       "      <td>0.0</td>\n",
       "      <td>0.0</td>\n",
       "      <td>...</td>\n",
       "      <td>0.0</td>\n",
       "      <td>0.0</td>\n",
       "      <td>0.0</td>\n",
       "      <td>0.575353</td>\n",
       "      <td>0.000000</td>\n",
       "      <td>0.0</td>\n",
       "      <td>0.0</td>\n",
       "      <td>0.0</td>\n",
       "      <td>0.0</td>\n",
       "      <td>False</td>\n",
       "    </tr>\n",
       "    <tr>\n",
       "      <th>4</th>\n",
       "      <td>5506791979266119</td>\n",
       "      <td>1377786227346148</td>\n",
       "      <td>100.0</td>\n",
       "      <td>2022-03-22 14:57:16.074</td>\n",
       "      <td>1.0</td>\n",
       "      <td>2022.0</td>\n",
       "      <td>8</td>\n",
       "      <td>0.000000</td>\n",
       "      <td>0.0</td>\n",
       "      <td>0.0</td>\n",
       "      <td>...</td>\n",
       "      <td>0.0</td>\n",
       "      <td>0.0</td>\n",
       "      <td>0.0</td>\n",
       "      <td>0.000000</td>\n",
       "      <td>0.000000</td>\n",
       "      <td>0.0</td>\n",
       "      <td>0.0</td>\n",
       "      <td>0.0</td>\n",
       "      <td>0.0</td>\n",
       "      <td>False</td>\n",
       "    </tr>\n",
       "  </tbody>\n",
       "</table>\n",
       "<p>5 rows × 53 columns</p>\n",
       "</div>"
      ],
      "text/plain": [
       "            user_id      pratilipi_id  read_percent               updated_at  \\\n",
       "0  5506791978962946  1377786228157051         100.0  2022-03-22 17:32:44.777   \n",
       "1  5506791956948482  1377786218123342         100.0  2022-03-21 06:47:13.749   \n",
       "2  5506791962136691  1377786217848278         100.0  2022-03-21 14:40:23.967   \n",
       "3  5506791959254722  1377786221721571         100.0  2022-03-22 05:08:42.618   \n",
       "4  5506791979266119  1377786227346148         100.0  2022-03-22 14:57:16.074   \n",
       "\n",
       "   month    year  reading_time_min  genre|actionandadventure  genre|children  \\\n",
       "0    3.0  2022.0                13                  0.000000             0.0   \n",
       "1    2.0  2020.0                13                  0.532209             0.0   \n",
       "2    1.0  2020.0                 3                  0.334313             0.0   \n",
       "3   11.0  2020.0                10                  0.756797             0.0   \n",
       "4    1.0  2022.0                 8                  0.000000             0.0   \n",
       "\n",
       "   genre|comedy  ...  genre|shortstories  genre|shortstorychallenge  \\\n",
       "0           0.0  ...                 0.0                        0.0   \n",
       "1           0.0  ...                 0.0                        0.0   \n",
       "2           0.0  ...                 0.0                        0.0   \n",
       "3           0.0  ...                 0.0                        0.0   \n",
       "4           0.0  ...                 0.0                        0.0   \n",
       "\n",
       "   genre|social  genre|suspense  genre|swahindi2  genre|thechatstory  \\\n",
       "0           0.0        0.516946         0.809373                 0.0   \n",
       "1           0.0        0.000000         0.000000                 0.0   \n",
       "2           0.0        0.000000         0.000000                 0.0   \n",
       "3           0.0        0.575353         0.000000                 0.0   \n",
       "4           0.0        0.000000         0.000000                 0.0   \n",
       "\n",
       "   genre|translation  genre|webseries  genre|women  train  \n",
       "0                0.0              0.0          0.0  False  \n",
       "1                0.0              0.0          0.0  False  \n",
       "2                0.0              0.0          0.0  False  \n",
       "3                0.0              0.0          0.0  False  \n",
       "4                0.0              0.0          0.0  False  \n",
       "\n",
       "[5 rows x 53 columns]"
      ]
     },
     "execution_count": 97,
     "metadata": {},
     "output_type": "execute_result"
    }
   ],
   "source": [
    "complete_test.head()\n"
   ]
  },
  {
   "cell_type": "code",
   "execution_count": 98,
   "metadata": {
    "execution": {
     "iopub.execute_input": "2025-02-05T21:13:05.159730Z",
     "iopub.status.busy": "2025-02-05T21:13:05.159391Z",
     "iopub.status.idle": "2025-02-05T21:13:05.166644Z",
     "shell.execute_reply": "2025-02-05T21:13:05.165739Z",
     "shell.execute_reply.started": "2025-02-05T21:13:05.159661Z"
    },
    "trusted": true
   },
   "outputs": [
    {
     "data": {
      "text/plain": [
       "Index(['user_id', 'pratilipi_id', 'read_percent', 'updated_at', 'month',\n",
       "       'year', 'reading_time_min', 'genre|actionandadventure',\n",
       "       'genre|children', 'genre|comedy', 'genre|crime', 'genre|crimelekhan',\n",
       "       'genre|cybercrimefiction', 'genre|detective', 'genre|drama',\n",
       "       'genre|entertainment', 'genre|erotica', 'genre|experiencesandmemories',\n",
       "       'genre|family', 'genre|fantasy', 'genre|healthandwellness',\n",
       "       'genre|horror', 'genre|horrormarathon', 'genre|indiawale',\n",
       "       'genre|krishijeevan', 'genre|life', 'genre|moralinspiring',\n",
       "       'genre|murdermystery', 'genre|mythology', 'genre|novels',\n",
       "       'genre|parytan', 'genre|politics', 'genre|pratilipiawardshindi',\n",
       "       'genre|pratilipikalamkarsamman', 'genre|pratilipikids',\n",
       "       'genre|pravasisahitya', 'genre|premkamahina', 'genre|radiofiction',\n",
       "       'genre|rashtriya', 'genre|relegionandspiritual', 'genre|romance',\n",
       "       'genre|sciencefiction', 'genre|serieswriting', 'genre|shortstories',\n",
       "       'genre|shortstorychallenge', 'genre|social', 'genre|suspense',\n",
       "       'genre|swahindi2', 'genre|thechatstory', 'genre|translation',\n",
       "       'genre|webseries', 'genre|women', 'train'],\n",
       "      dtype='object')"
      ]
     },
     "execution_count": 98,
     "metadata": {},
     "output_type": "execute_result"
    }
   ],
   "source": [
    "complete_train.columns\n"
   ]
  },
  {
   "cell_type": "markdown",
   "metadata": {},
   "source": [
    "* \"Current\" set will represent the interactions known at the time of training the complete model. \"New\" set will represent the new interactions.\n",
    "\n",
    "* So test data is \"New\" data and train data is \"Current\" data"
   ]
  },
  {
   "cell_type": "code",
   "execution_count": 99,
   "metadata": {
    "execution": {
     "iopub.execute_input": "2025-02-05T21:13:55.161375Z",
     "iopub.status.busy": "2025-02-05T21:13:55.161025Z",
     "iopub.status.idle": "2025-02-05T21:13:55.206266Z",
     "shell.execute_reply": "2025-02-05T21:13:55.205177Z",
     "shell.execute_reply.started": "2025-02-05T21:13:55.161338Z"
    },
    "trusted": true
   },
   "outputs": [],
   "source": [
    "# Interaction data from complete data \n",
    "interactions_current = complete_train[['user_id', 'pratilipi_id', 'read_percent',\"updated_at\"]]\n",
    "interactions_new = complete_test[['user_id', 'pratilipi_id', 'read_percent',\"updated_at\"]]\n",
    "interactions = pd.concat([interactions_current,interactions_new])"
   ]
  },
  {
   "cell_type": "code",
   "execution_count": 100,
   "metadata": {
    "execution": {
     "iopub.execute_input": "2025-02-05T21:14:00.683637Z",
     "iopub.status.busy": "2025-02-05T21:14:00.683305Z",
     "iopub.status.idle": "2025-02-05T21:14:00.690580Z",
     "shell.execute_reply": "2025-02-05T21:14:00.689551Z",
     "shell.execute_reply.started": "2025-02-05T21:14:00.683601Z"
    },
    "trusted": true
   },
   "outputs": [
    {
     "data": {
      "text/plain": [
       "((217605, 4), (639021, 4))"
      ]
     },
     "execution_count": 100,
     "metadata": {},
     "output_type": "execute_result"
    }
   ],
   "source": [
    "interactions_new.shape,interactions_current.shape\n"
   ]
  },
  {
   "cell_type": "code",
   "execution_count": 101,
   "metadata": {
    "execution": {
     "iopub.execute_input": "2025-02-05T21:14:09.075363Z",
     "iopub.status.busy": "2025-02-05T21:14:09.075081Z",
     "iopub.status.idle": "2025-02-05T21:14:09.234912Z",
     "shell.execute_reply": "2025-02-05T21:14:09.233903Z",
     "shell.execute_reply.started": "2025-02-05T21:14:09.075334Z"
    },
    "trusted": true
   },
   "outputs": [
    {
     "name": "stdout",
     "output_type": "stream",
     "text": [
      "Number of new users in new set: 0\n",
      "Number of current users in new set: 34378\n"
     ]
    }
   ],
   "source": [
    "# Since new users were removed at the time of creating data we don't have new user is test dataset\n",
    "new_users = np.setdiff1d(interactions_new[\"user_id\"], interactions_current[\"user_id\"])\n",
    "old_users = np.intersect1d(interactions_new[\"user_id\"], interactions_current[\"user_id\"])\n",
    "\n",
    "print(\"Number of new users in new set: {}\".format(len(new_users)))\n",
    "print(\"Number of current users in new set: {}\".format(len(old_users)))"
   ]
  },
  {
   "cell_type": "code",
   "execution_count": 102,
   "metadata": {
    "execution": {
     "iopub.execute_input": "2025-02-05T21:14:26.512133Z",
     "iopub.status.busy": "2025-02-05T21:14:26.511842Z",
     "iopub.status.idle": "2025-02-05T21:14:26.674095Z",
     "shell.execute_reply": "2025-02-05T21:14:26.673052Z",
     "shell.execute_reply.started": "2025-02-05T21:14:26.512102Z"
    },
    "trusted": true
   },
   "outputs": [
    {
     "name": "stdout",
     "output_type": "stream",
     "text": [
      "Number of new items in new set: 0\n",
      "Number of current items in new set: 54248\n"
     ]
    }
   ],
   "source": [
    "# Since new items(pratilipi) were removed at the time of creating data we don't have new user is test dataset\n",
    "\n",
    "new_items = np.setdiff1d(interactions_new['pratilipi_id'], interactions_current['pratilipi_id'])\n",
    "old_items = np.intersect1d(interactions_new['pratilipi_id'], interactions_current['pratilipi_id'])\n",
    "\n",
    "print(\"Number of new items in new set: {}\".format(len(new_items)))\n",
    "print(\"Number of current items in new set: {}\".format(len(old_items)))"
   ]
  },
  {
   "cell_type": "markdown",
   "metadata": {},
   "source": [
    "## User, item features\n",
    "\n",
    "In lightfm we have the flexibility of giving metadata directly to the recommender system. In our case the only metadata available is of that of item. Since no user feature was received we will not input any user feature for recommendation and solely depend on item feature."
   ]
  },
  {
   "cell_type": "code",
   "execution_count": 103,
   "metadata": {
    "execution": {
     "iopub.execute_input": "2025-02-05T21:14:49.561549Z",
     "iopub.status.busy": "2025-02-05T21:14:49.561243Z",
     "iopub.status.idle": "2025-02-05T21:14:49.678090Z",
     "shell.execute_reply": "2025-02-05T21:14:49.677152Z",
     "shell.execute_reply.started": "2025-02-05T21:14:49.561514Z"
    },
    "trusted": true
   },
   "outputs": [],
   "source": [
    "complete_train.drop([\"train\"],inplace = True,axis = 1)\n",
    "complete_test.drop([\"train\"],inplace = True,axis = 1)"
   ]
  },
  {
   "cell_type": "code",
   "execution_count": 104,
   "metadata": {
    "execution": {
     "iopub.execute_input": "2025-02-05T21:14:56.403431Z",
     "iopub.status.busy": "2025-02-05T21:14:56.402587Z",
     "iopub.status.idle": "2025-02-05T21:14:56.409849Z",
     "shell.execute_reply": "2025-02-05T21:14:56.408911Z",
     "shell.execute_reply.started": "2025-02-05T21:14:56.403383Z"
    },
    "trusted": true
   },
   "outputs": [
    {
     "data": {
      "text/plain": [
       "Index(['user_id', 'pratilipi_id', 'read_percent', 'updated_at', 'month',\n",
       "       'year', 'reading_time_min', 'genre|actionandadventure',\n",
       "       'genre|children', 'genre|comedy', 'genre|crime', 'genre|crimelekhan',\n",
       "       'genre|cybercrimefiction', 'genre|detective', 'genre|drama',\n",
       "       'genre|entertainment', 'genre|erotica', 'genre|experiencesandmemories',\n",
       "       'genre|family', 'genre|fantasy', 'genre|healthandwellness',\n",
       "       'genre|horror', 'genre|horrormarathon', 'genre|indiawale',\n",
       "       'genre|krishijeevan', 'genre|life', 'genre|moralinspiring',\n",
       "       'genre|murdermystery', 'genre|mythology', 'genre|novels',\n",
       "       'genre|parytan', 'genre|politics', 'genre|pratilipiawardshindi',\n",
       "       'genre|pratilipikalamkarsamman', 'genre|pratilipikids',\n",
       "       'genre|pravasisahitya', 'genre|premkamahina', 'genre|radiofiction',\n",
       "       'genre|rashtriya', 'genre|relegionandspiritual', 'genre|romance',\n",
       "       'genre|sciencefiction', 'genre|serieswriting', 'genre|shortstories',\n",
       "       'genre|shortstorychallenge', 'genre|social', 'genre|suspense',\n",
       "       'genre|swahindi2', 'genre|thechatstory', 'genre|translation',\n",
       "       'genre|webseries', 'genre|women'],\n",
       "      dtype='object')"
      ]
     },
     "execution_count": 104,
     "metadata": {},
     "output_type": "execute_result"
    }
   ],
   "source": [
    "complete_train.columns\n"
   ]
  },
  {
   "cell_type": "code",
   "execution_count": 105,
   "metadata": {
    "execution": {
     "iopub.execute_input": "2025-02-05T21:15:04.463158Z",
     "iopub.status.busy": "2025-02-05T21:15:04.462844Z",
     "iopub.status.idle": "2025-02-05T21:15:04.469517Z",
     "shell.execute_reply": "2025-02-05T21:15:04.468492Z",
     "shell.execute_reply.started": "2025-02-05T21:15:04.463125Z"
    },
    "trusted": true
   },
   "outputs": [],
   "source": [
    "# List of item features we have for a single pratilipi\n",
    "item_cols = ['pratilipi_id','month',\n",
    "       'year', 'reading_time_min', 'genre|actionandadventure',\n",
    "       'genre|children', 'genre|comedy', 'genre|crime', 'genre|crimelekhan',\n",
    "       'genre|cybercrimefiction', 'genre|detective', 'genre|drama',\n",
    "       'genre|entertainment', 'genre|erotica', 'genre|experiencesandmemories',\n",
    "       'genre|family', 'genre|fantasy', 'genre|healthandwellness',\n",
    "       'genre|horror', 'genre|horrormarathon', 'genre|indiawale',\n",
    "       'genre|krishijeevan', 'genre|life', 'genre|moralinspiring',\n",
    "       'genre|murdermystery', 'genre|mythology', 'genre|novels',\n",
    "       'genre|parytan', 'genre|politics', 'genre|pratilipiawardshindi',\n",
    "       'genre|pratilipikalamkarsamman', 'genre|pratilipikids',\n",
    "       'genre|pravasisahitya', 'genre|premkamahina', 'genre|radiofiction',\n",
    "       'genre|rashtriya', 'genre|relegionandspiritual', 'genre|romance',\n",
    "       'genre|sciencefiction', 'genre|serieswriting', 'genre|shortstories',\n",
    "       'genre|shortstorychallenge', 'genre|social', 'genre|suspense',\n",
    "       'genre|swahindi2', 'genre|thechatstory', 'genre|translation',\n",
    "       'genre|webseries', 'genre|women']"
   ]
  },
  {
   "cell_type": "code",
   "execution_count": 106,
   "metadata": {
    "execution": {
     "iopub.execute_input": "2025-02-05T21:15:10.960575Z",
     "iopub.status.busy": "2025-02-05T21:15:10.960307Z",
     "iopub.status.idle": "2025-02-05T21:15:11.188540Z",
     "shell.execute_reply": "2025-02-05T21:15:11.187345Z",
     "shell.execute_reply.started": "2025-02-05T21:15:10.960547Z"
    },
    "trusted": true
   },
   "outputs": [],
   "source": [
    "item_features_current = complete_train[item_cols].drop_duplicates(subset = ['pratilipi_id']).reset_index(drop = True)\n",
    "item_features_new = complete_test[item_cols].drop_duplicates(subset = ['pratilipi_id']).reset_index(drop = True)"
   ]
  },
  {
   "cell_type": "code",
   "execution_count": 107,
   "metadata": {
    "execution": {
     "iopub.execute_input": "2025-02-05T21:15:16.058540Z",
     "iopub.status.busy": "2025-02-05T21:15:16.058270Z",
     "iopub.status.idle": "2025-02-05T21:15:16.112243Z",
     "shell.execute_reply": "2025-02-05T21:15:16.111231Z",
     "shell.execute_reply.started": "2025-02-05T21:15:16.058511Z"
    },
    "trusted": true
   },
   "outputs": [
    {
     "name": "stdout",
     "output_type": "stream",
     "text": [
      "Number of current items: 96158\n",
      "Number of new items: 54248\n"
     ]
    }
   ],
   "source": [
    "item_features_current = item_features_current[item_features_current[\"pratilipi_id\"].isin(interactions_current[\"pratilipi_id\"])]\n",
    "item_features_new = item_features_new[item_features_new[\"pratilipi_id\"].isin(interactions_new[\"pratilipi_id\"])]\n",
    "\n",
    "print(\"Number of current items: {}\".format(len(item_features_current)))\n",
    "print(\"Number of new items: {}\".format(len(item_features_new)))"
   ]
  },
  {
   "cell_type": "code",
   "execution_count": 108,
   "metadata": {
    "execution": {
     "iopub.execute_input": "2025-02-05T21:15:22.949845Z",
     "iopub.status.busy": "2025-02-05T21:15:22.949501Z",
     "iopub.status.idle": "2025-02-05T21:15:22.965061Z",
     "shell.execute_reply": "2025-02-05T21:15:22.964088Z",
     "shell.execute_reply.started": "2025-02-05T21:15:22.949806Z"
    },
    "trusted": true
   },
   "outputs": [],
   "source": [
    "item_features = pd.concat([item_features_current])\n"
   ]
  },
  {
   "cell_type": "markdown",
   "metadata": {},
   "source": [
    "## Transform to LightFM format¶\n",
    "\n",
    "Dataset\n",
    "To train the LightFM model the dataset must be converted in a specific format."
   ]
  },
  {
   "cell_type": "code",
   "execution_count": 109,
   "metadata": {
    "execution": {
     "iopub.execute_input": "2025-02-05T21:16:06.870080Z",
     "iopub.status.busy": "2025-02-05T21:16:06.869708Z",
     "iopub.status.idle": "2025-02-05T21:16:06.877755Z",
     "shell.execute_reply": "2025-02-05T21:16:06.876745Z",
     "shell.execute_reply.started": "2025-02-05T21:16:06.870027Z"
    },
    "trusted": true
   },
   "outputs": [
    {
     "name": "stdout",
     "output_type": "stream",
     "text": [
      "Max user id: 5506791996674814\n",
      "Max pratilipi id: 1377786228304062\n"
     ]
    }
   ],
   "source": [
    "print(\"Max user id: {}\".format(interactions_current['user_id'].max()))\n",
    "print(\"Max pratilipi id: {}\".format(interactions_current['pratilipi_id'].max()))"
   ]
  },
  {
   "cell_type": "code",
   "execution_count": 110,
   "metadata": {
    "execution": {
     "iopub.execute_input": "2025-02-05T21:16:12.534570Z",
     "iopub.status.busy": "2025-02-05T21:16:12.534296Z",
     "iopub.status.idle": "2025-02-05T21:16:12.538930Z",
     "shell.execute_reply": "2025-02-05T21:16:12.537869Z",
     "shell.execute_reply.started": "2025-02-05T21:16:12.534542Z"
    },
    "trusted": true
   },
   "outputs": [],
   "source": [
    "from lightfm.data import Dataset\n"
   ]
  },
  {
   "cell_type": "code",
   "execution_count": 111,
   "metadata": {
    "execution": {
     "iopub.execute_input": "2025-02-05T21:16:17.834366Z",
     "iopub.status.busy": "2025-02-05T21:16:17.834090Z",
     "iopub.status.idle": "2025-02-05T21:16:17.868780Z",
     "shell.execute_reply": "2025-02-05T21:16:17.867799Z",
     "shell.execute_reply.started": "2025-02-05T21:16:17.834338Z"
    },
    "trusted": true
   },
   "outputs": [],
   "source": [
    "user_ids_buffered = (x for x in interactions_current['user_id'].unique())\n",
    "item_ids_buffered = (x for x in interactions_current['pratilipi_id'].unique())\n",
    "\n",
    "item_feature_names = item_features.columns.tolist()\n",
    "item_feature_names.remove(\"pratilipi_id\")\n",
    "\n",
    "# dataset = Dataset()"
   ]
  },
  {
   "cell_type": "code",
   "execution_count": 112,
   "metadata": {
    "execution": {
     "iopub.execute_input": "2025-02-05T21:16:22.852047Z",
     "iopub.status.busy": "2025-02-05T21:16:22.851712Z",
     "iopub.status.idle": "2025-02-05T21:16:22.856715Z",
     "shell.execute_reply": "2025-02-05T21:16:22.855468Z",
     "shell.execute_reply.started": "2025-02-05T21:16:22.851989Z"
    },
    "trusted": true
   },
   "outputs": [],
   "source": [
    "dataset = Dataset()\n"
   ]
  },
  {
   "cell_type": "code",
   "execution_count": 113,
   "metadata": {
    "execution": {
     "iopub.execute_input": "2025-02-05T21:16:27.662935Z",
     "iopub.status.busy": "2025-02-05T21:16:27.662582Z",
     "iopub.status.idle": "2025-02-05T21:16:27.790611Z",
     "shell.execute_reply": "2025-02-05T21:16:27.789628Z",
     "shell.execute_reply.started": "2025-02-05T21:16:27.662899Z"
    },
    "trusted": true
   },
   "outputs": [],
   "source": [
    "dataset.fit(\n",
    "    users=user_ids_buffered,\n",
    "    items=item_ids_buffered,\n",
    "    item_features=item_feature_names\n",
    ")"
   ]
  },
  {
   "cell_type": "markdown",
   "metadata": {},
   "source": [
    "We will be using implict rating \"read_percent\" as the target for the lightfm model\n",
    "\n"
   ]
  },
  {
   "cell_type": "code",
   "execution_count": 114,
   "metadata": {
    "execution": {
     "iopub.execute_input": "2025-02-05T21:16:45.321489Z",
     "iopub.status.busy": "2025-02-05T21:16:45.321072Z",
     "iopub.status.idle": "2025-02-05T21:16:45.327095Z",
     "shell.execute_reply": "2025-02-05T21:16:45.326059Z",
     "shell.execute_reply.started": "2025-02-05T21:16:45.321441Z"
    },
    "trusted": true
   },
   "outputs": [],
   "source": [
    "def transform_interactions(interactions):\n",
    "    \"\"\"\n",
    "    Transforms interactions data frame to the format build_interactions needs it.\n",
    "    \n",
    "    Returns iterable of tuples (\"user_id\", \"pratilipi_id\", 'read_percent').\n",
    "    \"\"\"\n",
    "    return interactions[[\"user_id\", \"pratilipi_id\", 'read_percent']].itertuples(index=False)"
   ]
  },
  {
   "cell_type": "code",
   "execution_count": 115,
   "metadata": {
    "execution": {
     "iopub.execute_input": "2025-02-05T21:16:52.613510Z",
     "iopub.status.busy": "2025-02-05T21:16:52.613243Z",
     "iopub.status.idle": "2025-02-05T21:16:55.011219Z",
     "shell.execute_reply": "2025-02-05T21:16:55.010131Z",
     "shell.execute_reply.started": "2025-02-05T21:16:52.613482Z"
    },
    "trusted": true
   },
   "outputs": [],
   "source": [
    "interaction_matrix_current, _ = dataset.build_interactions(\n",
    "    transform_interactions(interactions_current))"
   ]
  },
  {
   "cell_type": "code",
   "execution_count": 116,
   "metadata": {
    "execution": {
     "iopub.execute_input": "2025-02-05T21:16:58.597468Z",
     "iopub.status.busy": "2025-02-05T21:16:58.596764Z",
     "iopub.status.idle": "2025-02-05T21:16:58.603933Z",
     "shell.execute_reply": "2025-02-05T21:16:58.602876Z",
     "shell.execute_reply.started": "2025-02-05T21:16:58.597412Z"
    },
    "trusted": true
   },
   "outputs": [
    {
     "data": {
      "text/plain": [
       "(639021, 4)"
      ]
     },
     "execution_count": 116,
     "metadata": {},
     "output_type": "execute_result"
    }
   ],
   "source": [
    "interactions_current.shape\n"
   ]
  },
  {
   "cell_type": "code",
   "execution_count": 117,
   "metadata": {
    "execution": {
     "iopub.execute_input": "2025-02-05T21:17:04.525430Z",
     "iopub.status.busy": "2025-02-05T21:17:04.525159Z",
     "iopub.status.idle": "2025-02-05T21:17:05.346882Z",
     "shell.execute_reply": "2025-02-05T21:17:05.345846Z",
     "shell.execute_reply.started": "2025-02-05T21:17:04.525403Z"
    },
    "trusted": true
   },
   "outputs": [],
   "source": [
    "interaction_matrix_new, _ = dataset.build_interactions(\n",
    "    transform_interactions(interactions_new))"
   ]
  },
  {
   "cell_type": "code",
   "execution_count": 118,
   "metadata": {
    "execution": {
     "iopub.execute_input": "2025-02-05T21:17:09.613656Z",
     "iopub.status.busy": "2025-02-05T21:17:09.613330Z",
     "iopub.status.idle": "2025-02-05T21:17:09.620093Z",
     "shell.execute_reply": "2025-02-05T21:17:09.619055Z",
     "shell.execute_reply.started": "2025-02-05T21:17:09.613618Z"
    },
    "trusted": true
   },
   "outputs": [
    {
     "data": {
      "text/plain": [
       "(217605, 4)"
      ]
     },
     "execution_count": 118,
     "metadata": {},
     "output_type": "execute_result"
    }
   ],
   "source": [
    "interactions_new.shape\n"
   ]
  },
  {
   "cell_type": "code",
   "execution_count": 119,
   "metadata": {
    "execution": {
     "iopub.execute_input": "2025-02-05T21:17:19.829015Z",
     "iopub.status.busy": "2025-02-05T21:17:19.828644Z",
     "iopub.status.idle": "2025-02-05T21:17:19.835377Z",
     "shell.execute_reply": "2025-02-05T21:17:19.834465Z",
     "shell.execute_reply.started": "2025-02-05T21:17:19.828981Z"
    },
    "trusted": true
   },
   "outputs": [],
   "source": [
    "def transform_features(features, id_name):\n",
    "    \"\"\"\n",
    "    Transforms features data frame to the format build_user_features / build_item_features needs it.\n",
    "    \n",
    "    Returns iterable of (id, [list of feature names that has value 1]).\n",
    "    \"\"\"\n",
    "    transformed_features = []\n",
    "    for row in features.to_dict(orient=\"records\"):\n",
    "        id_value = row[id_name]\n",
    "        del row[id_name]\n",
    "        feature_names = [key for key, value in row.items() if value == 1]\n",
    "        transformed_features.append(\n",
    "            (id_value, feature_names)\n",
    "        )\n",
    "    return transformed_features"
   ]
  },
  {
   "cell_type": "code",
   "execution_count": 120,
   "metadata": {
    "execution": {
     "iopub.execute_input": "2025-02-05T21:17:27.361757Z",
     "iopub.status.busy": "2025-02-05T21:17:27.361432Z",
     "iopub.status.idle": "2025-02-05T21:17:31.194157Z",
     "shell.execute_reply": "2025-02-05T21:17:31.193182Z",
     "shell.execute_reply.started": "2025-02-05T21:17:27.361720Z"
    },
    "trusted": true
   },
   "outputs": [],
   "source": [
    "item_features_matrix_current = dataset.build_item_features(\n",
    "    transform_features(item_features_current, \"pratilipi_id\"))"
   ]
  },
  {
   "cell_type": "code",
   "execution_count": 121,
   "metadata": {
    "execution": {
     "iopub.execute_input": "2025-02-05T21:17:32.944443Z",
     "iopub.status.busy": "2025-02-05T21:17:32.944122Z",
     "iopub.status.idle": "2025-02-05T21:17:35.028261Z",
     "shell.execute_reply": "2025-02-05T21:17:35.027289Z",
     "shell.execute_reply.started": "2025-02-05T21:17:32.944409Z"
    },
    "trusted": true
   },
   "outputs": [],
   "source": [
    "item_features_matrix_new = dataset.build_item_features(\n",
    "    transform_features(item_features_new, \"pratilipi_id\"))"
   ]
  },
  {
   "cell_type": "markdown",
   "metadata": {},
   "source": [
    "## Train\n",
    "\n",
    "Model definition"
   ]
  },
  {
   "cell_type": "code",
   "execution_count": 122,
   "metadata": {
    "execution": {
     "iopub.execute_input": "2025-02-05T21:18:05.337122Z",
     "iopub.status.busy": "2025-02-05T21:18:05.336174Z",
     "iopub.status.idle": "2025-02-05T21:18:05.342055Z",
     "shell.execute_reply": "2025-02-05T21:18:05.341108Z",
     "shell.execute_reply.started": "2025-02-05T21:18:05.337078Z"
    },
    "trusted": true
   },
   "outputs": [],
   "source": [
    "model = LightFM(loss=\"warp\",no_components=150,\n",
    "    learning_rate=0.05,random_state=2019)"
   ]
  },
  {
   "cell_type": "markdown",
   "metadata": {},
   "source": [
    "### Evaluating the performance of the model\n",
    "\n",
    "Now we have to evaluate our model to see it's performance. No matter how good your model is, if you can't evaluate your model correctly you can't imporove and trust your model. For recommendation problem, there is not very good matrics for evaluating. But luckily lightfm provides us a very rich set of evaluating matrics. In this steps, we will be calculating AUC scores for our model."
   ]
  },
  {
   "cell_type": "code",
   "execution_count": 123,
   "metadata": {
    "execution": {
     "iopub.execute_input": "2025-02-05T21:18:36.143954Z",
     "iopub.status.busy": "2025-02-05T21:18:36.143636Z",
     "iopub.status.idle": "2025-02-05T21:18:36.152090Z",
     "shell.execute_reply": "2025-02-05T21:18:36.151124Z",
     "shell.execute_reply.started": "2025-02-05T21:18:36.143920Z"
    },
    "trusted": true
   },
   "outputs": [],
   "source": [
    "class Evaluator():\n",
    "    \"\"\"\n",
    "    Helper class for model evaluation\n",
    "    \n",
    "    Stores the number of epochs and corresponding performance metrics in a data frame.\n",
    "    Returns the number of epochs with the best validation ROC AUC.\n",
    "    Prepared to handle multiple runs of the same hyperparameters, and averages up the multiple runs.\n",
    "    \"\"\"\n",
    "    \n",
    "    def __init__(self):\n",
    "        self.df_evaluation = pd.DataFrame()\n",
    "    def evaluate(self, epochs, model, interaction_matrix_train,item_features_matrix):\n",
    "            features_current = {\n",
    "               \n",
    "                \"item_features\": item_features_matrix\n",
    "            }\n",
    "            evaluation_row = pd.DataFrame({\n",
    "                \"epochs\": epochs,\n",
    "                \"train_precision\": precision_at_k(model, interaction_matrix_train, k=10, **features_current).mean(),\n",
    "                \"train_auc\": auc_score(model, interaction_matrix_train, **features_current).mean(),\n",
    "                },\n",
    "                index=[0]\n",
    "            )\n",
    "            self.df_evaluation = self.df_evaluation.append(evaluation_row, ignore_index=True)\n",
    "    def get_best_epochs(self):\n",
    "        df_evaluation_agg = self.df_evaluation.groupby(\"epochs\").agg(\"mean\").reset_index()\n",
    "        best_epochs =  df_evaluation_agg[\n",
    "            df_evaluation_agg[\"train_auc\"] == df_evaluation_agg[\"train_auc\"].max()\n",
    "        ][\"epochs\"].iloc[0]\n",
    "        return best_epochs\n"
   ]
  },
  {
   "cell_type": "code",
   "execution_count": 124,
   "metadata": {
    "execution": {
     "iopub.execute_input": "2025-02-05T21:18:57.035976Z",
     "iopub.status.busy": "2025-02-05T21:18:57.035648Z",
     "iopub.status.idle": "2025-02-05T21:45:14.851292Z",
     "shell.execute_reply": "2025-02-05T21:45:14.850134Z",
     "shell.execute_reply.started": "2025-02-05T21:18:57.035940Z"
    },
    "trusted": true
   },
   "outputs": [
    {
     "name": "stdout",
     "output_type": "stream",
     "text": [
      "Epochs: 200\n"
     ]
    }
   ],
   "source": [
    "evaluator = Evaluator()\n",
    "for epochs in [200]:\n",
    "    print(f\"Epochs: {epochs}\")\n",
    "    \n",
    "    model.fit(\n",
    "        interaction_matrix_current,\n",
    "        epochs=epochs,\n",
    "        item_features=item_features_matrix_current\n",
    "    )\n",
    "    \n",
    "    evaluator.evaluate(\n",
    "        epochs, model,\n",
    "        interaction_matrix_current,item_features_matrix_current)"
   ]
  },
  {
   "cell_type": "code",
   "execution_count": 125,
   "metadata": {
    "execution": {
     "iopub.execute_input": "2025-02-05T21:45:14.853726Z",
     "iopub.status.busy": "2025-02-05T21:45:14.853366Z",
     "iopub.status.idle": "2025-02-05T21:45:14.864805Z",
     "shell.execute_reply": "2025-02-05T21:45:14.863756Z",
     "shell.execute_reply.started": "2025-02-05T21:45:14.853657Z"
    },
    "trusted": true
   },
   "outputs": [
    {
     "data": {
      "text/html": [
       "<div>\n",
       "<style scoped>\n",
       "    .dataframe tbody tr th:only-of-type {\n",
       "        vertical-align: middle;\n",
       "    }\n",
       "\n",
       "    .dataframe tbody tr th {\n",
       "        vertical-align: top;\n",
       "    }\n",
       "\n",
       "    .dataframe thead th {\n",
       "        text-align: right;\n",
       "    }\n",
       "</style>\n",
       "<table border=\"1\" class=\"dataframe\">\n",
       "  <thead>\n",
       "    <tr style=\"text-align: right;\">\n",
       "      <th></th>\n",
       "      <th>epochs</th>\n",
       "      <th>train_precision</th>\n",
       "      <th>train_auc</th>\n",
       "    </tr>\n",
       "  </thead>\n",
       "  <tbody>\n",
       "    <tr>\n",
       "      <th>0</th>\n",
       "      <td>200</td>\n",
       "      <td>0.726616</td>\n",
       "      <td>0.999946</td>\n",
       "    </tr>\n",
       "  </tbody>\n",
       "</table>\n",
       "</div>"
      ],
      "text/plain": [
       "   epochs  train_precision  train_auc\n",
       "0     200         0.726616   0.999946"
      ]
     },
     "execution_count": 125,
     "metadata": {},
     "output_type": "execute_result"
    }
   ],
   "source": [
    "# train evealuation\n",
    "evaluator.df_evaluation"
   ]
  },
  {
   "cell_type": "code",
   "execution_count": 126,
   "metadata": {
    "execution": {
     "iopub.execute_input": "2025-02-05T21:45:14.866965Z",
     "iopub.status.busy": "2025-02-05T21:45:14.866447Z",
     "iopub.status.idle": "2025-02-05T21:45:14.874225Z",
     "shell.execute_reply": "2025-02-05T21:45:14.873227Z",
     "shell.execute_reply.started": "2025-02-05T21:45:14.866914Z"
    },
    "trusted": true
   },
   "outputs": [],
   "source": [
    "# test evaluation\n",
    "features_new = {\n",
    "               \n",
    "                \"item_features\": item_features_matrix_new\n",
    "            }"
   ]
  },
  {
   "cell_type": "markdown",
   "metadata": {},
   "source": [
    "## **Evaluation metric**\n",
    "\n",
    "* AUC : It measure the ROC AUC metric for a model: the probability that a randomly chosen positive example has a higher score than a randomly chosen negative example. A perfect score is 1.0.\n",
    "\n",
    "* Precision at K : Measure the precision at k metric for a model: the fraction of known positives in the first k positions of the ranked list of results.A perfect score is 1.0.\n",
    "\n",
    "* Recall at K : Measure the recall at k metric for a model: the number of positive items in the first k positions of the ranked list of results divided by the number of positive items in the test period. A perfect score is 1.0.\n",
    "\n",
    "* Mean Reciprocal rank : Measure the reciprocal rank metric for a model: 1 / the rank of the highest ranked positive example. A perfect score is 1.0."
   ]
  },
  {
   "cell_type": "code",
   "execution_count": 127,
   "metadata": {
    "execution": {
     "iopub.execute_input": "2025-02-05T21:45:14.876633Z",
     "iopub.status.busy": "2025-02-05T21:45:14.876382Z",
     "iopub.status.idle": "2025-02-05T21:52:20.062200Z",
     "shell.execute_reply": "2025-02-05T21:52:20.060934Z",
     "shell.execute_reply.started": "2025-02-05T21:45:14.876601Z"
    },
    "trusted": true
   },
   "outputs": [
    {
     "name": "stdout",
     "output_type": "stream",
     "text": [
      "0.8544167\n"
     ]
    }
   ],
   "source": [
    "print(auc_score(model, interaction_matrix_new, **features_new).mean())\n"
   ]
  },
  {
   "cell_type": "code",
   "execution_count": 128,
   "metadata": {
    "execution": {
     "iopub.execute_input": "2025-02-05T21:52:20.063938Z",
     "iopub.status.busy": "2025-02-05T21:52:20.063625Z",
     "iopub.status.idle": "2025-02-05T21:59:34.816775Z",
     "shell.execute_reply": "2025-02-05T21:59:34.815807Z",
     "shell.execute_reply.started": "2025-02-05T21:52:20.063905Z"
    },
    "trusted": true
   },
   "outputs": [
    {
     "name": "stdout",
     "output_type": "stream",
     "text": [
      "0.0025888649\n"
     ]
    }
   ],
   "source": [
    "print(precision_at_k(model, interaction_matrix_new, k=10, **features_new).mean())\n"
   ]
  },
  {
   "cell_type": "code",
   "execution_count": 129,
   "metadata": {
    "execution": {
     "iopub.execute_input": "2025-02-05T21:59:34.818342Z",
     "iopub.status.busy": "2025-02-05T21:59:34.818101Z",
     "iopub.status.idle": "2025-02-05T22:06:39.990429Z",
     "shell.execute_reply": "2025-02-05T22:06:39.989377Z",
     "shell.execute_reply.started": "2025-02-05T21:59:34.818312Z"
    },
    "trusted": true
   },
   "outputs": [
    {
     "name": "stdout",
     "output_type": "stream",
     "text": [
      "0.017295029\n"
     ]
    }
   ],
   "source": [
    "print(reciprocal_rank(model, interaction_matrix_new, **features_new).mean())\n"
   ]
  },
  {
   "cell_type": "code",
   "execution_count": 130,
   "metadata": {
    "execution": {
     "iopub.execute_input": "2025-02-05T22:06:39.992569Z",
     "iopub.status.busy": "2025-02-05T22:06:39.992227Z",
     "iopub.status.idle": "2025-02-05T22:13:55.561571Z",
     "shell.execute_reply": "2025-02-05T22:13:55.560550Z",
     "shell.execute_reply.started": "2025-02-05T22:06:39.992523Z"
    },
    "trusted": true
   },
   "outputs": [
    {
     "name": "stdout",
     "output_type": "stream",
     "text": [
      "0.0071532228935390334\n"
     ]
    }
   ],
   "source": [
    "print(recall_at_k(model, interaction_matrix_new, k=10, **features_new).mean())\n"
   ]
  },
  {
   "cell_type": "markdown",
   "metadata": {},
   "source": [
    "## Getting recommendation for test dataset"
   ]
  },
  {
   "cell_type": "code",
   "execution_count": 131,
   "metadata": {
    "execution": {
     "iopub.execute_input": "2025-02-05T22:13:55.563271Z",
     "iopub.status.busy": "2025-02-05T22:13:55.563054Z",
     "iopub.status.idle": "2025-02-05T22:13:55.571258Z",
     "shell.execute_reply": "2025-02-05T22:13:55.570219Z",
     "shell.execute_reply.started": "2025-02-05T22:13:55.563244Z"
    },
    "trusted": true
   },
   "outputs": [],
   "source": [
    "def predict(model, dataset, user_item_pairs,item_features_matrix):\n",
    "    user_id_mapping, user_feature_mapping, item_id_mapping, item_feature_mapping = dataset.mapping()\n",
    "    predictions = model.predict(\n",
    "        user_ids=np.array([user_id_mapping[x] for x in user_item_pairs[\"user_id\"]]),\n",
    "        item_ids=np.array([item_id_mapping[x] for x in user_item_pairs[\"pratilipi_id\"]]),\n",
    "        item_features=item_features_matrix\n",
    "    )\n",
    "    \n",
    "    df_predictions = user_item_pairs.copy()\n",
    "    df_predictions[\"prediction\"] = predictions\n",
    "    \n",
    "    return df_predictions\n",
    "\n",
    "def merge_interactions(df_evaluation, interactions):\n",
    "    df_evaluation = df_evaluation.merge(interactions[[\"user_id\", \"pratilipi_id\", \"read_percent\"]], on=[\"user_id\", \"pratilipi_id\"], how=\"left\")\n",
    "    df_evaluation[\"has_interaction\"] = ~df_evaluation[\"read_percent\"].isna()\n",
    "#     df_evaluation = df_evaluation.drop(columns=\"read_percent\")\n",
    "    return df_evaluation"
   ]
  },
  {
   "cell_type": "markdown",
   "metadata": {},
   "source": [
    "### Jaccard Metric\n",
    "\n",
    "The Jaccard similarity index (sometimes called the Jaccard similarity coefficient) compares members for two sets to see which members are shared and which are distinct. It’s a measure of similarity for the two sets of data, with a range from 0% to 100%. The higher the percentage, the more similar the two populations. We will find Jaccard metric for\n",
    "\n",
    "Predicted vs Actual pratilipi Id\n",
    "Predicted vs Actual category name"
   ]
  },
  {
   "cell_type": "code",
   "execution_count": 133,
   "metadata": {
    "execution": {
     "iopub.execute_input": "2025-02-05T22:25:20.676118Z",
     "iopub.status.busy": "2025-02-05T22:25:20.675799Z",
     "iopub.status.idle": "2025-02-05T22:25:22.960075Z",
     "shell.execute_reply": "2025-02-05T22:25:22.959103Z",
     "shell.execute_reply.started": "2025-02-05T22:25:20.676087Z"
    },
    "trusted": true
   },
   "outputs": [],
   "source": [
    "metadata = pd.read_csv(\"/kaggle/input/pratilipi-dataset/metadata.csv\")\n"
   ]
  },
  {
   "cell_type": "code",
   "execution_count": 134,
   "metadata": {
    "execution": {
     "iopub.execute_input": "2025-02-05T22:25:24.200476Z",
     "iopub.status.busy": "2025-02-05T22:25:24.199762Z",
     "iopub.status.idle": "2025-02-05T22:25:25.536116Z",
     "shell.execute_reply": "2025-02-05T22:25:25.535301Z",
     "shell.execute_reply.started": "2025-02-05T22:25:24.200436Z"
    },
    "trusted": true
   },
   "outputs": [],
   "source": [
    "complete_test = complete_test.merge(metadata,on = \"pratilipi_id\")\n"
   ]
  },
  {
   "cell_type": "code",
   "execution_count": 135,
   "metadata": {
    "execution": {
     "iopub.execute_input": "2025-02-05T22:25:25.537797Z",
     "iopub.status.busy": "2025-02-05T22:25:25.537527Z",
     "iopub.status.idle": "2025-02-05T22:25:25.566601Z",
     "shell.execute_reply": "2025-02-05T22:25:25.565635Z",
     "shell.execute_reply.started": "2025-02-05T22:25:25.537760Z"
    },
    "trusted": true
   },
   "outputs": [
    {
     "data": {
      "text/html": [
       "<div>\n",
       "<style scoped>\n",
       "    .dataframe tbody tr th:only-of-type {\n",
       "        vertical-align: middle;\n",
       "    }\n",
       "\n",
       "    .dataframe tbody tr th {\n",
       "        vertical-align: top;\n",
       "    }\n",
       "\n",
       "    .dataframe thead th {\n",
       "        text-align: right;\n",
       "    }\n",
       "</style>\n",
       "<table border=\"1\" class=\"dataframe\">\n",
       "  <thead>\n",
       "    <tr style=\"text-align: right;\">\n",
       "      <th></th>\n",
       "      <th>user_id</th>\n",
       "      <th>pratilipi_id</th>\n",
       "      <th>read_percent</th>\n",
       "      <th>updated_at_x</th>\n",
       "      <th>month</th>\n",
       "      <th>year</th>\n",
       "      <th>reading_time_min</th>\n",
       "      <th>genre|actionandadventure</th>\n",
       "      <th>genre|children</th>\n",
       "      <th>genre|comedy</th>\n",
       "      <th>...</th>\n",
       "      <th>genre|swahindi2</th>\n",
       "      <th>genre|thechatstory</th>\n",
       "      <th>genre|translation</th>\n",
       "      <th>genre|webseries</th>\n",
       "      <th>genre|women</th>\n",
       "      <th>author_id</th>\n",
       "      <th>category_name</th>\n",
       "      <th>reading_time</th>\n",
       "      <th>updated_at_y</th>\n",
       "      <th>published_at</th>\n",
       "    </tr>\n",
       "  </thead>\n",
       "  <tbody>\n",
       "    <tr>\n",
       "      <th>0</th>\n",
       "      <td>5506791978962946</td>\n",
       "      <td>1377786228157051</td>\n",
       "      <td>100.0</td>\n",
       "      <td>2022-03-22 17:32:44.777</td>\n",
       "      <td>3.0</td>\n",
       "      <td>2022.0</td>\n",
       "      <td>13</td>\n",
       "      <td>0.0</td>\n",
       "      <td>0.0</td>\n",
       "      <td>0.0</td>\n",
       "      <td>...</td>\n",
       "      <td>0.809373</td>\n",
       "      <td>0.0</td>\n",
       "      <td>0.0</td>\n",
       "      <td>0.0</td>\n",
       "      <td>0.0</td>\n",
       "      <td>-2270332331146586</td>\n",
       "      <td>romance</td>\n",
       "      <td>811</td>\n",
       "      <td>2022-03-08 16:31:41</td>\n",
       "      <td>2022-03-08 16:31:41</td>\n",
       "    </tr>\n",
       "    <tr>\n",
       "      <th>1</th>\n",
       "      <td>5506791978962946</td>\n",
       "      <td>1377786228157051</td>\n",
       "      <td>100.0</td>\n",
       "      <td>2022-03-22 17:32:44.777</td>\n",
       "      <td>3.0</td>\n",
       "      <td>2022.0</td>\n",
       "      <td>13</td>\n",
       "      <td>0.0</td>\n",
       "      <td>0.0</td>\n",
       "      <td>0.0</td>\n",
       "      <td>...</td>\n",
       "      <td>0.809373</td>\n",
       "      <td>0.0</td>\n",
       "      <td>0.0</td>\n",
       "      <td>0.0</td>\n",
       "      <td>0.0</td>\n",
       "      <td>-2270332331146586</td>\n",
       "      <td>suspense</td>\n",
       "      <td>811</td>\n",
       "      <td>2022-03-08 16:31:41</td>\n",
       "      <td>2022-03-08 16:31:41</td>\n",
       "    </tr>\n",
       "    <tr>\n",
       "      <th>2</th>\n",
       "      <td>5506791978962946</td>\n",
       "      <td>1377786228157051</td>\n",
       "      <td>100.0</td>\n",
       "      <td>2022-03-22 17:32:44.777</td>\n",
       "      <td>3.0</td>\n",
       "      <td>2022.0</td>\n",
       "      <td>13</td>\n",
       "      <td>0.0</td>\n",
       "      <td>0.0</td>\n",
       "      <td>0.0</td>\n",
       "      <td>...</td>\n",
       "      <td>0.809373</td>\n",
       "      <td>0.0</td>\n",
       "      <td>0.0</td>\n",
       "      <td>0.0</td>\n",
       "      <td>0.0</td>\n",
       "      <td>-2270332331146586</td>\n",
       "      <td>swahindi2</td>\n",
       "      <td>811</td>\n",
       "      <td>2022-03-08 16:31:41</td>\n",
       "      <td>2022-03-08 16:31:41</td>\n",
       "    </tr>\n",
       "    <tr>\n",
       "      <th>3</th>\n",
       "      <td>5506791965953821</td>\n",
       "      <td>1377786228157051</td>\n",
       "      <td>100.0</td>\n",
       "      <td>2022-03-21 15:49:08.893</td>\n",
       "      <td>3.0</td>\n",
       "      <td>2022.0</td>\n",
       "      <td>13</td>\n",
       "      <td>0.0</td>\n",
       "      <td>0.0</td>\n",
       "      <td>0.0</td>\n",
       "      <td>...</td>\n",
       "      <td>0.809373</td>\n",
       "      <td>0.0</td>\n",
       "      <td>0.0</td>\n",
       "      <td>0.0</td>\n",
       "      <td>0.0</td>\n",
       "      <td>-2270332331146586</td>\n",
       "      <td>romance</td>\n",
       "      <td>811</td>\n",
       "      <td>2022-03-08 16:31:41</td>\n",
       "      <td>2022-03-08 16:31:41</td>\n",
       "    </tr>\n",
       "    <tr>\n",
       "      <th>4</th>\n",
       "      <td>5506791965953821</td>\n",
       "      <td>1377786228157051</td>\n",
       "      <td>100.0</td>\n",
       "      <td>2022-03-21 15:49:08.893</td>\n",
       "      <td>3.0</td>\n",
       "      <td>2022.0</td>\n",
       "      <td>13</td>\n",
       "      <td>0.0</td>\n",
       "      <td>0.0</td>\n",
       "      <td>0.0</td>\n",
       "      <td>...</td>\n",
       "      <td>0.809373</td>\n",
       "      <td>0.0</td>\n",
       "      <td>0.0</td>\n",
       "      <td>0.0</td>\n",
       "      <td>0.0</td>\n",
       "      <td>-2270332331146586</td>\n",
       "      <td>suspense</td>\n",
       "      <td>811</td>\n",
       "      <td>2022-03-08 16:31:41</td>\n",
       "      <td>2022-03-08 16:31:41</td>\n",
       "    </tr>\n",
       "  </tbody>\n",
       "</table>\n",
       "<p>5 rows × 57 columns</p>\n",
       "</div>"
      ],
      "text/plain": [
       "            user_id      pratilipi_id  read_percent             updated_at_x  \\\n",
       "0  5506791978962946  1377786228157051         100.0  2022-03-22 17:32:44.777   \n",
       "1  5506791978962946  1377786228157051         100.0  2022-03-22 17:32:44.777   \n",
       "2  5506791978962946  1377786228157051         100.0  2022-03-22 17:32:44.777   \n",
       "3  5506791965953821  1377786228157051         100.0  2022-03-21 15:49:08.893   \n",
       "4  5506791965953821  1377786228157051         100.0  2022-03-21 15:49:08.893   \n",
       "\n",
       "   month    year  reading_time_min  genre|actionandadventure  genre|children  \\\n",
       "0    3.0  2022.0                13                       0.0             0.0   \n",
       "1    3.0  2022.0                13                       0.0             0.0   \n",
       "2    3.0  2022.0                13                       0.0             0.0   \n",
       "3    3.0  2022.0                13                       0.0             0.0   \n",
       "4    3.0  2022.0                13                       0.0             0.0   \n",
       "\n",
       "   genre|comedy  ...  genre|swahindi2  genre|thechatstory  genre|translation  \\\n",
       "0           0.0  ...         0.809373                 0.0                0.0   \n",
       "1           0.0  ...         0.809373                 0.0                0.0   \n",
       "2           0.0  ...         0.809373                 0.0                0.0   \n",
       "3           0.0  ...         0.809373                 0.0                0.0   \n",
       "4           0.0  ...         0.809373                 0.0                0.0   \n",
       "\n",
       "   genre|webseries  genre|women         author_id  category_name  \\\n",
       "0              0.0          0.0 -2270332331146586        romance   \n",
       "1              0.0          0.0 -2270332331146586       suspense   \n",
       "2              0.0          0.0 -2270332331146586      swahindi2   \n",
       "3              0.0          0.0 -2270332331146586        romance   \n",
       "4              0.0          0.0 -2270332331146586       suspense   \n",
       "\n",
       "   reading_time         updated_at_y         published_at  \n",
       "0           811  2022-03-08 16:31:41  2022-03-08 16:31:41  \n",
       "1           811  2022-03-08 16:31:41  2022-03-08 16:31:41  \n",
       "2           811  2022-03-08 16:31:41  2022-03-08 16:31:41  \n",
       "3           811  2022-03-08 16:31:41  2022-03-08 16:31:41  \n",
       "4           811  2022-03-08 16:31:41  2022-03-08 16:31:41  \n",
       "\n",
       "[5 rows x 57 columns]"
      ]
     },
     "execution_count": 135,
     "metadata": {},
     "output_type": "execute_result"
    }
   ],
   "source": [
    "complete_test.head()\n"
   ]
  },
  {
   "cell_type": "markdown",
   "metadata": {},
   "source": [
    "### Since predicting on 60k test data sample is unfeasible we will only predict for 1k users¶\n"
   ]
  },
  {
   "cell_type": "code",
   "execution_count": 136,
   "metadata": {
    "execution": {
     "iopub.execute_input": "2025-02-05T22:25:28.376351Z",
     "iopub.status.busy": "2025-02-05T22:25:28.375974Z",
     "iopub.status.idle": "2025-02-05T22:25:30.553800Z",
     "shell.execute_reply": "2025-02-05T22:25:30.552959Z",
     "shell.execute_reply.started": "2025-02-05T22:25:28.376315Z"
    },
    "trusted": true
   },
   "outputs": [],
   "source": [
    "g = {'pratilipi_id':lambda x: list(x)[:100] if len(list(x))>100 else list(x),\n",
    "    \"category_name\":lambda x: list(x)}\n",
    "final_test = complete_test.sort_values(['updated_at_x']).groupby([\"user_id\"]).agg(g).reset_index()"
   ]
  },
  {
   "cell_type": "code",
   "execution_count": 137,
   "metadata": {
    "execution": {
     "iopub.execute_input": "2025-02-05T22:25:30.555631Z",
     "iopub.status.busy": "2025-02-05T22:25:30.555372Z",
     "iopub.status.idle": "2025-02-05T22:25:30.561550Z",
     "shell.execute_reply": "2025-02-05T22:25:30.560574Z",
     "shell.execute_reply.started": "2025-02-05T22:25:30.555598Z"
    },
    "trusted": true
   },
   "outputs": [],
   "source": [
    "final_test[\"predicted_id\"] = None\n"
   ]
  },
  {
   "cell_type": "code",
   "execution_count": 138,
   "metadata": {
    "execution": {
     "iopub.execute_input": "2025-02-05T22:25:30.563182Z",
     "iopub.status.busy": "2025-02-05T22:25:30.562889Z",
     "iopub.status.idle": "2025-02-05T22:25:30.584002Z",
     "shell.execute_reply": "2025-02-05T22:25:30.583090Z",
     "shell.execute_reply.started": "2025-02-05T22:25:30.563149Z"
    },
    "trusted": true
   },
   "outputs": [
    {
     "data": {
      "text/html": [
       "<div>\n",
       "<style scoped>\n",
       "    .dataframe tbody tr th:only-of-type {\n",
       "        vertical-align: middle;\n",
       "    }\n",
       "\n",
       "    .dataframe tbody tr th {\n",
       "        vertical-align: top;\n",
       "    }\n",
       "\n",
       "    .dataframe thead th {\n",
       "        text-align: right;\n",
       "    }\n",
       "</style>\n",
       "<table border=\"1\" class=\"dataframe\">\n",
       "  <thead>\n",
       "    <tr style=\"text-align: right;\">\n",
       "      <th></th>\n",
       "      <th>user_id</th>\n",
       "      <th>pratilipi_id</th>\n",
       "      <th>category_name</th>\n",
       "      <th>predicted_id</th>\n",
       "    </tr>\n",
       "  </thead>\n",
       "  <tbody>\n",
       "    <tr>\n",
       "      <th>0</th>\n",
       "      <td>3260275089121956</td>\n",
       "      <td>[1377786225517713, 1377786225517713, 137778622...</td>\n",
       "      <td>[romance, entertainment, entertainment, romanc...</td>\n",
       "      <td>None</td>\n",
       "    </tr>\n",
       "    <tr>\n",
       "      <th>1</th>\n",
       "      <td>3263998672675492</td>\n",
       "      <td>[1377786227504834, 1377786227504834, 137778622...</td>\n",
       "      <td>[romance, novels, family, romance, novels, fam...</td>\n",
       "      <td>None</td>\n",
       "    </tr>\n",
       "    <tr>\n",
       "      <th>2</th>\n",
       "      <td>3264294598124196</td>\n",
       "      <td>[1377786224259805, 1377786224259805, 137778622...</td>\n",
       "      <td>[suspense, action-and-adventure, romance, acti...</td>\n",
       "      <td>None</td>\n",
       "    </tr>\n",
       "    <tr>\n",
       "      <th>3</th>\n",
       "      <td>3264359729373860</td>\n",
       "      <td>[1377786217482504, 1377786217482504, 137778621...</td>\n",
       "      <td>[suspense, novels, romance, suspense, romance,...</td>\n",
       "      <td>None</td>\n",
       "    </tr>\n",
       "    <tr>\n",
       "      <th>4</th>\n",
       "      <td>3267248272614052</td>\n",
       "      <td>[1377786226443381, 1377786226443381, 137778622...</td>\n",
       "      <td>[family, moral-inspiring, romance, moral-inspi...</td>\n",
       "      <td>None</td>\n",
       "    </tr>\n",
       "  </tbody>\n",
       "</table>\n",
       "</div>"
      ],
      "text/plain": [
       "            user_id                                       pratilipi_id  \\\n",
       "0  3260275089121956  [1377786225517713, 1377786225517713, 137778622...   \n",
       "1  3263998672675492  [1377786227504834, 1377786227504834, 137778622...   \n",
       "2  3264294598124196  [1377786224259805, 1377786224259805, 137778622...   \n",
       "3  3264359729373860  [1377786217482504, 1377786217482504, 137778621...   \n",
       "4  3267248272614052  [1377786226443381, 1377786226443381, 137778622...   \n",
       "\n",
       "                                       category_name predicted_id  \n",
       "0  [romance, entertainment, entertainment, romanc...         None  \n",
       "1  [romance, novels, family, romance, novels, fam...         None  \n",
       "2  [suspense, action-and-adventure, romance, acti...         None  \n",
       "3  [suspense, novels, romance, suspense, romance,...         None  \n",
       "4  [family, moral-inspiring, romance, moral-inspi...         None  "
      ]
     },
     "execution_count": 138,
     "metadata": {},
     "output_type": "execute_result"
    }
   ],
   "source": [
    "final_test.head()\n"
   ]
  },
  {
   "cell_type": "code",
   "execution_count": 139,
   "metadata": {
    "execution": {
     "iopub.execute_input": "2025-02-05T22:25:30.947210Z",
     "iopub.status.busy": "2025-02-05T22:25:30.946900Z",
     "iopub.status.idle": "2025-02-05T22:31:41.685267Z",
     "shell.execute_reply": "2025-02-05T22:31:41.684461Z",
     "shell.execute_reply.started": "2025-02-05T22:25:30.947177Z"
    },
    "trusted": true
   },
   "outputs": [
    {
     "name": "stderr",
     "output_type": "stream",
     "text": [
      "/opt/conda/lib/python3.7/site-packages/ipykernel_launcher.py:12: SettingWithCopyWarning: \n",
      "A value is trying to be set on a copy of a slice from a DataFrame\n",
      "\n",
      "See the caveats in the documentation: https://pandas.pydata.org/pandas-docs/stable/user_guide/indexing.html#returning-a-view-versus-a-copy\n",
      "  if sys.path[0] == '':\n"
     ]
    }
   ],
   "source": [
    "all_item_ids = np.unique(interactions[\"pratilipi_id\"])\n",
    "\n",
    "for i in range(1000):\n",
    "#     try:\n",
    "    user_sample_item_pairs = pd.DataFrame({\n",
    "        \"user_id\": final_test[\"user_id\"][i],\n",
    "        \"pratilipi_id\": all_item_ids\n",
    "    })\n",
    "    predictions_sample = predict(model, dataset, user_sample_item_pairs,item_features_matrix_new )\n",
    "    predictions_sample = merge_interactions(predictions_sample, interactions)\n",
    "    predictions_sample = predictions_sample.sort_values(\"prediction\", ascending=False)\n",
    "    final_test[\"predicted_id\"][i] = list(set(predictions_sample[\"pratilipi_id\"].tolist()[:100]))"
   ]
  },
  {
   "cell_type": "code",
   "execution_count": 140,
   "metadata": {
    "execution": {
     "iopub.execute_input": "2025-02-05T22:31:41.687230Z",
     "iopub.status.busy": "2025-02-05T22:31:41.686982Z",
     "iopub.status.idle": "2025-02-05T22:31:41.691823Z",
     "shell.execute_reply": "2025-02-05T22:31:41.690879Z",
     "shell.execute_reply.started": "2025-02-05T22:31:41.687200Z"
    },
    "trusted": true
   },
   "outputs": [],
   "source": [
    "final_test=final_test[:1000]\n"
   ]
  },
  {
   "cell_type": "code",
   "execution_count": 141,
   "metadata": {
    "execution": {
     "iopub.execute_input": "2025-02-05T22:31:41.694017Z",
     "iopub.status.busy": "2025-02-05T22:31:41.693657Z",
     "iopub.status.idle": "2025-02-05T22:31:45.263932Z",
     "shell.execute_reply": "2025-02-05T22:31:45.263065Z",
     "shell.execute_reply.started": "2025-02-05T22:31:41.693972Z"
    },
    "trusted": true
   },
   "outputs": [],
   "source": [
    "### For better understanding of the recommendation we will also find category of predicted items\n",
    "g = {\"category_name\":lambda x: list(x)}\n",
    "metadict = metadata.groupby([\"pratilipi_id\"]).agg(g).reset_index()"
   ]
  },
  {
   "cell_type": "code",
   "execution_count": 142,
   "metadata": {
    "execution": {
     "iopub.execute_input": "2025-02-05T22:31:45.266151Z",
     "iopub.status.busy": "2025-02-05T22:31:45.265888Z",
     "iopub.status.idle": "2025-02-05T22:31:45.272362Z",
     "shell.execute_reply": "2025-02-05T22:31:45.271246Z",
     "shell.execute_reply.started": "2025-02-05T22:31:45.266118Z"
    },
    "trusted": true
   },
   "outputs": [
    {
     "data": {
      "text/plain": [
       "(954501, 6)"
      ]
     },
     "execution_count": 142,
     "metadata": {},
     "output_type": "execute_result"
    }
   ],
   "source": [
    "metadata.shape\n"
   ]
  },
  {
   "cell_type": "code",
   "execution_count": 143,
   "metadata": {
    "execution": {
     "iopub.execute_input": "2025-02-05T22:31:45.274164Z",
     "iopub.status.busy": "2025-02-05T22:31:45.273816Z",
     "iopub.status.idle": "2025-02-05T22:31:49.597586Z",
     "shell.execute_reply": "2025-02-05T22:31:49.596625Z",
     "shell.execute_reply.started": "2025-02-05T22:31:45.274120Z"
    },
    "trusted": true
   },
   "outputs": [],
   "source": [
    "metadict[\"pratilipi_id\"] = metadict.apply(lambda x: abs(x[\"pratilipi_id\"]),axis = 1)\n"
   ]
  },
  {
   "cell_type": "code",
   "execution_count": 144,
   "metadata": {
    "execution": {
     "iopub.execute_input": "2025-02-05T22:31:49.599523Z",
     "iopub.status.busy": "2025-02-05T22:31:49.599270Z",
     "iopub.status.idle": "2025-02-05T22:31:54.517494Z",
     "shell.execute_reply": "2025-02-05T22:31:54.516516Z",
     "shell.execute_reply.started": "2025-02-05T22:31:49.599490Z"
    },
    "trusted": true
   },
   "outputs": [],
   "source": [
    "dic = {}\n",
    "for i in range(len(metadict)):\n",
    "    dic[metadict[\"pratilipi_id\"][i]] = metadict[\"category_name\"][i]"
   ]
  },
  {
   "cell_type": "code",
   "execution_count": 145,
   "metadata": {
    "execution": {
     "iopub.execute_input": "2025-02-05T22:31:54.518999Z",
     "iopub.status.busy": "2025-02-05T22:31:54.518699Z",
     "iopub.status.idle": "2025-02-05T22:31:54.524355Z",
     "shell.execute_reply": "2025-02-05T22:31:54.523362Z",
     "shell.execute_reply.started": "2025-02-05T22:31:54.518967Z"
    },
    "trusted": true
   },
   "outputs": [],
   "source": [
    "final_test[\"predicted_cat\"] = None\n"
   ]
  },
  {
   "cell_type": "code",
   "execution_count": 146,
   "metadata": {
    "execution": {
     "iopub.execute_input": "2025-02-05T22:31:54.525911Z",
     "iopub.status.busy": "2025-02-05T22:31:54.525588Z",
     "iopub.status.idle": "2025-02-05T22:31:55.660697Z",
     "shell.execute_reply": "2025-02-05T22:31:55.659822Z",
     "shell.execute_reply.started": "2025-02-05T22:31:54.525877Z"
    },
    "trusted": true
   },
   "outputs": [
    {
     "name": "stderr",
     "output_type": "stream",
     "text": [
      "/opt/conda/lib/python3.7/site-packages/ipykernel_launcher.py:5: SettingWithCopyWarning: \n",
      "A value is trying to be set on a copy of a slice from a DataFrame\n",
      "\n",
      "See the caveats in the documentation: https://pandas.pydata.org/pandas-docs/stable/user_guide/indexing.html#returning-a-view-versus-a-copy\n",
      "  \"\"\"\n"
     ]
    }
   ],
   "source": [
    "for i in range(len(final_test)):\n",
    "    new_lis = []\n",
    "    for j in range(len(final_test[\"predicted_id\"][i])):\n",
    "        new_lis = new_lis + dic[final_test[\"predicted_id\"][i][j]]\n",
    "    final_test[\"predicted_cat\"][i] = list(set(new_lis))"
   ]
  },
  {
   "cell_type": "code",
   "execution_count": 147,
   "metadata": {
    "execution": {
     "iopub.execute_input": "2025-02-05T22:31:55.662311Z",
     "iopub.status.busy": "2025-02-05T22:31:55.662052Z",
     "iopub.status.idle": "2025-02-05T22:31:55.667481Z",
     "shell.execute_reply": "2025-02-05T22:31:55.666437Z",
     "shell.execute_reply.started": "2025-02-05T22:31:55.662278Z"
    },
    "trusted": true
   },
   "outputs": [],
   "source": [
    "def jaccard_similarity(list1, list2):\n",
    "    intersection = len(list(set(list1).intersection(list2)))\n",
    "    union = (len(set(list1)) + len(set(list2))) - intersection\n",
    "    return float(intersection) / union"
   ]
  },
  {
   "cell_type": "code",
   "execution_count": 148,
   "metadata": {
    "execution": {
     "iopub.execute_input": "2025-02-05T22:31:55.671001Z",
     "iopub.status.busy": "2025-02-05T22:31:55.670618Z",
     "iopub.status.idle": "2025-02-05T22:31:55.720688Z",
     "shell.execute_reply": "2025-02-05T22:31:55.719736Z",
     "shell.execute_reply.started": "2025-02-05T22:31:55.670949Z"
    },
    "trusted": true
   },
   "outputs": [
    {
     "data": {
      "text/html": [
       "<div>\n",
       "<style scoped>\n",
       "    .dataframe tbody tr th:only-of-type {\n",
       "        vertical-align: middle;\n",
       "    }\n",
       "\n",
       "    .dataframe tbody tr th {\n",
       "        vertical-align: top;\n",
       "    }\n",
       "\n",
       "    .dataframe thead th {\n",
       "        text-align: right;\n",
       "    }\n",
       "</style>\n",
       "<table border=\"1\" class=\"dataframe\">\n",
       "  <thead>\n",
       "    <tr style=\"text-align: right;\">\n",
       "      <th></th>\n",
       "      <th>user_id</th>\n",
       "      <th>pratilipi_id</th>\n",
       "      <th>category_name</th>\n",
       "      <th>predicted_id</th>\n",
       "      <th>predicted_cat</th>\n",
       "    </tr>\n",
       "  </thead>\n",
       "  <tbody>\n",
       "    <tr>\n",
       "      <th>0</th>\n",
       "      <td>3260275089121956</td>\n",
       "      <td>[1377786225517713, 1377786225517713, 137778622...</td>\n",
       "      <td>[romance, entertainment, entertainment, romanc...</td>\n",
       "      <td>[1377786220244992, 1377786228274181, 137778622...</td>\n",
       "      <td>[swahindi2, erotica, women, entertainment, nov...</td>\n",
       "    </tr>\n",
       "    <tr>\n",
       "      <th>1</th>\n",
       "      <td>3263998672675492</td>\n",
       "      <td>[1377786227504834, 1377786227504834, 137778622...</td>\n",
       "      <td>[romance, novels, family, romance, novels, fam...</td>\n",
       "      <td>[1377786227037698, 1377786225941509, 137778622...</td>\n",
       "      <td>[suspense, swahindi2, comedy, webseries, premk...</td>\n",
       "    </tr>\n",
       "    <tr>\n",
       "      <th>2</th>\n",
       "      <td>3264294598124196</td>\n",
       "      <td>[1377786224259805, 1377786224259805, 137778622...</td>\n",
       "      <td>[suspense, action-and-adventure, romance, acti...</td>\n",
       "      <td>[1377786227292678, 1377786226801685, 137778622...</td>\n",
       "      <td>[comedy, swahindi2, women, entertainment, nove...</td>\n",
       "    </tr>\n",
       "    <tr>\n",
       "      <th>3</th>\n",
       "      <td>3264359729373860</td>\n",
       "      <td>[1377786217482504, 1377786217482504, 137778621...</td>\n",
       "      <td>[suspense, novels, romance, suspense, romance,...</td>\n",
       "      <td>[1377786219134467, 1377786217989124, 137778621...</td>\n",
       "      <td>[swahindi2, pravasi-sahitya, women, entertainm...</td>\n",
       "    </tr>\n",
       "    <tr>\n",
       "      <th>4</th>\n",
       "      <td>3267248272614052</td>\n",
       "      <td>[1377786226443381, 1377786226443381, 137778622...</td>\n",
       "      <td>[family, moral-inspiring, romance, moral-inspi...</td>\n",
       "      <td>[1377786225743873, 1377786226507272, 137778622...</td>\n",
       "      <td>[swahindi2, women, entertainment, novels, soci...</td>\n",
       "    </tr>\n",
       "  </tbody>\n",
       "</table>\n",
       "</div>"
      ],
      "text/plain": [
       "            user_id                                       pratilipi_id  \\\n",
       "0  3260275089121956  [1377786225517713, 1377786225517713, 137778622...   \n",
       "1  3263998672675492  [1377786227504834, 1377786227504834, 137778622...   \n",
       "2  3264294598124196  [1377786224259805, 1377786224259805, 137778622...   \n",
       "3  3264359729373860  [1377786217482504, 1377786217482504, 137778621...   \n",
       "4  3267248272614052  [1377786226443381, 1377786226443381, 137778622...   \n",
       "\n",
       "                                       category_name  \\\n",
       "0  [romance, entertainment, entertainment, romanc...   \n",
       "1  [romance, novels, family, romance, novels, fam...   \n",
       "2  [suspense, action-and-adventure, romance, acti...   \n",
       "3  [suspense, novels, romance, suspense, romance,...   \n",
       "4  [family, moral-inspiring, romance, moral-inspi...   \n",
       "\n",
       "                                        predicted_id  \\\n",
       "0  [1377786220244992, 1377786228274181, 137778622...   \n",
       "1  [1377786227037698, 1377786225941509, 137778622...   \n",
       "2  [1377786227292678, 1377786226801685, 137778622...   \n",
       "3  [1377786219134467, 1377786217989124, 137778621...   \n",
       "4  [1377786225743873, 1377786226507272, 137778622...   \n",
       "\n",
       "                                       predicted_cat  \n",
       "0  [swahindi2, erotica, women, entertainment, nov...  \n",
       "1  [suspense, swahindi2, comedy, webseries, premk...  \n",
       "2  [comedy, swahindi2, women, entertainment, nove...  \n",
       "3  [swahindi2, pravasi-sahitya, women, entertainm...  \n",
       "4  [swahindi2, women, entertainment, novels, soci...  "
      ]
     },
     "execution_count": 148,
     "metadata": {},
     "output_type": "execute_result"
    }
   ],
   "source": [
    "final_test.head()\n"
   ]
  },
  {
   "cell_type": "code",
   "execution_count": 149,
   "metadata": {
    "execution": {
     "iopub.execute_input": "2025-02-05T22:31:55.722606Z",
     "iopub.status.busy": "2025-02-05T22:31:55.722254Z",
     "iopub.status.idle": "2025-02-05T22:31:55.761813Z",
     "shell.execute_reply": "2025-02-05T22:31:55.760897Z",
     "shell.execute_reply.started": "2025-02-05T22:31:55.722572Z"
    },
    "trusted": true
   },
   "outputs": [],
   "source": [
    "final_test[\"jac_score\"] = final_test.apply(lambda x : jaccard_similarity(x[\"pratilipi_id\"],x[\"predicted_id\"]),axis = 1)"
   ]
  },
  {
   "cell_type": "code",
   "execution_count": 150,
   "metadata": {
    "execution": {
     "iopub.execute_input": "2025-02-05T22:31:55.763353Z",
     "iopub.status.busy": "2025-02-05T22:31:55.763075Z",
     "iopub.status.idle": "2025-02-05T22:31:55.770333Z",
     "shell.execute_reply": "2025-02-05T22:31:55.769320Z",
     "shell.execute_reply.started": "2025-02-05T22:31:55.763307Z"
    },
    "trusted": true
   },
   "outputs": [
    {
     "data": {
      "text/plain": [
       "0.006726609713610602"
      ]
     },
     "execution_count": 150,
     "metadata": {},
     "output_type": "execute_result"
    }
   ],
   "source": [
    "final_test[\"jac_score\"].mean()\n"
   ]
  },
  {
   "cell_type": "code",
   "execution_count": 151,
   "metadata": {
    "execution": {
     "iopub.execute_input": "2025-02-05T22:31:55.771901Z",
     "iopub.status.busy": "2025-02-05T22:31:55.771592Z",
     "iopub.status.idle": "2025-02-05T22:31:55.807111Z",
     "shell.execute_reply": "2025-02-05T22:31:55.806168Z",
     "shell.execute_reply.started": "2025-02-05T22:31:55.771863Z"
    },
    "trusted": true
   },
   "outputs": [],
   "source": [
    "final_test[\"cat_jac_score\"] = final_test.apply(lambda x : jaccard_similarity(x[\"category_name\"],x[\"predicted_cat\"]),axis = 1)"
   ]
  },
  {
   "cell_type": "code",
   "execution_count": 152,
   "metadata": {
    "execution": {
     "iopub.execute_input": "2025-02-05T22:31:55.808508Z",
     "iopub.status.busy": "2025-02-05T22:31:55.808272Z",
     "iopub.status.idle": "2025-02-05T22:31:55.816302Z",
     "shell.execute_reply": "2025-02-05T22:31:55.815327Z",
     "shell.execute_reply.started": "2025-02-05T22:31:55.808478Z"
    },
    "trusted": true
   },
   "outputs": [
    {
     "data": {
      "text/plain": [
       "0.2296869079469922"
      ]
     },
     "execution_count": 152,
     "metadata": {},
     "output_type": "execute_result"
    }
   ],
   "source": [
    "final_test[\"cat_jac_score\"].mean()\n"
   ]
  },
  {
   "cell_type": "code",
   "execution_count": 153,
   "metadata": {
    "execution": {
     "iopub.execute_input": "2025-02-05T22:31:55.817874Z",
     "iopub.status.busy": "2025-02-05T22:31:55.817572Z",
     "iopub.status.idle": "2025-02-05T22:31:55.851397Z",
     "shell.execute_reply": "2025-02-05T22:31:55.850418Z",
     "shell.execute_reply.started": "2025-02-05T22:31:55.817839Z"
    },
    "trusted": true
   },
   "outputs": [
    {
     "data": {
      "text/html": [
       "<div>\n",
       "<style scoped>\n",
       "    .dataframe tbody tr th:only-of-type {\n",
       "        vertical-align: middle;\n",
       "    }\n",
       "\n",
       "    .dataframe tbody tr th {\n",
       "        vertical-align: top;\n",
       "    }\n",
       "\n",
       "    .dataframe thead th {\n",
       "        text-align: right;\n",
       "    }\n",
       "</style>\n",
       "<table border=\"1\" class=\"dataframe\">\n",
       "  <thead>\n",
       "    <tr style=\"text-align: right;\">\n",
       "      <th></th>\n",
       "      <th>user_id</th>\n",
       "      <th>pratilipi_id</th>\n",
       "      <th>category_name</th>\n",
       "      <th>predicted_id</th>\n",
       "      <th>predicted_cat</th>\n",
       "      <th>jac_score</th>\n",
       "      <th>cat_jac_score</th>\n",
       "    </tr>\n",
       "  </thead>\n",
       "  <tbody>\n",
       "    <tr>\n",
       "      <th>0</th>\n",
       "      <td>3260275089121956</td>\n",
       "      <td>[1377786225517713, 1377786225517713, 137778622...</td>\n",
       "      <td>[romance, entertainment, entertainment, romanc...</td>\n",
       "      <td>[1377786220244992, 1377786228274181, 137778622...</td>\n",
       "      <td>[swahindi2, erotica, women, entertainment, nov...</td>\n",
       "      <td>0.000000</td>\n",
       "      <td>0.095238</td>\n",
       "    </tr>\n",
       "    <tr>\n",
       "      <th>1</th>\n",
       "      <td>3263998672675492</td>\n",
       "      <td>[1377786227504834, 1377786227504834, 137778622...</td>\n",
       "      <td>[romance, novels, family, romance, novels, fam...</td>\n",
       "      <td>[1377786227037698, 1377786225941509, 137778622...</td>\n",
       "      <td>[suspense, swahindi2, comedy, webseries, premk...</td>\n",
       "      <td>0.018349</td>\n",
       "      <td>0.315789</td>\n",
       "    </tr>\n",
       "    <tr>\n",
       "      <th>2</th>\n",
       "      <td>3264294598124196</td>\n",
       "      <td>[1377786224259805, 1377786224259805, 137778622...</td>\n",
       "      <td>[suspense, action-and-adventure, romance, acti...</td>\n",
       "      <td>[1377786227292678, 1377786226801685, 137778622...</td>\n",
       "      <td>[comedy, swahindi2, women, entertainment, nove...</td>\n",
       "      <td>0.000000</td>\n",
       "      <td>0.130435</td>\n",
       "    </tr>\n",
       "    <tr>\n",
       "      <th>3</th>\n",
       "      <td>3264359729373860</td>\n",
       "      <td>[1377786217482504, 1377786217482504, 137778621...</td>\n",
       "      <td>[suspense, novels, romance, suspense, romance,...</td>\n",
       "      <td>[1377786219134467, 1377786217989124, 137778621...</td>\n",
       "      <td>[swahindi2, pravasi-sahitya, women, entertainm...</td>\n",
       "      <td>0.000000</td>\n",
       "      <td>0.115385</td>\n",
       "    </tr>\n",
       "    <tr>\n",
       "      <th>4</th>\n",
       "      <td>3267248272614052</td>\n",
       "      <td>[1377786226443381, 1377786226443381, 137778622...</td>\n",
       "      <td>[family, moral-inspiring, romance, moral-inspi...</td>\n",
       "      <td>[1377786225743873, 1377786226507272, 137778622...</td>\n",
       "      <td>[swahindi2, women, entertainment, novels, soci...</td>\n",
       "      <td>0.000000</td>\n",
       "      <td>0.153846</td>\n",
       "    </tr>\n",
       "  </tbody>\n",
       "</table>\n",
       "</div>"
      ],
      "text/plain": [
       "            user_id                                       pratilipi_id  \\\n",
       "0  3260275089121956  [1377786225517713, 1377786225517713, 137778622...   \n",
       "1  3263998672675492  [1377786227504834, 1377786227504834, 137778622...   \n",
       "2  3264294598124196  [1377786224259805, 1377786224259805, 137778622...   \n",
       "3  3264359729373860  [1377786217482504, 1377786217482504, 137778621...   \n",
       "4  3267248272614052  [1377786226443381, 1377786226443381, 137778622...   \n",
       "\n",
       "                                       category_name  \\\n",
       "0  [romance, entertainment, entertainment, romanc...   \n",
       "1  [romance, novels, family, romance, novels, fam...   \n",
       "2  [suspense, action-and-adventure, romance, acti...   \n",
       "3  [suspense, novels, romance, suspense, romance,...   \n",
       "4  [family, moral-inspiring, romance, moral-inspi...   \n",
       "\n",
       "                                        predicted_id  \\\n",
       "0  [1377786220244992, 1377786228274181, 137778622...   \n",
       "1  [1377786227037698, 1377786225941509, 137778622...   \n",
       "2  [1377786227292678, 1377786226801685, 137778622...   \n",
       "3  [1377786219134467, 1377786217989124, 137778621...   \n",
       "4  [1377786225743873, 1377786226507272, 137778622...   \n",
       "\n",
       "                                       predicted_cat  jac_score  cat_jac_score  \n",
       "0  [swahindi2, erotica, women, entertainment, nov...   0.000000       0.095238  \n",
       "1  [suspense, swahindi2, comedy, webseries, premk...   0.018349       0.315789  \n",
       "2  [comedy, swahindi2, women, entertainment, nove...   0.000000       0.130435  \n",
       "3  [swahindi2, pravasi-sahitya, women, entertainm...   0.000000       0.115385  \n",
       "4  [swahindi2, women, entertainment, novels, soci...   0.000000       0.153846  "
      ]
     },
     "execution_count": 153,
     "metadata": {},
     "output_type": "execute_result"
    }
   ],
   "source": [
    "final_test.head()\n"
   ]
  },
  {
   "cell_type": "code",
   "execution_count": 154,
   "metadata": {
    "execution": {
     "iopub.execute_input": "2025-02-05T22:31:55.852915Z",
     "iopub.status.busy": "2025-02-05T22:31:55.852603Z",
     "iopub.status.idle": "2025-02-05T22:31:55.941125Z",
     "shell.execute_reply": "2025-02-05T22:31:55.940216Z",
     "shell.execute_reply.started": "2025-02-05T22:31:55.852883Z"
    },
    "trusted": true
   },
   "outputs": [],
   "source": [
    "final_test.to_csv(\"Recommendation.csv\",index = False)\n"
   ]
  },
  {
   "cell_type": "code",
   "execution_count": null,
   "metadata": {
    "trusted": true
   },
   "outputs": [],
   "source": []
  }
 ],
 "metadata": {
  "kaggle": {
   "accelerator": "none",
   "dataSources": [
    {
     "datasetId": 2042478,
     "sourceId": 3387902,
     "sourceType": "datasetVersion"
    },
    {
     "datasetId": 6611217,
     "sourceId": 10673521,
     "sourceType": "datasetVersion"
    },
    {
     "datasetId": 6611246,
     "sourceId": 10673554,
     "sourceType": "datasetVersion"
    }
   ],
   "dockerImageVersionId": 30176,
   "isGpuEnabled": false,
   "isInternetEnabled": false,
   "language": "python",
   "sourceType": "notebook"
  },
  "kernelspec": {
   "display_name": "Python 3",
   "language": "python",
   "name": "python3"
  },
  "language_info": {
   "codemirror_mode": {
    "name": "ipython",
    "version": 3
   },
   "file_extension": ".py",
   "mimetype": "text/x-python",
   "name": "python",
   "nbconvert_exporter": "python",
   "pygments_lexer": "ipython3",
   "version": "3.7.12"
  }
 },
 "nbformat": 4,
 "nbformat_minor": 4
}
